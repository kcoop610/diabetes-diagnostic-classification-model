{
 "cells": [
  {
   "cell_type": "markdown",
   "metadata": {},
   "source": [
    "# Predicting Diabetes Diagnosis"
   ]
  },
  {
   "cell_type": "markdown",
   "metadata": {},
   "source": [
    "Per [the Mayo Clinic](https://www.mayoclinic.org/diseases-conditions/diabetes/diagnosis-treatment/drc-20371451#:~:text=A%20fasting%20blood%20sugar%20level,separate%20tests%2C%20you%20have%20diabetes.), the Glycated Hemoglobin (A1C) test indicates a person's average blood sugar level for the past two to three months. It measures the percentage of blood sugar attached to hemoglobin, the oxygen-carrying protein in red blood cells. This test is a blood test which does not require fasting.\n",
    "\n",
    "The higher your blood sugar levels, the more hemoglobin you'll have with sugar attached. \n",
    "* A1C level of 6.5% or higher on two separate tests indicates that you have diabetes\n",
    "* A1C between 5.7 and 6.4 % indicates prediabetes\n",
    "* A1C below 5.7 is considered normal"
   ]
  },
  {
   "cell_type": "markdown",
   "metadata": {},
   "source": [
    "# Data Source\n",
    "\n",
    "## National Health and Nutrition Examination Survey (NHANES)\n",
    "\n",
    "The [National Health and Nutrition Examination Survey (NHANES)](https://www.cdc.gov/nchs/nhanes/about_nhanes.htm) is a program of continuous studies designed to assess the health and nutritional status of adults and children in the United States. The survey examines a nationally representative sample of about 5,000 persons located across the country each year. The survey is unique in that it combines interviews and physical examinations. The NHANES interview includes demographic, socioeconomic, dietary, and health-related questions. The examination component consists of medical, dental, and physiological measurements, as well as laboratory tests administered by highly trained medical personnel.\n",
    "\n",
    "NHANES is a major program of the National Center for Health Statistics (NCHS). NCHS is part of the Centers for Disease Control and Prevention (CDC) and has the responsibility for producing vital and health statistics for the Nation.\n",
    "\n",
    "## Subset for Predicting Diabetes\n",
    "\n",
    "While NHANES collects a wealth of demographic, laboratory, and medical data, this analysis and predictive model uses a subset comprised of:\n",
    "\n",
    "* Demographics - collected by trained interviewers using Computer-Assisted Personal Interview (CAPI) system in either English or Spanish, sometimes with assistance from an interpreter. Individuals 16 years and older and emancipated minors were interviewed directly; a proxy provided information for survey participants who were under 16 and for participants who could not answer the questions themselves.\n",
    "\n",
    "* Body Measures - measured by trained health technicians in the Mobile Examination Center (MEC). \n",
    "\n",
    "* Smoking Survey\n",
    "\n",
    "* Physical Activity Survey\n",
    "\n",
    "* Blood Pressure\n",
    "\n",
    "* Total Cholesterol\n",
    "\n",
    "* A1C\n",
    "\n",
    "* Insulin\n"
   ]
  },
  {
   "cell_type": "code",
   "execution_count": 1,
   "metadata": {},
   "outputs": [
    {
     "data": {
      "text/html": [
       "<style>\n",
       "body {\n",
       "    font-family:'Segoe UI', Tahoma, Geneva, Verdana, sans-serif;\n",
       "    background-color: rgb(231, 231, 231);\n",
       "}\n",
       "h1 {\n",
       "    color: white;\n",
       "    background-color: rgb(108, 30, 185);\n",
       "    padding: 3mm;\n",
       "    font-size: x-large;\n",
       "}\n",
       "h2 {\n",
       "    color: mediumpurple;\n",
       "}\n",
       "\n",
       "h3 {\n",
       "    color: cornflowerblue\n",
       "}\n",
       "\n",
       "h4 {\n",
       "    color: rgb(99, 127, 202)\n",
       "}\n",
       "\n",
       "</style>"
      ],
      "text/plain": [
       "<IPython.core.display.HTML object>"
      ]
     },
     "execution_count": 1,
     "metadata": {},
     "output_type": "execute_result"
    }
   ],
   "source": [
    "import pandas as pd\n",
    "pd.set_option('display.max_columns', 0)\n",
    "import numpy as np\n",
    "import matplotlib.pyplot as plt\n",
    "import seaborn as sns\n",
    "%matplotlib inline\n",
    "\n",
    "# styling notebook\n",
    "from IPython.core.display import HTML\n",
    "def css_styling():\n",
    "    styles = open(\"./styles/custom.css\", \"r\").read()\n",
    "    return HTML(styles)\n",
    "css_styling()"
   ]
  },
  {
   "cell_type": "code",
   "execution_count": 12,
   "metadata": {},
   "outputs": [],
   "source": [
    "demographic = pd.read_sas('./data/NHANES2017-2018_demographic.xpt')\n",
    "insurance = pd.read_sas('./data/NHANES2017-2018_insurance.xpt')\n",
    "measures = pd.read_sas('./data/NHANES2017-2018_body_measures.xpt')\n",
    "activity = pd.read_sas('./data/NHANES2017-2018_physical_activity.xpt')\n",
    "smoking = pd.read_sas('./data/NHANES2017-2018_smoking.xpt')\n",
    "\n",
    "a1c = pd.read_sas('./data/NHANES2017-2018_a1c.xpt')\n",
    "\n",
    "# Datasets considered, but not used for this model\n",
    "# bp = pd.read_sas('./data/NHANES2017-2018_blood_pressure_oscillometric.xpt')\n",
    "# chol_total = pd.read_sas('./data/NHANES2017-2018_total_cholesterol.xpt')\n",
    "# chol_hdl = pd.read_sas('./data/NHANES2017-2018_hdl_cholesterol.xpt')\n",
    "# chol_ldl = pd.read_sas('./data/NHANES2017-2018_ldl_cholesterol.xpt')\n",
    "# insulin = pd.read_sas('./data/NHANES2017-2018_insulin.xpt')"
   ]
  },
  {
   "cell_type": "code",
   "execution_count": 13,
   "metadata": {
    "scrolled": true
   },
   "outputs": [],
   "source": [
    "data = [a1c, demographic, insurance, measures, activity, smoking]"
   ]
  },
  {
   "cell_type": "code",
   "execution_count": 14,
   "metadata": {
    "scrolled": true
   },
   "outputs": [
    {
     "name": "stdout",
     "output_type": "stream",
     "text": [
      "<class 'pandas.core.frame.DataFrame'>\n",
      "Int64Index: 6401 entries, 93705 to 102956\n",
      "Data columns (total 1 columns):\n",
      " #   Column  Non-Null Count  Dtype  \n",
      "---  ------  --------------  -----  \n",
      " 0   LBXGH   6045 non-null   float64\n",
      "dtypes: float64(1)\n",
      "memory usage: 100.0 KB\n"
     ]
    },
    {
     "data": {
      "text/plain": [
       "None"
      ]
     },
     "metadata": {},
     "output_type": "display_data"
    },
    {
     "name": "stdout",
     "output_type": "stream",
     "text": [
      "***************************************************************************\n",
      "<class 'pandas.core.frame.DataFrame'>\n",
      "Int64Index: 9254 entries, 93703 to 102956\n",
      "Data columns (total 45 columns):\n",
      " #   Column    Non-Null Count  Dtype  \n",
      "---  ------    --------------  -----  \n",
      " 0   SDDSRVYR  9254 non-null   float64\n",
      " 1   RIDSTATR  9254 non-null   float64\n",
      " 2   RIAGENDR  9254 non-null   float64\n",
      " 3   RIDAGEYR  9254 non-null   float64\n",
      " 4   RIDAGEMN  597 non-null    float64\n",
      " 5   RIDRETH1  9254 non-null   float64\n",
      " 6   RIDRETH3  9254 non-null   float64\n",
      " 7   RIDEXMON  8704 non-null   float64\n",
      " 8   RIDEXAGM  3433 non-null   float64\n",
      " 9   DMQMILIZ  6004 non-null   float64\n",
      " 10  DMQADFC   561 non-null    float64\n",
      " 11  DMDBORN4  9254 non-null   float64\n",
      " 12  DMDCITZN  9251 non-null   float64\n",
      " 13  DMDYRSUS  1948 non-null   float64\n",
      " 14  DMDEDUC3  2306 non-null   float64\n",
      " 15  DMDEDUC2  5569 non-null   float64\n",
      " 16  DMDMARTL  5569 non-null   float64\n",
      " 17  RIDEXPRG  1110 non-null   float64\n",
      " 18  SIALANG   9254 non-null   float64\n",
      " 19  SIAPROXY  9254 non-null   float64\n",
      " 20  SIAINTRP  9254 non-null   float64\n",
      " 21  FIALANG   8780 non-null   float64\n",
      " 22  FIAPROXY  8780 non-null   float64\n",
      " 23  FIAINTRP  8780 non-null   float64\n",
      " 24  MIALANG   6684 non-null   float64\n",
      " 25  MIAPROXY  6684 non-null   float64\n",
      " 26  MIAINTRP  6684 non-null   float64\n",
      " 27  AIALANGA  4977 non-null   float64\n",
      " 28  DMDHHSIZ  9254 non-null   float64\n",
      " 29  DMDFMSIZ  9254 non-null   float64\n",
      " 30  DMDHHSZA  9254 non-null   float64\n",
      " 31  DMDHHSZB  9254 non-null   float64\n",
      " 32  DMDHHSZE  9254 non-null   float64\n",
      " 33  DMDHRGND  9254 non-null   float64\n",
      " 34  DMDHRAGZ  9254 non-null   float64\n",
      " 35  DMDHREDZ  8764 non-null   float64\n",
      " 36  DMDHRMAZ  9063 non-null   float64\n",
      " 37  DMDHSEDZ  4751 non-null   float64\n",
      " 38  WTINT2YR  9254 non-null   float64\n",
      " 39  WTMEC2YR  9254 non-null   float64\n",
      " 40  SDMVPSU   9254 non-null   float64\n",
      " 41  SDMVSTRA  9254 non-null   float64\n",
      " 42  INDHHIN2  8763 non-null   float64\n",
      " 43  INDFMIN2  8780 non-null   float64\n",
      " 44  INDFMPIR  8023 non-null   float64\n",
      "dtypes: float64(45)\n",
      "memory usage: 3.2 MB\n"
     ]
    },
    {
     "data": {
      "text/plain": [
       "None"
      ]
     },
     "metadata": {},
     "output_type": "display_data"
    },
    {
     "name": "stdout",
     "output_type": "stream",
     "text": [
      "***************************************************************************\n",
      "<class 'pandas.core.frame.DataFrame'>\n",
      "Int64Index: 9254 entries, 93703 to 102956\n",
      "Data columns (total 15 columns):\n",
      " #   Column    Non-Null Count  Dtype  \n",
      "---  ------    --------------  -----  \n",
      " 0   HIQ011    9254 non-null   float64\n",
      " 1   HIQ031A   4254 non-null   float64\n",
      " 2   HIQ031B   1582 non-null   float64\n",
      " 3   HIQ031C   58 non-null     float64\n",
      " 4   HIQ031D   2527 non-null   float64\n",
      " 5   HIQ031E   93 non-null     float64\n",
      " 6   HIQ031F   295 non-null    float64\n",
      " 7   HIQ031H   533 non-null    float64\n",
      " 8   HIQ031I   301 non-null    float64\n",
      " 9   HIQ031J   708 non-null    float64\n",
      " 10  HIQ031AA  1 non-null      float64\n",
      " 11  HIQ260    172 non-null    float64\n",
      " 12  HIQ105    1141 non-null   float64\n",
      " 13  HIQ270    8171 non-null   float64\n",
      " 14  HIQ210    8171 non-null   float64\n",
      "dtypes: float64(15)\n",
      "memory usage: 1.1 MB\n"
     ]
    },
    {
     "data": {
      "text/plain": [
       "None"
      ]
     },
     "metadata": {},
     "output_type": "display_data"
    },
    {
     "name": "stdout",
     "output_type": "stream",
     "text": [
      "***************************************************************************\n",
      "<class 'pandas.core.frame.DataFrame'>\n",
      "Int64Index: 8704 entries, 93703 to 102956\n",
      "Data columns (total 20 columns):\n",
      " #   Column    Non-Null Count  Dtype  \n",
      "---  ------    --------------  -----  \n",
      " 0   BMDSTATS  8704 non-null   float64\n",
      " 1   BMXWT     8580 non-null   float64\n",
      " 2   BMIWT     416 non-null    float64\n",
      " 3   BMXRECUM  894 non-null    float64\n",
      " 4   BMIRECUM  24 non-null     float64\n",
      " 5   BMXHEAD   194 non-null    float64\n",
      " 6   BMIHEAD   0 non-null      float64\n",
      " 7   BMXHT     8016 non-null   float64\n",
      " 8   BMIHT     99 non-null     float64\n",
      " 9   BMXBMI    8005 non-null   float64\n",
      " 10  BMXLEG    6703 non-null   float64\n",
      " 11  BMILEG    334 non-null    float64\n",
      " 12  BMXARML   8177 non-null   float64\n",
      " 13  BMIARML   347 non-null    float64\n",
      " 14  BMXARMC   8173 non-null   float64\n",
      " 15  BMIARMC   350 non-null    float64\n",
      " 16  BMXWAIST  7601 non-null   float64\n",
      " 17  BMIWAIST  437 non-null    float64\n",
      " 18  BMXHIP    6039 non-null   float64\n",
      " 19  BMIHIP    270 non-null    float64\n",
      "dtypes: float64(20)\n",
      "memory usage: 1.4 MB\n"
     ]
    },
    {
     "data": {
      "text/plain": [
       "None"
      ]
     },
     "metadata": {},
     "output_type": "display_data"
    },
    {
     "name": "stdout",
     "output_type": "stream",
     "text": [
      "***************************************************************************\n",
      "<class 'pandas.core.frame.DataFrame'>\n",
      "Int64Index: 5856 entries, 93705 to 102956\n",
      "Data columns (total 16 columns):\n",
      " #   Column  Non-Null Count  Dtype  \n",
      "---  ------  --------------  -----  \n",
      " 0   PAQ605  5856 non-null   float64\n",
      " 1   PAQ610  1389 non-null   float64\n",
      " 2   PAD615  1381 non-null   float64\n",
      " 3   PAQ620  5856 non-null   float64\n",
      " 4   PAQ625  2439 non-null   float64\n",
      " 5   PAD630  2426 non-null   float64\n",
      " 6   PAQ635  5856 non-null   float64\n",
      " 7   PAQ640  1439 non-null   float64\n",
      " 8   PAD645  1430 non-null   float64\n",
      " 9   PAQ650  5856 non-null   float64\n",
      " 10  PAQ655  1434 non-null   float64\n",
      " 11  PAD660  1431 non-null   float64\n",
      " 12  PAQ665  5856 non-null   float64\n",
      " 13  PAQ670  2308 non-null   float64\n",
      " 14  PAD675  2301 non-null   float64\n",
      " 15  PAD680  5846 non-null   float64\n",
      "dtypes: float64(16)\n",
      "memory usage: 777.8 KB\n"
     ]
    },
    {
     "data": {
      "text/plain": [
       "None"
      ]
     },
     "metadata": {},
     "output_type": "display_data"
    },
    {
     "name": "stdout",
     "output_type": "stream",
     "text": [
      "***************************************************************************\n",
      "<class 'pandas.core.frame.DataFrame'>\n",
      "Int64Index: 6724 entries, 93705 to 102956\n",
      "Data columns (total 36 columns):\n",
      " #   Column    Non-Null Count  Dtype  \n",
      "---  ------    --------------  -----  \n",
      " 0   SMQ020    5856 non-null   float64\n",
      " 1   SMD030    2359 non-null   float64\n",
      " 2   SMQ040    2359 non-null   float64\n",
      " 3   SMQ050Q   1338 non-null   float64\n",
      " 4   SMQ050U   1255 non-null   float64\n",
      " 5   SMD057    1338 non-null   float64\n",
      " 6   SMQ078    793 non-null    float64\n",
      " 7   SMD641    1063 non-null   float64\n",
      " 8   SMD650    1022 non-null   float64\n",
      " 9   SMD093    1021 non-null   float64\n",
      " 10  SMDUPCA   6724 non-null   object \n",
      " 11  SMD100BR  6724 non-null   object \n",
      " 12  SMD100FL  929 non-null    float64\n",
      " 13  SMD100MN  929 non-null    float64\n",
      " 14  SMD100LN  929 non-null    float64\n",
      " 15  SMD100TR  695 non-null    float64\n",
      " 16  SMD100NI  695 non-null    float64\n",
      " 17  SMD100CO  695 non-null    float64\n",
      " 18  SMQ621    821 non-null    float64\n",
      " 19  SMD630    42 non-null     float64\n",
      " 20  SMQ661    14 non-null     float64\n",
      " 21  SMQ665A   3 non-null      float64\n",
      " 22  SMQ665B   1 non-null      float64\n",
      " 23  SMQ665C   4 non-null      float64\n",
      " 24  SMQ665D   2 non-null      float64\n",
      " 25  SMQ670    1035 non-null   float64\n",
      " 26  SMQ848    528 non-null    float64\n",
      " 27  SMQ852Q   522 non-null    float64\n",
      " 28  SMQ852U   519 non-null    float64\n",
      " 29  SMQ890    5856 non-null   float64\n",
      " 30  SMQ895    2095 non-null   float64\n",
      " 31  SMQ900    5856 non-null   float64\n",
      " 32  SMQ905    1150 non-null   float64\n",
      " 33  SMQ910    5856 non-null   float64\n",
      " 34  SMQ915    861 non-null    float64\n",
      " 35  SMAQUEX2  6724 non-null   float64\n",
      "dtypes: float64(34), object(2)\n",
      "memory usage: 1.9+ MB\n"
     ]
    },
    {
     "data": {
      "text/plain": [
       "None"
      ]
     },
     "metadata": {},
     "output_type": "display_data"
    },
    {
     "name": "stdout",
     "output_type": "stream",
     "text": [
      "***************************************************************************\n"
     ]
    }
   ],
   "source": [
    "for f in data:\n",
    "    f.SEQN = f.SEQN.map(lambda x: int(x))\n",
    "    f.set_index('SEQN', inplace=True)\n",
    "    display(f.info())\n",
    "    print('*****'*15)"
   ]
  },
  {
   "cell_type": "markdown",
   "metadata": {},
   "source": [
    "### Demographics \n",
    "\n",
    "[View source for additional description and details](https://wwwn.cdc.gov/Nchs/Nhanes/2017-2018/DEMO_J.htm)\n",
    "\n",
    "Comprised of individual, family, and household-level information. "
   ]
  },
  {
   "cell_type": "code",
   "execution_count": 15,
   "metadata": {
    "scrolled": true
   },
   "outputs": [
    {
     "data": {
      "text/html": [
       "<div>\n",
       "<style scoped>\n",
       "    .dataframe tbody tr th:only-of-type {\n",
       "        vertical-align: middle;\n",
       "    }\n",
       "\n",
       "    .dataframe tbody tr th {\n",
       "        vertical-align: top;\n",
       "    }\n",
       "\n",
       "    .dataframe thead th {\n",
       "        text-align: right;\n",
       "    }\n",
       "</style>\n",
       "<table border=\"1\" class=\"dataframe\">\n",
       "  <thead>\n",
       "    <tr style=\"text-align: right;\">\n",
       "      <th></th>\n",
       "      <th>SDDSRVYR</th>\n",
       "      <th>RIDSTATR</th>\n",
       "      <th>RIAGENDR</th>\n",
       "      <th>RIDAGEYR</th>\n",
       "      <th>RIDAGEMN</th>\n",
       "      <th>RIDRETH1</th>\n",
       "      <th>RIDRETH3</th>\n",
       "      <th>RIDEXMON</th>\n",
       "      <th>RIDEXAGM</th>\n",
       "      <th>DMQMILIZ</th>\n",
       "      <th>DMQADFC</th>\n",
       "      <th>DMDBORN4</th>\n",
       "      <th>DMDCITZN</th>\n",
       "      <th>DMDYRSUS</th>\n",
       "      <th>DMDEDUC3</th>\n",
       "      <th>DMDEDUC2</th>\n",
       "      <th>DMDMARTL</th>\n",
       "      <th>RIDEXPRG</th>\n",
       "      <th>SIALANG</th>\n",
       "      <th>SIAPROXY</th>\n",
       "      <th>SIAINTRP</th>\n",
       "      <th>FIALANG</th>\n",
       "      <th>FIAPROXY</th>\n",
       "      <th>FIAINTRP</th>\n",
       "      <th>MIALANG</th>\n",
       "      <th>MIAPROXY</th>\n",
       "      <th>MIAINTRP</th>\n",
       "      <th>AIALANGA</th>\n",
       "      <th>DMDHHSIZ</th>\n",
       "      <th>DMDFMSIZ</th>\n",
       "      <th>DMDHHSZA</th>\n",
       "      <th>DMDHHSZB</th>\n",
       "      <th>DMDHHSZE</th>\n",
       "      <th>DMDHRGND</th>\n",
       "      <th>DMDHRAGZ</th>\n",
       "      <th>DMDHREDZ</th>\n",
       "      <th>DMDHRMAZ</th>\n",
       "      <th>DMDHSEDZ</th>\n",
       "      <th>WTINT2YR</th>\n",
       "      <th>WTMEC2YR</th>\n",
       "      <th>SDMVPSU</th>\n",
       "      <th>SDMVSTRA</th>\n",
       "      <th>INDHHIN2</th>\n",
       "      <th>INDFMIN2</th>\n",
       "      <th>INDFMPIR</th>\n",
       "    </tr>\n",
       "  </thead>\n",
       "  <tbody>\n",
       "    <tr>\n",
       "      <th>count</th>\n",
       "      <td>9254.0</td>\n",
       "      <td>9254.0</td>\n",
       "      <td>9254.0</td>\n",
       "      <td>9254.0</td>\n",
       "      <td>597.0</td>\n",
       "      <td>9254.0</td>\n",
       "      <td>9254.0</td>\n",
       "      <td>8704.0</td>\n",
       "      <td>3433.0</td>\n",
       "      <td>6004.0</td>\n",
       "      <td>561.0</td>\n",
       "      <td>9254.0</td>\n",
       "      <td>9251.0</td>\n",
       "      <td>1948.0</td>\n",
       "      <td>2306.0</td>\n",
       "      <td>5569.0</td>\n",
       "      <td>5569.0</td>\n",
       "      <td>1110.0</td>\n",
       "      <td>9254.0</td>\n",
       "      <td>9254.0</td>\n",
       "      <td>9254.0</td>\n",
       "      <td>8780.0</td>\n",
       "      <td>8780.0</td>\n",
       "      <td>8780.0</td>\n",
       "      <td>6684.0</td>\n",
       "      <td>6684.0</td>\n",
       "      <td>6684.0</td>\n",
       "      <td>4977.0</td>\n",
       "      <td>9254.0</td>\n",
       "      <td>9254.0</td>\n",
       "      <td>9254.0</td>\n",
       "      <td>9254.0</td>\n",
       "      <td>9254.0</td>\n",
       "      <td>9254.0</td>\n",
       "      <td>9254.0</td>\n",
       "      <td>8764.0</td>\n",
       "      <td>9063.0</td>\n",
       "      <td>4751.0</td>\n",
       "      <td>9254.0</td>\n",
       "      <td>9254.0</td>\n",
       "      <td>9254.0</td>\n",
       "      <td>9254.0</td>\n",
       "      <td>8763.0</td>\n",
       "      <td>8780.0</td>\n",
       "      <td>8023.0</td>\n",
       "    </tr>\n",
       "    <tr>\n",
       "      <th>mean</th>\n",
       "      <td>10.0</td>\n",
       "      <td>1.9</td>\n",
       "      <td>1.5</td>\n",
       "      <td>34.3</td>\n",
       "      <td>10.4</td>\n",
       "      <td>3.2</td>\n",
       "      <td>3.5</td>\n",
       "      <td>1.5</td>\n",
       "      <td>107.5</td>\n",
       "      <td>1.9</td>\n",
       "      <td>1.5</td>\n",
       "      <td>1.2</td>\n",
       "      <td>1.1</td>\n",
       "      <td>9.3</td>\n",
       "      <td>6.3</td>\n",
       "      <td>3.5</td>\n",
       "      <td>2.7</td>\n",
       "      <td>2.0</td>\n",
       "      <td>1.1</td>\n",
       "      <td>1.7</td>\n",
       "      <td>2.0</td>\n",
       "      <td>1.1</td>\n",
       "      <td>2.0</td>\n",
       "      <td>2.0</td>\n",
       "      <td>1.1</td>\n",
       "      <td>2.0</td>\n",
       "      <td>2.0</td>\n",
       "      <td>1.1</td>\n",
       "      <td>3.7</td>\n",
       "      <td>3.6</td>\n",
       "      <td>0.5</td>\n",
       "      <td>0.9</td>\n",
       "      <td>0.5</td>\n",
       "      <td>1.5</td>\n",
       "      <td>2.9</td>\n",
       "      <td>2.1</td>\n",
       "      <td>1.5</td>\n",
       "      <td>2.1</td>\n",
       "      <td>34670.7</td>\n",
       "      <td>34670.7</td>\n",
       "      <td>1.5</td>\n",
       "      <td>141.0</td>\n",
       "      <td>12.5</td>\n",
       "      <td>12.2</td>\n",
       "      <td>2.4</td>\n",
       "    </tr>\n",
       "    <tr>\n",
       "      <th>std</th>\n",
       "      <td>0.0</td>\n",
       "      <td>0.2</td>\n",
       "      <td>0.5</td>\n",
       "      <td>25.5</td>\n",
       "      <td>7.1</td>\n",
       "      <td>1.3</td>\n",
       "      <td>1.7</td>\n",
       "      <td>0.5</td>\n",
       "      <td>70.6</td>\n",
       "      <td>0.3</td>\n",
       "      <td>0.6</td>\n",
       "      <td>1.6</td>\n",
       "      <td>0.5</td>\n",
       "      <td>18.6</td>\n",
       "      <td>5.8</td>\n",
       "      <td>1.2</td>\n",
       "      <td>3.1</td>\n",
       "      <td>0.4</td>\n",
       "      <td>0.3</td>\n",
       "      <td>0.5</td>\n",
       "      <td>0.2</td>\n",
       "      <td>0.3</td>\n",
       "      <td>0.0</td>\n",
       "      <td>0.2</td>\n",
       "      <td>0.3</td>\n",
       "      <td>0.1</td>\n",
       "      <td>0.1</td>\n",
       "      <td>0.4</td>\n",
       "      <td>1.7</td>\n",
       "      <td>1.8</td>\n",
       "      <td>0.8</td>\n",
       "      <td>1.1</td>\n",
       "      <td>0.8</td>\n",
       "      <td>0.5</td>\n",
       "      <td>0.8</td>\n",
       "      <td>0.7</td>\n",
       "      <td>0.7</td>\n",
       "      <td>0.7</td>\n",
       "      <td>41356.7</td>\n",
       "      <td>43344.0</td>\n",
       "      <td>0.5</td>\n",
       "      <td>4.2</td>\n",
       "      <td>17.3</td>\n",
       "      <td>17.2</td>\n",
       "      <td>1.6</td>\n",
       "    </tr>\n",
       "    <tr>\n",
       "      <th>min</th>\n",
       "      <td>10.0</td>\n",
       "      <td>1.0</td>\n",
       "      <td>1.0</td>\n",
       "      <td>0.0</td>\n",
       "      <td>0.0</td>\n",
       "      <td>1.0</td>\n",
       "      <td>1.0</td>\n",
       "      <td>1.0</td>\n",
       "      <td>0.0</td>\n",
       "      <td>1.0</td>\n",
       "      <td>1.0</td>\n",
       "      <td>1.0</td>\n",
       "      <td>1.0</td>\n",
       "      <td>1.0</td>\n",
       "      <td>0.0</td>\n",
       "      <td>1.0</td>\n",
       "      <td>1.0</td>\n",
       "      <td>1.0</td>\n",
       "      <td>1.0</td>\n",
       "      <td>1.0</td>\n",
       "      <td>1.0</td>\n",
       "      <td>1.0</td>\n",
       "      <td>1.0</td>\n",
       "      <td>1.0</td>\n",
       "      <td>1.0</td>\n",
       "      <td>1.0</td>\n",
       "      <td>1.0</td>\n",
       "      <td>1.0</td>\n",
       "      <td>1.0</td>\n",
       "      <td>1.0</td>\n",
       "      <td>0.0</td>\n",
       "      <td>0.0</td>\n",
       "      <td>0.0</td>\n",
       "      <td>1.0</td>\n",
       "      <td>1.0</td>\n",
       "      <td>1.0</td>\n",
       "      <td>1.0</td>\n",
       "      <td>1.0</td>\n",
       "      <td>2571.1</td>\n",
       "      <td>0.0</td>\n",
       "      <td>1.0</td>\n",
       "      <td>134.0</td>\n",
       "      <td>1.0</td>\n",
       "      <td>1.0</td>\n",
       "      <td>0.0</td>\n",
       "    </tr>\n",
       "    <tr>\n",
       "      <th>25%</th>\n",
       "      <td>10.0</td>\n",
       "      <td>2.0</td>\n",
       "      <td>1.0</td>\n",
       "      <td>11.0</td>\n",
       "      <td>4.0</td>\n",
       "      <td>3.0</td>\n",
       "      <td>3.0</td>\n",
       "      <td>1.0</td>\n",
       "      <td>43.0</td>\n",
       "      <td>2.0</td>\n",
       "      <td>1.0</td>\n",
       "      <td>1.0</td>\n",
       "      <td>1.0</td>\n",
       "      <td>3.0</td>\n",
       "      <td>3.0</td>\n",
       "      <td>3.0</td>\n",
       "      <td>1.0</td>\n",
       "      <td>2.0</td>\n",
       "      <td>1.0</td>\n",
       "      <td>1.0</td>\n",
       "      <td>2.0</td>\n",
       "      <td>1.0</td>\n",
       "      <td>2.0</td>\n",
       "      <td>2.0</td>\n",
       "      <td>1.0</td>\n",
       "      <td>2.0</td>\n",
       "      <td>2.0</td>\n",
       "      <td>1.0</td>\n",
       "      <td>2.0</td>\n",
       "      <td>2.0</td>\n",
       "      <td>0.0</td>\n",
       "      <td>0.0</td>\n",
       "      <td>0.0</td>\n",
       "      <td>1.0</td>\n",
       "      <td>2.0</td>\n",
       "      <td>2.0</td>\n",
       "      <td>1.0</td>\n",
       "      <td>2.0</td>\n",
       "      <td>13074.4</td>\n",
       "      <td>12347.3</td>\n",
       "      <td>1.0</td>\n",
       "      <td>137.0</td>\n",
       "      <td>6.0</td>\n",
       "      <td>6.0</td>\n",
       "      <td>1.0</td>\n",
       "    </tr>\n",
       "    <tr>\n",
       "      <th>50%</th>\n",
       "      <td>10.0</td>\n",
       "      <td>2.0</td>\n",
       "      <td>2.0</td>\n",
       "      <td>31.0</td>\n",
       "      <td>10.0</td>\n",
       "      <td>3.0</td>\n",
       "      <td>3.0</td>\n",
       "      <td>2.0</td>\n",
       "      <td>106.0</td>\n",
       "      <td>2.0</td>\n",
       "      <td>1.0</td>\n",
       "      <td>1.0</td>\n",
       "      <td>1.0</td>\n",
       "      <td>6.0</td>\n",
       "      <td>6.0</td>\n",
       "      <td>4.0</td>\n",
       "      <td>2.0</td>\n",
       "      <td>2.0</td>\n",
       "      <td>1.0</td>\n",
       "      <td>2.0</td>\n",
       "      <td>2.0</td>\n",
       "      <td>1.0</td>\n",
       "      <td>2.0</td>\n",
       "      <td>2.0</td>\n",
       "      <td>1.0</td>\n",
       "      <td>2.0</td>\n",
       "      <td>2.0</td>\n",
       "      <td>1.0</td>\n",
       "      <td>4.0</td>\n",
       "      <td>4.0</td>\n",
       "      <td>0.0</td>\n",
       "      <td>0.0</td>\n",
       "      <td>0.0</td>\n",
       "      <td>1.0</td>\n",
       "      <td>3.0</td>\n",
       "      <td>2.0</td>\n",
       "      <td>1.0</td>\n",
       "      <td>2.0</td>\n",
       "      <td>21098.5</td>\n",
       "      <td>21059.9</td>\n",
       "      <td>2.0</td>\n",
       "      <td>141.0</td>\n",
       "      <td>8.0</td>\n",
       "      <td>8.0</td>\n",
       "      <td>1.9</td>\n",
       "    </tr>\n",
       "    <tr>\n",
       "      <th>75%</th>\n",
       "      <td>10.0</td>\n",
       "      <td>2.0</td>\n",
       "      <td>2.0</td>\n",
       "      <td>58.0</td>\n",
       "      <td>17.0</td>\n",
       "      <td>4.0</td>\n",
       "      <td>4.0</td>\n",
       "      <td>2.0</td>\n",
       "      <td>166.0</td>\n",
       "      <td>2.0</td>\n",
       "      <td>2.0</td>\n",
       "      <td>1.0</td>\n",
       "      <td>1.0</td>\n",
       "      <td>7.0</td>\n",
       "      <td>9.0</td>\n",
       "      <td>4.0</td>\n",
       "      <td>5.0</td>\n",
       "      <td>2.0</td>\n",
       "      <td>1.0</td>\n",
       "      <td>2.0</td>\n",
       "      <td>2.0</td>\n",
       "      <td>1.0</td>\n",
       "      <td>2.0</td>\n",
       "      <td>2.0</td>\n",
       "      <td>1.0</td>\n",
       "      <td>2.0</td>\n",
       "      <td>2.0</td>\n",
       "      <td>1.0</td>\n",
       "      <td>5.0</td>\n",
       "      <td>5.0</td>\n",
       "      <td>1.0</td>\n",
       "      <td>2.0</td>\n",
       "      <td>1.0</td>\n",
       "      <td>2.0</td>\n",
       "      <td>4.0</td>\n",
       "      <td>2.0</td>\n",
       "      <td>2.0</td>\n",
       "      <td>3.0</td>\n",
       "      <td>36923.3</td>\n",
       "      <td>37562.0</td>\n",
       "      <td>2.0</td>\n",
       "      <td>145.0</td>\n",
       "      <td>14.0</td>\n",
       "      <td>14.0</td>\n",
       "      <td>3.7</td>\n",
       "    </tr>\n",
       "    <tr>\n",
       "      <th>max</th>\n",
       "      <td>10.0</td>\n",
       "      <td>2.0</td>\n",
       "      <td>2.0</td>\n",
       "      <td>80.0</td>\n",
       "      <td>24.0</td>\n",
       "      <td>5.0</td>\n",
       "      <td>7.0</td>\n",
       "      <td>2.0</td>\n",
       "      <td>239.0</td>\n",
       "      <td>9.0</td>\n",
       "      <td>7.0</td>\n",
       "      <td>99.0</td>\n",
       "      <td>9.0</td>\n",
       "      <td>99.0</td>\n",
       "      <td>66.0</td>\n",
       "      <td>9.0</td>\n",
       "      <td>77.0</td>\n",
       "      <td>3.0</td>\n",
       "      <td>2.0</td>\n",
       "      <td>2.0</td>\n",
       "      <td>2.0</td>\n",
       "      <td>2.0</td>\n",
       "      <td>2.0</td>\n",
       "      <td>2.0</td>\n",
       "      <td>2.0</td>\n",
       "      <td>2.0</td>\n",
       "      <td>2.0</td>\n",
       "      <td>3.0</td>\n",
       "      <td>7.0</td>\n",
       "      <td>7.0</td>\n",
       "      <td>3.0</td>\n",
       "      <td>3.0</td>\n",
       "      <td>3.0</td>\n",
       "      <td>2.0</td>\n",
       "      <td>4.0</td>\n",
       "      <td>3.0</td>\n",
       "      <td>3.0</td>\n",
       "      <td>3.0</td>\n",
       "      <td>433085.0</td>\n",
       "      <td>419762.8</td>\n",
       "      <td>2.0</td>\n",
       "      <td>148.0</td>\n",
       "      <td>99.0</td>\n",
       "      <td>99.0</td>\n",
       "      <td>5.0</td>\n",
       "    </tr>\n",
       "  </tbody>\n",
       "</table>\n",
       "</div>"
      ],
      "text/plain": [
       "       SDDSRVYR  RIDSTATR  RIAGENDR  ...  INDHHIN2  INDFMIN2  INDFMPIR\n",
       "count    9254.0    9254.0    9254.0  ...    8763.0    8780.0    8023.0\n",
       "mean       10.0       1.9       1.5  ...      12.5      12.2       2.4\n",
       "std         0.0       0.2       0.5  ...      17.3      17.2       1.6\n",
       "min        10.0       1.0       1.0  ...       1.0       1.0       0.0\n",
       "25%        10.0       2.0       1.0  ...       6.0       6.0       1.0\n",
       "50%        10.0       2.0       2.0  ...       8.0       8.0       1.9\n",
       "75%        10.0       2.0       2.0  ...      14.0      14.0       3.7\n",
       "max        10.0       2.0       2.0  ...      99.0      99.0       5.0\n",
       "\n",
       "[8 rows x 45 columns]"
      ]
     },
     "execution_count": 15,
     "metadata": {},
     "output_type": "execute_result"
    }
   ],
   "source": [
    "demographic.describe().round(1)"
   ]
  },
  {
   "cell_type": "code",
   "execution_count": 24,
   "metadata": {
    "scrolled": true
   },
   "outputs": [
    {
     "data": {
      "text/plain": [
       "Index(['SDDSRVYR', 'RIDSTATR', 'RIAGENDR', 'RIDAGEYR', 'RIDAGEMN', 'RIDRETH1',\n",
       "       'RIDRETH3', 'RIDEXMON', 'RIDEXAGM', 'DMQMILIZ', 'DMQADFC', 'DMDBORN4',\n",
       "       'DMDCITZN', 'DMDYRSUS', 'DMDEDUC3', 'DMDEDUC2', 'DMDMARTL', 'RIDEXPRG',\n",
       "       'SIALANG', 'SIAPROXY', 'SIAINTRP', 'FIALANG', 'FIAPROXY', 'FIAINTRP',\n",
       "       'MIALANG', 'MIAPROXY', 'MIAINTRP', 'AIALANGA', 'DMDHHSIZ', 'DMDFMSIZ',\n",
       "       'DMDHHSZA', 'DMDHHSZB', 'DMDHHSZE', 'DMDHRGND', 'DMDHRAGZ', 'DMDHREDZ',\n",
       "       'DMDHRMAZ', 'DMDHSEDZ', 'WTINT2YR', 'WTMEC2YR', 'SDMVPSU', 'SDMVSTRA',\n",
       "       'INDHHIN2', 'INDFMIN2', 'INDFMPIR'],\n",
       "      dtype='object')"
      ]
     },
     "execution_count": 24,
     "metadata": {},
     "output_type": "execute_result"
    }
   ],
   "source": [
    "demographic.columns"
   ]
  },
  {
   "cell_type": "markdown",
   "metadata": {},
   "source": [
    "After reviewing the source documentation, I decided to keep only a handful of features that were easily interpretable and may be relevant to predicting diabetes/prediabetes. "
   ]
  },
  {
   "cell_type": "code",
   "execution_count": 71,
   "metadata": {},
   "outputs": [],
   "source": [
    "keepcols_demographic = ['RIAGENDR', 'RIDAGEYR', 'RIDRETH3', 'DMQMILIZ', 'DMDBORN4', 'DMDCITZN',\n",
    "                    'DMDEDUC2', 'DMDMARTL', 'RIDEXPRG', 'DMDHHSIZ', 'INDHHIN2', 'INDFMPIR']"
   ]
  },
  {
   "cell_type": "code",
   "execution_count": 72,
   "metadata": {
    "scrolled": false
   },
   "outputs": [
    {
     "data": {
      "text/html": [
       "<div>\n",
       "<style scoped>\n",
       "    .dataframe tbody tr th:only-of-type {\n",
       "        vertical-align: middle;\n",
       "    }\n",
       "\n",
       "    .dataframe tbody tr th {\n",
       "        vertical-align: top;\n",
       "    }\n",
       "\n",
       "    .dataframe thead th {\n",
       "        text-align: right;\n",
       "    }\n",
       "</style>\n",
       "<table border=\"1\" class=\"dataframe\">\n",
       "  <thead>\n",
       "    <tr style=\"text-align: right;\">\n",
       "      <th></th>\n",
       "      <th>gender</th>\n",
       "      <th>age</th>\n",
       "      <th>race</th>\n",
       "      <th>veteran_status</th>\n",
       "      <th>country_of_birth</th>\n",
       "      <th>citizen_status</th>\n",
       "      <th>education</th>\n",
       "      <th>marital_status</th>\n",
       "      <th>pregnancy_status</th>\n",
       "      <th>household_size</th>\n",
       "      <th>annual_household_income</th>\n",
       "      <th>income_poverty_ratio</th>\n",
       "    </tr>\n",
       "    <tr>\n",
       "      <th>SEQN</th>\n",
       "      <th></th>\n",
       "      <th></th>\n",
       "      <th></th>\n",
       "      <th></th>\n",
       "      <th></th>\n",
       "      <th></th>\n",
       "      <th></th>\n",
       "      <th></th>\n",
       "      <th></th>\n",
       "      <th></th>\n",
       "      <th></th>\n",
       "      <th></th>\n",
       "    </tr>\n",
       "  </thead>\n",
       "  <tbody>\n",
       "    <tr>\n",
       "      <th>93703</th>\n",
       "      <td>2.0</td>\n",
       "      <td>2.0</td>\n",
       "      <td>6.0</td>\n",
       "      <td>NaN</td>\n",
       "      <td>1.0</td>\n",
       "      <td>1.0</td>\n",
       "      <td>NaN</td>\n",
       "      <td>NaN</td>\n",
       "      <td>NaN</td>\n",
       "      <td>5.0</td>\n",
       "      <td>15.0</td>\n",
       "      <td>5.00</td>\n",
       "    </tr>\n",
       "    <tr>\n",
       "      <th>93704</th>\n",
       "      <td>1.0</td>\n",
       "      <td>2.0</td>\n",
       "      <td>3.0</td>\n",
       "      <td>NaN</td>\n",
       "      <td>1.0</td>\n",
       "      <td>1.0</td>\n",
       "      <td>NaN</td>\n",
       "      <td>NaN</td>\n",
       "      <td>NaN</td>\n",
       "      <td>4.0</td>\n",
       "      <td>15.0</td>\n",
       "      <td>5.00</td>\n",
       "    </tr>\n",
       "    <tr>\n",
       "      <th>93705</th>\n",
       "      <td>2.0</td>\n",
       "      <td>66.0</td>\n",
       "      <td>4.0</td>\n",
       "      <td>2.0</td>\n",
       "      <td>1.0</td>\n",
       "      <td>1.0</td>\n",
       "      <td>2.0</td>\n",
       "      <td>3.0</td>\n",
       "      <td>NaN</td>\n",
       "      <td>1.0</td>\n",
       "      <td>3.0</td>\n",
       "      <td>0.82</td>\n",
       "    </tr>\n",
       "    <tr>\n",
       "      <th>93706</th>\n",
       "      <td>1.0</td>\n",
       "      <td>18.0</td>\n",
       "      <td>6.0</td>\n",
       "      <td>2.0</td>\n",
       "      <td>1.0</td>\n",
       "      <td>1.0</td>\n",
       "      <td>NaN</td>\n",
       "      <td>NaN</td>\n",
       "      <td>NaN</td>\n",
       "      <td>5.0</td>\n",
       "      <td>NaN</td>\n",
       "      <td>NaN</td>\n",
       "    </tr>\n",
       "    <tr>\n",
       "      <th>93707</th>\n",
       "      <td>1.0</td>\n",
       "      <td>13.0</td>\n",
       "      <td>7.0</td>\n",
       "      <td>NaN</td>\n",
       "      <td>1.0</td>\n",
       "      <td>1.0</td>\n",
       "      <td>NaN</td>\n",
       "      <td>NaN</td>\n",
       "      <td>NaN</td>\n",
       "      <td>7.0</td>\n",
       "      <td>10.0</td>\n",
       "      <td>1.88</td>\n",
       "    </tr>\n",
       "  </tbody>\n",
       "</table>\n",
       "</div>"
      ],
      "text/plain": [
       "       gender   age  ...  annual_household_income  income_poverty_ratio\n",
       "SEQN                 ...                                               \n",
       "93703     2.0   2.0  ...                     15.0                  5.00\n",
       "93704     1.0   2.0  ...                     15.0                  5.00\n",
       "93705     2.0  66.0  ...                      3.0                  0.82\n",
       "93706     1.0  18.0  ...                      NaN                   NaN\n",
       "93707     1.0  13.0  ...                     10.0                  1.88\n",
       "\n",
       "[5 rows x 12 columns]"
      ]
     },
     "execution_count": 72,
     "metadata": {},
     "output_type": "execute_result"
    }
   ],
   "source": [
    "keep_demographic = demographic.copy()[keepcols_demographic]\n",
    "keep_demographic.rename(mapper={'RIAGENDR': 'gender',\n",
    "                                'RIDAGEYR': 'age',\n",
    "                                'RIDRETH3': 'race',\n",
    "                                'DMQMILIZ': 'veteran_status',\n",
    "                                'DMDBORN4': 'country_of_birth',\n",
    "                                'DMDCITZN': 'citizen_status',\n",
    "                                'DMDEDUC2': 'education',\n",
    "                                'DMDMARTL': 'marital_status',\n",
    "                                'RIDEXPRG': 'pregnancy_status',\n",
    "                                'INDHHIN2': 'annual_household_income',\n",
    "                                'INDFMPIR': 'income_poverty_ratio',\n",
    "                                'DMDHHSIZ': 'household_size'}, \n",
    "                       axis=1, inplace=True)\n",
    "keep_demographic.head()"
   ]
  },
  {
   "cell_type": "code",
   "execution_count": 73,
   "metadata": {},
   "outputs": [
    {
     "name": "stdout",
     "output_type": "stream",
     "text": [
      "<class 'pandas.core.frame.DataFrame'>\n",
      "Int64Index: 9254 entries, 93703 to 102956\n",
      "Data columns (total 12 columns):\n",
      " #   Column                   Non-Null Count  Dtype  \n",
      "---  ------                   --------------  -----  \n",
      " 0   gender                   9254 non-null   float64\n",
      " 1   age                      9254 non-null   float64\n",
      " 2   race                     9254 non-null   float64\n",
      " 3   veteran_status           6004 non-null   float64\n",
      " 4   country_of_birth         9254 non-null   float64\n",
      " 5   citizen_status           9251 non-null   float64\n",
      " 6   education                5569 non-null   float64\n",
      " 7   marital_status           5569 non-null   float64\n",
      " 8   pregnancy_status         1110 non-null   float64\n",
      " 9   household_size           9254 non-null   float64\n",
      " 10  annual_household_income  8763 non-null   float64\n",
      " 11  income_poverty_ratio     8023 non-null   float64\n",
      "dtypes: float64(12)\n",
      "memory usage: 1.2 MB\n"
     ]
    }
   ],
   "source": [
    "keep_demographic.info()"
   ]
  },
  {
   "cell_type": "markdown",
   "metadata": {},
   "source": [
    "Questionnaire responses are coded, which makes interpretation difficult. I spent some time exploring each feature, decoding values, and deciphering response options. \n",
    "\n",
    "As is typical for survey data, there are some filler responses such as \"don't know\" and \"refused.\" I evaluated each of these and either filled them with the most likely response or created a \"no_answer\" category.\n",
    "\n",
    "For some null values, there is a \"default\" assumption that is easy to make. For others, I will leave the value null for now and use an imputer later in the process to intelligently fill in values."
   ]
  },
  {
   "cell_type": "code",
   "execution_count": 74,
   "metadata": {},
   "outputs": [
    {
     "data": {
      "text/plain": [
       "2.0    4697\n",
       "1.0    4557\n",
       "Name: gender, dtype: int64"
      ]
     },
     "execution_count": 74,
     "metadata": {},
     "output_type": "execute_result"
    }
   ],
   "source": [
    "keep_demographic['gender'].value_counts(dropna=False)"
   ]
  },
  {
   "cell_type": "code",
   "execution_count": 75,
   "metadata": {},
   "outputs": [],
   "source": [
    "keep_demographic['gender'].replace({1.0: 'male', 2.0: 'female'}, inplace=True)"
   ]
  },
  {
   "cell_type": "code",
   "execution_count": 76,
   "metadata": {},
   "outputs": [
    {
     "data": {
      "text/plain": [
       "female    4697\n",
       "male      4557\n",
       "Name: gender, dtype: int64"
      ]
     },
     "execution_count": 76,
     "metadata": {},
     "output_type": "execute_result"
    }
   ],
   "source": [
    "keep_demographic['gender'].value_counts(dropna=False)"
   ]
  },
  {
   "cell_type": "code",
   "execution_count": 77,
   "metadata": {},
   "outputs": [
    {
     "data": {
      "text/plain": [
       "count    9254.00\n",
       "mean       34.33\n",
       "std        25.50\n",
       "min         0.00\n",
       "25%        11.00\n",
       "50%        31.00\n",
       "75%        58.00\n",
       "max        80.00\n",
       "Name: age, dtype: float64"
      ]
     },
     "execution_count": 77,
     "metadata": {},
     "output_type": "execute_result"
    }
   ],
   "source": [
    "keep_demographic['age'].describe().round(2)"
   ]
  },
  {
   "cell_type": "markdown",
   "metadata": {},
   "source": [
    "*Note - Individuals aged 80 and over are topcoded at 80. In NHANES 2017-2018, the weighted mean age for participants 80+ is 85*"
   ]
  },
  {
   "cell_type": "code",
   "execution_count": 78,
   "metadata": {},
   "outputs": [],
   "source": [
    "keep_demographic['age'] = keep_demographic['age'].astype(int)"
   ]
  },
  {
   "cell_type": "markdown",
   "metadata": {},
   "source": [
    "I decided to focus the model only on adults age 18+."
   ]
  },
  {
   "cell_type": "code",
   "execution_count": 79,
   "metadata": {},
   "outputs": [],
   "source": [
    "# remove if age less than 18\n",
    "keep_demographic = keep_demographic[keep_demographic['age']>=18]"
   ]
  },
  {
   "cell_type": "code",
   "execution_count": 80,
   "metadata": {},
   "outputs": [
    {
     "data": {
      "text/plain": [
       "count    5856\n",
       "mean       49\n",
       "std        18\n",
       "min        18\n",
       "25%        33\n",
       "50%        51\n",
       "75%        65\n",
       "max        80\n",
       "Name: age, dtype: int64"
      ]
     },
     "execution_count": 80,
     "metadata": {},
     "output_type": "execute_result"
    }
   ],
   "source": [
    "keep_demographic['age'].describe().astype(int)"
   ]
  },
  {
   "cell_type": "code",
   "execution_count": 81,
   "metadata": {},
   "outputs": [
    {
     "data": {
      "text/plain": [
       "3.0    2032\n",
       "4.0    1343\n",
       "6.0     849\n",
       "1.0     792\n",
       "2.0     543\n",
       "7.0     297\n",
       "Name: race, dtype: int64"
      ]
     },
     "execution_count": 81,
     "metadata": {},
     "output_type": "execute_result"
    }
   ],
   "source": [
    "keep_demographic['race'].value_counts(dropna=False)"
   ]
  },
  {
   "cell_type": "code",
   "execution_count": 82,
   "metadata": {},
   "outputs": [],
   "source": [
    "keep_demographic['race'].replace({1.0: 'mexican_american',\n",
    "                                  2.0: 'hispanic',\n",
    "                                  3.0: 'white',\n",
    "                                  4.0: 'black',\n",
    "                                  6.0: 'asian',\n",
    "                                  7.0: 'other'}, \n",
    "                                 inplace=True)"
   ]
  },
  {
   "cell_type": "code",
   "execution_count": 83,
   "metadata": {},
   "outputs": [
    {
     "data": {
      "text/plain": [
       "white               2032\n",
       "black               1343\n",
       "asian                849\n",
       "mexican_american     792\n",
       "hispanic             543\n",
       "other                297\n",
       "Name: race, dtype: int64"
      ]
     },
     "execution_count": 83,
     "metadata": {},
     "output_type": "execute_result"
    }
   ],
   "source": [
    "keep_demographic['race'].value_counts(dropna=False)"
   ]
  },
  {
   "cell_type": "code",
   "execution_count": 84,
   "metadata": {},
   "outputs": [
    {
     "data": {
      "text/plain": [
       "2.0    5292\n",
       "1.0     561\n",
       "7.0       2\n",
       "9.0       1\n",
       "Name: veteran_status, dtype: int64"
      ]
     },
     "execution_count": 84,
     "metadata": {},
     "output_type": "execute_result"
    }
   ],
   "source": [
    "keep_demographic['veteran_status'].value_counts(dropna=False)"
   ]
  },
  {
   "cell_type": "code",
   "execution_count": 85,
   "metadata": {},
   "outputs": [],
   "source": [
    "keep_demographic['veteran_status'].replace({1.0: 'yes',\n",
    "                                            2.0: 'no',\n",
    "                                            7.0: 'no',\n",
    "                                            9.0: 'no',}, \n",
    "                                           inplace=True)"
   ]
  },
  {
   "cell_type": "code",
   "execution_count": 86,
   "metadata": {},
   "outputs": [
    {
     "data": {
      "text/plain": [
       "no     5295\n",
       "yes     561\n",
       "Name: veteran_status, dtype: int64"
      ]
     },
     "execution_count": 86,
     "metadata": {},
     "output_type": "execute_result"
    }
   ],
   "source": [
    "keep_demographic['veteran_status'].value_counts(dropna=False)"
   ]
  },
  {
   "cell_type": "code",
   "execution_count": 87,
   "metadata": {},
   "outputs": [
    {
     "data": {
      "text/plain": [
       "1.0     4067\n",
       "2.0     1786\n",
       "77.0       2\n",
       "99.0       1\n",
       "Name: country_of_birth, dtype: int64"
      ]
     },
     "execution_count": 87,
     "metadata": {},
     "output_type": "execute_result"
    }
   ],
   "source": [
    "keep_demographic['country_of_birth'].value_counts(dropna=False)"
   ]
  },
  {
   "cell_type": "code",
   "execution_count": 88,
   "metadata": {},
   "outputs": [],
   "source": [
    "keep_demographic['country_of_birth'].replace({1.0: 'usa',\n",
    "                                              2.0: 'other',\n",
    "                                              77.0: 'usa',\n",
    "                                              99.0: 'usa'}, \n",
    "                                             inplace=True)"
   ]
  },
  {
   "cell_type": "code",
   "execution_count": 89,
   "metadata": {},
   "outputs": [
    {
     "data": {
      "text/plain": [
       "usa      4070\n",
       "other    1786\n",
       "Name: country_of_birth, dtype: int64"
      ]
     },
     "execution_count": 89,
     "metadata": {},
     "output_type": "execute_result"
    }
   ],
   "source": [
    "keep_demographic['country_of_birth'].value_counts(dropna=False)"
   ]
  },
  {
   "cell_type": "code",
   "execution_count": 90,
   "metadata": {},
   "outputs": [
    {
     "data": {
      "text/plain": [
       "1.0    5030\n",
       "2.0     801\n",
       "7.0      15\n",
       "9.0       7\n",
       "NaN       3\n",
       "Name: citizen_status, dtype: int64"
      ]
     },
     "execution_count": 90,
     "metadata": {},
     "output_type": "execute_result"
    }
   ],
   "source": [
    "keep_demographic['citizen_status'].value_counts(dropna=False)"
   ]
  },
  {
   "cell_type": "code",
   "execution_count": 91,
   "metadata": {},
   "outputs": [],
   "source": [
    "# kept a \"no_answer\" class since this may be meaningful\n",
    "keep_demographic['citizen_status'].replace({1.0: 'citizen',\n",
    "                                            2.0: 'non_citizen',\n",
    "                                            7.0: 'no_answer',\n",
    "                                            9.0: 'no_answer',\n",
    "                                            np.nan: 'no_answer'}, \n",
    "                                           inplace=True)"
   ]
  },
  {
   "cell_type": "code",
   "execution_count": 92,
   "metadata": {},
   "outputs": [
    {
     "data": {
      "text/plain": [
       "4.0    1778\n",
       "5.0    1336\n",
       "3.0    1325\n",
       "2.0     638\n",
       "1.0     479\n",
       "NaN     287\n",
       "9.0      11\n",
       "7.0       2\n",
       "Name: education, dtype: int64"
      ]
     },
     "execution_count": 92,
     "metadata": {},
     "output_type": "execute_result"
    }
   ],
   "source": [
    "keep_demographic['education'].value_counts(dropna=False)"
   ]
  },
  {
   "cell_type": "code",
   "execution_count": 93,
   "metadata": {},
   "outputs": [],
   "source": [
    "# these nulls are not as easy to fill in, so I'll use an imputer at a later step\n",
    "keep_demographic['education'].replace({1.0: 'no_diploma',\n",
    "                                       2.0: 'no_diploma',\n",
    "                                       3.0: 'highschool_grad',\n",
    "                                       4.0: 'some_college',\n",
    "                                       5.0: 'college_grad',\n",
    "                                       7.0: np.nan,\n",
    "                                       9.0: np.nan}, inplace=True)"
   ]
  },
  {
   "cell_type": "code",
   "execution_count": 94,
   "metadata": {},
   "outputs": [
    {
     "data": {
      "text/plain": [
       "1.0     2737\n",
       "5.0     1006\n",
       "3.0      641\n",
       "6.0      515\n",
       "2.0      462\n",
       "NaN      287\n",
       "4.0      202\n",
       "77.0       6\n",
       "Name: marital_status, dtype: int64"
      ]
     },
     "execution_count": 94,
     "metadata": {},
     "output_type": "execute_result"
    }
   ],
   "source": [
    "keep_demographic['marital_status'].value_counts(dropna=False)"
   ]
  },
  {
   "cell_type": "code",
   "execution_count": 95,
   "metadata": {},
   "outputs": [],
   "source": [
    "keep_demographic['marital_status'].replace({1.0: 'married or living with partner',\n",
    "                                            2.0: 'widowed',\n",
    "                                            3.0: 'divorced/separated',\n",
    "                                            4.0: 'divorced/separated',\n",
    "                                            5.0: 'never married',\n",
    "                                            6.0: 'married or living with partner',\n",
    "                                            77.0: 'no_answer'}, inplace=True)"
   ]
  },
  {
   "cell_type": "code",
   "execution_count": 96,
   "metadata": {},
   "outputs": [
    {
     "data": {
      "text/html": [
       "<div>\n",
       "<style scoped>\n",
       "    .dataframe tbody tr th:only-of-type {\n",
       "        vertical-align: middle;\n",
       "    }\n",
       "\n",
       "    .dataframe tbody tr th {\n",
       "        vertical-align: top;\n",
       "    }\n",
       "\n",
       "    .dataframe thead th {\n",
       "        text-align: right;\n",
       "    }\n",
       "</style>\n",
       "<table border=\"1\" class=\"dataframe\">\n",
       "  <thead>\n",
       "    <tr style=\"text-align: right;\">\n",
       "      <th></th>\n",
       "      <th>gender</th>\n",
       "      <th>age</th>\n",
       "      <th>race</th>\n",
       "      <th>veteran_status</th>\n",
       "      <th>country_of_birth</th>\n",
       "      <th>citizen_status</th>\n",
       "      <th>education</th>\n",
       "      <th>marital_status</th>\n",
       "      <th>pregnancy_status</th>\n",
       "      <th>household_size</th>\n",
       "      <th>annual_household_income</th>\n",
       "      <th>income_poverty_ratio</th>\n",
       "    </tr>\n",
       "    <tr>\n",
       "      <th>SEQN</th>\n",
       "      <th></th>\n",
       "      <th></th>\n",
       "      <th></th>\n",
       "      <th></th>\n",
       "      <th></th>\n",
       "      <th></th>\n",
       "      <th></th>\n",
       "      <th></th>\n",
       "      <th></th>\n",
       "      <th></th>\n",
       "      <th></th>\n",
       "      <th></th>\n",
       "    </tr>\n",
       "  </thead>\n",
       "  <tbody>\n",
       "    <tr>\n",
       "      <th>93706</th>\n",
       "      <td>male</td>\n",
       "      <td>18</td>\n",
       "      <td>asian</td>\n",
       "      <td>no</td>\n",
       "      <td>usa</td>\n",
       "      <td>citizen</td>\n",
       "      <td>NaN</td>\n",
       "      <td>NaN</td>\n",
       "      <td>NaN</td>\n",
       "      <td>5.0</td>\n",
       "      <td>NaN</td>\n",
       "      <td>NaN</td>\n",
       "    </tr>\n",
       "    <tr>\n",
       "      <th>98618</th>\n",
       "      <td>male</td>\n",
       "      <td>18</td>\n",
       "      <td>mexican_american</td>\n",
       "      <td>no</td>\n",
       "      <td>other</td>\n",
       "      <td>non_citizen</td>\n",
       "      <td>NaN</td>\n",
       "      <td>NaN</td>\n",
       "      <td>NaN</td>\n",
       "      <td>4.0</td>\n",
       "      <td>3.0</td>\n",
       "      <td>0.52</td>\n",
       "    </tr>\n",
       "    <tr>\n",
       "      <th>98695</th>\n",
       "      <td>male</td>\n",
       "      <td>18</td>\n",
       "      <td>black</td>\n",
       "      <td>no</td>\n",
       "      <td>usa</td>\n",
       "      <td>citizen</td>\n",
       "      <td>NaN</td>\n",
       "      <td>NaN</td>\n",
       "      <td>NaN</td>\n",
       "      <td>4.0</td>\n",
       "      <td>12.0</td>\n",
       "      <td>NaN</td>\n",
       "    </tr>\n",
       "    <tr>\n",
       "      <th>98697</th>\n",
       "      <td>male</td>\n",
       "      <td>18</td>\n",
       "      <td>white</td>\n",
       "      <td>no</td>\n",
       "      <td>usa</td>\n",
       "      <td>citizen</td>\n",
       "      <td>NaN</td>\n",
       "      <td>NaN</td>\n",
       "      <td>NaN</td>\n",
       "      <td>5.0</td>\n",
       "      <td>15.0</td>\n",
       "      <td>5.00</td>\n",
       "    </tr>\n",
       "    <tr>\n",
       "      <th>98829</th>\n",
       "      <td>male</td>\n",
       "      <td>18</td>\n",
       "      <td>mexican_american</td>\n",
       "      <td>no</td>\n",
       "      <td>usa</td>\n",
       "      <td>citizen</td>\n",
       "      <td>NaN</td>\n",
       "      <td>NaN</td>\n",
       "      <td>NaN</td>\n",
       "      <td>6.0</td>\n",
       "      <td>15.0</td>\n",
       "      <td>3.85</td>\n",
       "    </tr>\n",
       "    <tr>\n",
       "      <th>...</th>\n",
       "      <td>...</td>\n",
       "      <td>...</td>\n",
       "      <td>...</td>\n",
       "      <td>...</td>\n",
       "      <td>...</td>\n",
       "      <td>...</td>\n",
       "      <td>...</td>\n",
       "      <td>...</td>\n",
       "      <td>...</td>\n",
       "      <td>...</td>\n",
       "      <td>...</td>\n",
       "      <td>...</td>\n",
       "    </tr>\n",
       "    <tr>\n",
       "      <th>98866</th>\n",
       "      <td>male</td>\n",
       "      <td>19</td>\n",
       "      <td>white</td>\n",
       "      <td>no</td>\n",
       "      <td>usa</td>\n",
       "      <td>citizen</td>\n",
       "      <td>NaN</td>\n",
       "      <td>NaN</td>\n",
       "      <td>NaN</td>\n",
       "      <td>1.0</td>\n",
       "      <td>1.0</td>\n",
       "      <td>0.37</td>\n",
       "    </tr>\n",
       "    <tr>\n",
       "      <th>95585</th>\n",
       "      <td>male</td>\n",
       "      <td>19</td>\n",
       "      <td>mexican_american</td>\n",
       "      <td>no</td>\n",
       "      <td>usa</td>\n",
       "      <td>citizen</td>\n",
       "      <td>NaN</td>\n",
       "      <td>NaN</td>\n",
       "      <td>NaN</td>\n",
       "      <td>4.0</td>\n",
       "      <td>14.0</td>\n",
       "      <td>3.88</td>\n",
       "    </tr>\n",
       "    <tr>\n",
       "      <th>98938</th>\n",
       "      <td>female</td>\n",
       "      <td>19</td>\n",
       "      <td>white</td>\n",
       "      <td>no</td>\n",
       "      <td>usa</td>\n",
       "      <td>citizen</td>\n",
       "      <td>NaN</td>\n",
       "      <td>NaN</td>\n",
       "      <td>NaN</td>\n",
       "      <td>4.0</td>\n",
       "      <td>13.0</td>\n",
       "      <td>NaN</td>\n",
       "    </tr>\n",
       "    <tr>\n",
       "      <th>99013</th>\n",
       "      <td>female</td>\n",
       "      <td>19</td>\n",
       "      <td>mexican_american</td>\n",
       "      <td>no</td>\n",
       "      <td>usa</td>\n",
       "      <td>citizen</td>\n",
       "      <td>NaN</td>\n",
       "      <td>NaN</td>\n",
       "      <td>NaN</td>\n",
       "      <td>4.0</td>\n",
       "      <td>7.0</td>\n",
       "      <td>1.52</td>\n",
       "    </tr>\n",
       "    <tr>\n",
       "      <th>102837</th>\n",
       "      <td>female</td>\n",
       "      <td>19</td>\n",
       "      <td>hispanic</td>\n",
       "      <td>no</td>\n",
       "      <td>usa</td>\n",
       "      <td>citizen</td>\n",
       "      <td>NaN</td>\n",
       "      <td>NaN</td>\n",
       "      <td>NaN</td>\n",
       "      <td>1.0</td>\n",
       "      <td>1.0</td>\n",
       "      <td>0.17</td>\n",
       "    </tr>\n",
       "  </tbody>\n",
       "</table>\n",
       "<p>287 rows × 12 columns</p>\n",
       "</div>"
      ],
      "text/plain": [
       "        gender  age  ... annual_household_income income_poverty_ratio\n",
       "SEQN                 ...                                             \n",
       "93706     male   18  ...                     NaN                  NaN\n",
       "98618     male   18  ...                     3.0                 0.52\n",
       "98695     male   18  ...                    12.0                  NaN\n",
       "98697     male   18  ...                    15.0                 5.00\n",
       "98829     male   18  ...                    15.0                 3.85\n",
       "...        ...  ...  ...                     ...                  ...\n",
       "98866     male   19  ...                     1.0                 0.37\n",
       "95585     male   19  ...                    14.0                 3.88\n",
       "98938   female   19  ...                    13.0                  NaN\n",
       "99013   female   19  ...                     7.0                 1.52\n",
       "102837  female   19  ...                     1.0                 0.17\n",
       "\n",
       "[287 rows x 12 columns]"
      ]
     },
     "execution_count": 96,
     "metadata": {},
     "output_type": "execute_result"
    }
   ],
   "source": [
    "keep_demographic[keep_demographic['marital_status'].isna()].sort_values('age')"
   ]
  },
  {
   "cell_type": "markdown",
   "metadata": {},
   "source": [
    "All null values in the marital status column are 18 or 19 year olds, so I will fill the nulls with \"never married.\""
   ]
  },
  {
   "cell_type": "code",
   "execution_count": 97,
   "metadata": {},
   "outputs": [],
   "source": [
    "keep_demographic['marital_status'].fillna('never married', inplace=True)"
   ]
  },
  {
   "cell_type": "code",
   "execution_count": 98,
   "metadata": {},
   "outputs": [
    {
     "data": {
      "text/plain": [
       "married or living with partner    3252\n",
       "never married                     1293\n",
       "divorced/separated                 843\n",
       "widowed                            462\n",
       "no_answer                            6\n",
       "Name: marital_status, dtype: int64"
      ]
     },
     "execution_count": 98,
     "metadata": {},
     "output_type": "execute_result"
    }
   ],
   "source": [
    "keep_demographic['marital_status'].value_counts(dropna=False)"
   ]
  },
  {
   "cell_type": "code",
   "execution_count": 99,
   "metadata": {},
   "outputs": [
    {
     "data": {
      "text/plain": [
       "NaN    4746\n",
       "2.0     966\n",
       "3.0      89\n",
       "1.0      55\n",
       "Name: pregnancy_status, dtype: int64"
      ]
     },
     "execution_count": 99,
     "metadata": {},
     "output_type": "execute_result"
    }
   ],
   "source": [
    "keep_demographic['pregnancy_status'].value_counts(dropna=False)"
   ]
  },
  {
   "cell_type": "markdown",
   "metadata": {},
   "source": [
    "Per the data source, respondents were coded with a value 3 (could not be determined) in two scenarios:\n",
    "- If the respondent reported did not know her pregnancy status and the urine test was negative\n",
    "- If the respondent was interviewed but not examined \n",
    "\n",
    "Likely the second scenario will be removed from this subset when I begin the supervised learning activity based on A1C level, since this would have occurred during examination. Because the urine test was negative, I am recoding all 3's as \"not pregnant\" and therefore leaving them in the dataset.\n",
    "\n",
    "I also assume that null values indicate \"not pregnant\".\n",
    "\n",
    "Because pregnancy may cause fluctuations in weight and body measurements, I choose to drop respondents who are pregnant from the dataset."
   ]
  },
  {
   "cell_type": "code",
   "execution_count": 100,
   "metadata": {},
   "outputs": [],
   "source": [
    "keep_demographic = keep_demographic[keep_demographic['pregnancy_status'] != 1.0]"
   ]
  },
  {
   "cell_type": "code",
   "execution_count": 101,
   "metadata": {},
   "outputs": [],
   "source": [
    "keep_demographic.drop(columns='pregnancy_status', inplace=True)"
   ]
  },
  {
   "cell_type": "code",
   "execution_count": 102,
   "metadata": {},
   "outputs": [
    {
     "data": {
      "text/html": [
       "<div>\n",
       "<style scoped>\n",
       "    .dataframe tbody tr th:only-of-type {\n",
       "        vertical-align: middle;\n",
       "    }\n",
       "\n",
       "    .dataframe tbody tr th {\n",
       "        vertical-align: top;\n",
       "    }\n",
       "\n",
       "    .dataframe thead th {\n",
       "        text-align: right;\n",
       "    }\n",
       "</style>\n",
       "<table border=\"1\" class=\"dataframe\">\n",
       "  <thead>\n",
       "    <tr style=\"text-align: right;\">\n",
       "      <th></th>\n",
       "      <th>gender</th>\n",
       "      <th>age</th>\n",
       "      <th>race</th>\n",
       "      <th>veteran_status</th>\n",
       "      <th>country_of_birth</th>\n",
       "      <th>citizen_status</th>\n",
       "      <th>education</th>\n",
       "      <th>marital_status</th>\n",
       "      <th>household_size</th>\n",
       "      <th>annual_household_income</th>\n",
       "      <th>income_poverty_ratio</th>\n",
       "    </tr>\n",
       "    <tr>\n",
       "      <th>SEQN</th>\n",
       "      <th></th>\n",
       "      <th></th>\n",
       "      <th></th>\n",
       "      <th></th>\n",
       "      <th></th>\n",
       "      <th></th>\n",
       "      <th></th>\n",
       "      <th></th>\n",
       "      <th></th>\n",
       "      <th></th>\n",
       "      <th></th>\n",
       "    </tr>\n",
       "  </thead>\n",
       "  <tbody>\n",
       "    <tr>\n",
       "      <th>93705</th>\n",
       "      <td>female</td>\n",
       "      <td>66</td>\n",
       "      <td>black</td>\n",
       "      <td>no</td>\n",
       "      <td>usa</td>\n",
       "      <td>citizen</td>\n",
       "      <td>no_diploma</td>\n",
       "      <td>divorced/separated</td>\n",
       "      <td>1.0</td>\n",
       "      <td>3.0</td>\n",
       "      <td>0.82</td>\n",
       "    </tr>\n",
       "    <tr>\n",
       "      <th>93706</th>\n",
       "      <td>male</td>\n",
       "      <td>18</td>\n",
       "      <td>asian</td>\n",
       "      <td>no</td>\n",
       "      <td>usa</td>\n",
       "      <td>citizen</td>\n",
       "      <td>NaN</td>\n",
       "      <td>never married</td>\n",
       "      <td>5.0</td>\n",
       "      <td>NaN</td>\n",
       "      <td>NaN</td>\n",
       "    </tr>\n",
       "    <tr>\n",
       "      <th>93708</th>\n",
       "      <td>female</td>\n",
       "      <td>66</td>\n",
       "      <td>asian</td>\n",
       "      <td>no</td>\n",
       "      <td>other</td>\n",
       "      <td>citizen</td>\n",
       "      <td>no_diploma</td>\n",
       "      <td>married or living with partner</td>\n",
       "      <td>2.0</td>\n",
       "      <td>6.0</td>\n",
       "      <td>1.63</td>\n",
       "    </tr>\n",
       "    <tr>\n",
       "      <th>93709</th>\n",
       "      <td>female</td>\n",
       "      <td>75</td>\n",
       "      <td>black</td>\n",
       "      <td>no</td>\n",
       "      <td>usa</td>\n",
       "      <td>citizen</td>\n",
       "      <td>some_college</td>\n",
       "      <td>widowed</td>\n",
       "      <td>1.0</td>\n",
       "      <td>2.0</td>\n",
       "      <td>0.41</td>\n",
       "    </tr>\n",
       "    <tr>\n",
       "      <th>93711</th>\n",
       "      <td>male</td>\n",
       "      <td>56</td>\n",
       "      <td>asian</td>\n",
       "      <td>no</td>\n",
       "      <td>other</td>\n",
       "      <td>citizen</td>\n",
       "      <td>college_grad</td>\n",
       "      <td>married or living with partner</td>\n",
       "      <td>3.0</td>\n",
       "      <td>15.0</td>\n",
       "      <td>5.00</td>\n",
       "    </tr>\n",
       "  </tbody>\n",
       "</table>\n",
       "</div>"
      ],
      "text/plain": [
       "       gender  age  ... annual_household_income income_poverty_ratio\n",
       "SEQN                ...                                             \n",
       "93705  female   66  ...                     3.0                 0.82\n",
       "93706    male   18  ...                     NaN                  NaN\n",
       "93708  female   66  ...                     6.0                 1.63\n",
       "93709  female   75  ...                     2.0                 0.41\n",
       "93711    male   56  ...                    15.0                 5.00\n",
       "\n",
       "[5 rows x 11 columns]"
      ]
     },
     "execution_count": 102,
     "metadata": {},
     "output_type": "execute_result"
    }
   ],
   "source": [
    "keep_demographic.head()"
   ]
  },
  {
   "cell_type": "markdown",
   "metadata": {},
   "source": [
    "I selected annual household income as the primary income-related feature to keep in the dataset.\n",
    "\n",
    "For this model, I have recoded values as the upper end of each income range reported in order to create a continuous numeric variable. The 100k+ category was coded as 150,000 in keeping with the pattern of higher annual incomes. If respondents only reported if their income was under 20k (197 total respondents), I filled their income as 15,000 since this is likely a larger range with more actual values falling below the maximum. Similarly, if the respondent only reported if their income was over 20k (69 total respondents, I filled their income as 45000.\n",
    "\n",
    "From data source:\n",
    "\n",
    "> If a \"household\" was comprised of a single family or individual, the reported family income was used as household income as well. When more than one family, or one or more unrelated individuals, or a combination of a family and unrelated individuals resided in the household, the total household income was calculated by the sum of all reported family and/or individual income values. When more than one family, or one or more unrelated individuals, or a combination of a family and unrelated individuals resided in the same household, they were asked to provide a total income estimate for the entire household, using similar questions as were used for family income. This estimated household income value was only used when: 1) the family income value was missing for one or more families in the household; and 2) the estimated value was equal or more than the sum of all known family incomes from the household. If different respondents in the household provided different estimates, the largest value was used. If none of the respondents provided a valid household income estimate, but the sum of known family and/or individual incomes was at least 100,000, then household income was categorized as “100,000 and over.”\n",
    "\n",
    "> If the respondent was not willing or able to provide an exact dollar figure, the interviewer asked an additional question to determine whether the income was < 20,000 or ≥ 20,000. Based on the respondent’s answer to this question, he/she was asked to select a category of income from a list on a hand card. For respondents who selected a category of income, their family incomes were set as the midpoints of the selected ranges. If the respondent was unable to report greater detail than < 20,000 or ≥ 20,000, then these two categories were used to report the family (or individual) income."
   ]
  },
  {
   "cell_type": "code",
   "execution_count": 103,
   "metadata": {},
   "outputs": [
    {
     "data": {
      "text/plain": [
       "15.0    988\n",
       "6.0     574\n",
       "7.0     570\n",
       "14.0    497\n",
       "8.0     389\n",
       "NaN     345\n",
       "5.0     344\n",
       "4.0     335\n",
       "9.0     331\n",
       "10.0    277\n",
       "3.0     264\n",
       "12.0    220\n",
       "2.0     164\n",
       "1.0     164\n",
       "99.0    143\n",
       "77.0    121\n",
       "13.0     75\n",
       "Name: annual_household_income, dtype: int64"
      ]
     },
     "execution_count": 103,
     "metadata": {},
     "output_type": "execute_result"
    }
   ],
   "source": [
    "keep_demographic['annual_household_income'].value_counts(dropna=False)"
   ]
  },
  {
   "cell_type": "code",
   "execution_count": 104,
   "metadata": {},
   "outputs": [],
   "source": [
    "# these nulls are not as easy to fill in, so I'll use an imputer at a later step\n",
    "keep_demographic['annual_household_income'].replace({1.0: 5000,\n",
    "                                                     2.0: 10000,\n",
    "                                                     3.0: 15000,\n",
    "                                                     4.0: 20000,\n",
    "                                                     5.0: 25000,\n",
    "                                                     6.0: 35000,\n",
    "                                                     7.0: 45000,\n",
    "                                                     8.0: 55000,\n",
    "                                                     9.0: 65000,\n",
    "                                                     10.0: 75000,\n",
    "                                                     12.0: 15000,\n",
    "                                                     13.0: 45000,\n",
    "                                                     14.0: 100000,\n",
    "                                                     15.0: 150000,\n",
    "                                                     77.0: np.nan,\n",
    "                                                     99.0: np.nan}, inplace=True)"
   ]
  },
  {
   "cell_type": "code",
   "execution_count": 105,
   "metadata": {},
   "outputs": [
    {
     "data": {
      "text/plain": [
       "150000.0    988\n",
       "45000.0     645\n",
       "NaN         609\n",
       "35000.0     574\n",
       "100000.0    497\n",
       "15000.0     484\n",
       "55000.0     389\n",
       "25000.0     344\n",
       "20000.0     335\n",
       "65000.0     331\n",
       "75000.0     277\n",
       "5000.0      164\n",
       "10000.0     164\n",
       "Name: annual_household_income, dtype: int64"
      ]
     },
     "execution_count": 105,
     "metadata": {},
     "output_type": "execute_result"
    }
   ],
   "source": [
    "keep_demographic['annual_household_income'].value_counts(dropna=False)"
   ]
  },
  {
   "cell_type": "code",
   "execution_count": 107,
   "metadata": {},
   "outputs": [
    {
     "data": {
      "text/plain": [
       "2.0    1787\n",
       "3.0    1057\n",
       "4.0     918\n",
       "1.0     806\n",
       "5.0     638\n",
       "6.0     334\n",
       "7.0     261\n",
       "Name: household_size, dtype: int64"
      ]
     },
     "execution_count": 107,
     "metadata": {},
     "output_type": "execute_result"
    }
   ],
   "source": [
    "keep_demographic['household_size'].value_counts(dropna=False)"
   ]
  },
  {
   "cell_type": "code",
   "execution_count": 108,
   "metadata": {},
   "outputs": [],
   "source": [
    "keep_demographic['household_size'] = keep_demographic['household_size'].astype(int)"
   ]
  },
  {
   "cell_type": "code",
   "execution_count": 109,
   "metadata": {},
   "outputs": [
    {
     "data": {
      "text/plain": [
       "count    4975.00\n",
       "mean        2.52\n",
       "std         1.61\n",
       "min         0.00\n",
       "25%         1.18\n",
       "50%         2.08\n",
       "75%         4.06\n",
       "max         5.00\n",
       "Name: income_poverty_ratio, dtype: float64"
      ]
     },
     "execution_count": 109,
     "metadata": {},
     "output_type": "execute_result"
    }
   ],
   "source": [
    "keep_demographic['income_poverty_ratio'].describe().round(2)"
   ]
  },
  {
   "cell_type": "code",
   "execution_count": 110,
   "metadata": {},
   "outputs": [
    {
     "data": {
      "text/plain": [
       "826"
      ]
     },
     "execution_count": 110,
     "metadata": {},
     "output_type": "execute_result"
    }
   ],
   "source": [
    "keep_demographic['income_poverty_ratio'].isna().sum()"
   ]
  },
  {
   "cell_type": "markdown",
   "metadata": {},
   "source": [
    "Per the data source:\n",
    "> Income-Poverty Ratio was calculated by dividing family (or individual) income by the poverty guidelines specific to the survey year. The value was not computed if the respondent only reported income as < 20,000 or ≥ 20,000. If family income was reported as a more detailed category, the midpoint of the range was used to compute the ratio. Values at or above 5.00 were coded as 5.00 or more because of disclosure concerns. The values were not computed if the income data was missing.\n",
    "\n",
    "I will seek to use an imputer to fill null values."
   ]
  },
  {
   "cell_type": "code",
   "execution_count": 111,
   "metadata": {},
   "outputs": [
    {
     "name": "stdout",
     "output_type": "stream",
     "text": [
      "<class 'pandas.core.frame.DataFrame'>\n",
      "Int64Index: 5801 entries, 93705 to 102956\n",
      "Data columns (total 11 columns):\n",
      " #   Column                   Non-Null Count  Dtype  \n",
      "---  ------                   --------------  -----  \n",
      " 0   gender                   5801 non-null   object \n",
      " 1   age                      5801 non-null   int64  \n",
      " 2   race                     5801 non-null   object \n",
      " 3   veteran_status           5801 non-null   object \n",
      " 4   country_of_birth         5801 non-null   object \n",
      " 5   citizen_status           5801 non-null   object \n",
      " 6   education                5501 non-null   object \n",
      " 7   marital_status           5801 non-null   object \n",
      " 8   household_size           5801 non-null   int64  \n",
      " 9   annual_household_income  5192 non-null   float64\n",
      " 10  income_poverty_ratio     4975 non-null   float64\n",
      "dtypes: float64(2), int64(2), object(7)\n",
      "memory usage: 543.8+ KB\n"
     ]
    }
   ],
   "source": [
    "keep_demographic.info()"
   ]
  },
  {
   "cell_type": "markdown",
   "metadata": {},
   "source": [
    "### Health Insurance\n",
    "\n",
    "[View source for additional description and details](https://wwwn.cdc.gov/Nchs/Nhanes/2017-2018/HIQ_J.htm)\n",
    "\n",
    "The Health Insurance questionnaire (variable name prefix HIQ) provides respondent-level interview data on insurance coverage, type of insurance coverage, coverage of prescription drugs, and uninsured status during the past 12 months."
   ]
  },
  {
   "cell_type": "code",
   "execution_count": 112,
   "metadata": {},
   "outputs": [
    {
     "data": {
      "text/html": [
       "<div>\n",
       "<style scoped>\n",
       "    .dataframe tbody tr th:only-of-type {\n",
       "        vertical-align: middle;\n",
       "    }\n",
       "\n",
       "    .dataframe tbody tr th {\n",
       "        vertical-align: top;\n",
       "    }\n",
       "\n",
       "    .dataframe thead th {\n",
       "        text-align: right;\n",
       "    }\n",
       "</style>\n",
       "<table border=\"1\" class=\"dataframe\">\n",
       "  <thead>\n",
       "    <tr style=\"text-align: right;\">\n",
       "      <th></th>\n",
       "      <th>HIQ011</th>\n",
       "      <th>HIQ031A</th>\n",
       "      <th>HIQ031B</th>\n",
       "      <th>HIQ031C</th>\n",
       "      <th>HIQ031D</th>\n",
       "      <th>HIQ031E</th>\n",
       "      <th>HIQ031F</th>\n",
       "      <th>HIQ031H</th>\n",
       "      <th>HIQ031I</th>\n",
       "      <th>HIQ031J</th>\n",
       "      <th>HIQ031AA</th>\n",
       "      <th>HIQ260</th>\n",
       "      <th>HIQ105</th>\n",
       "      <th>HIQ270</th>\n",
       "      <th>HIQ210</th>\n",
       "    </tr>\n",
       "    <tr>\n",
       "      <th>SEQN</th>\n",
       "      <th></th>\n",
       "      <th></th>\n",
       "      <th></th>\n",
       "      <th></th>\n",
       "      <th></th>\n",
       "      <th></th>\n",
       "      <th></th>\n",
       "      <th></th>\n",
       "      <th></th>\n",
       "      <th></th>\n",
       "      <th></th>\n",
       "      <th></th>\n",
       "      <th></th>\n",
       "      <th></th>\n",
       "      <th></th>\n",
       "    </tr>\n",
       "  </thead>\n",
       "  <tbody>\n",
       "    <tr>\n",
       "      <th>93703</th>\n",
       "      <td>1.0</td>\n",
       "      <td>14.0</td>\n",
       "      <td>NaN</td>\n",
       "      <td>NaN</td>\n",
       "      <td>NaN</td>\n",
       "      <td>NaN</td>\n",
       "      <td>NaN</td>\n",
       "      <td>NaN</td>\n",
       "      <td>NaN</td>\n",
       "      <td>NaN</td>\n",
       "      <td>NaN</td>\n",
       "      <td>NaN</td>\n",
       "      <td>NaN</td>\n",
       "      <td>1.0</td>\n",
       "      <td>2.0</td>\n",
       "    </tr>\n",
       "    <tr>\n",
       "      <th>93704</th>\n",
       "      <td>1.0</td>\n",
       "      <td>14.0</td>\n",
       "      <td>NaN</td>\n",
       "      <td>NaN</td>\n",
       "      <td>NaN</td>\n",
       "      <td>NaN</td>\n",
       "      <td>NaN</td>\n",
       "      <td>NaN</td>\n",
       "      <td>NaN</td>\n",
       "      <td>NaN</td>\n",
       "      <td>NaN</td>\n",
       "      <td>NaN</td>\n",
       "      <td>NaN</td>\n",
       "      <td>1.0</td>\n",
       "      <td>2.0</td>\n",
       "    </tr>\n",
       "    <tr>\n",
       "      <th>93705</th>\n",
       "      <td>1.0</td>\n",
       "      <td>NaN</td>\n",
       "      <td>15.0</td>\n",
       "      <td>NaN</td>\n",
       "      <td>17.0</td>\n",
       "      <td>NaN</td>\n",
       "      <td>NaN</td>\n",
       "      <td>NaN</td>\n",
       "      <td>NaN</td>\n",
       "      <td>NaN</td>\n",
       "      <td>NaN</td>\n",
       "      <td>NaN</td>\n",
       "      <td>1.0</td>\n",
       "      <td>1.0</td>\n",
       "      <td>2.0</td>\n",
       "    </tr>\n",
       "    <tr>\n",
       "      <th>93706</th>\n",
       "      <td>1.0</td>\n",
       "      <td>14.0</td>\n",
       "      <td>NaN</td>\n",
       "      <td>NaN</td>\n",
       "      <td>NaN</td>\n",
       "      <td>NaN</td>\n",
       "      <td>NaN</td>\n",
       "      <td>NaN</td>\n",
       "      <td>NaN</td>\n",
       "      <td>NaN</td>\n",
       "      <td>NaN</td>\n",
       "      <td>NaN</td>\n",
       "      <td>NaN</td>\n",
       "      <td>1.0</td>\n",
       "      <td>2.0</td>\n",
       "    </tr>\n",
       "    <tr>\n",
       "      <th>93707</th>\n",
       "      <td>1.0</td>\n",
       "      <td>NaN</td>\n",
       "      <td>NaN</td>\n",
       "      <td>NaN</td>\n",
       "      <td>17.0</td>\n",
       "      <td>NaN</td>\n",
       "      <td>NaN</td>\n",
       "      <td>NaN</td>\n",
       "      <td>NaN</td>\n",
       "      <td>NaN</td>\n",
       "      <td>NaN</td>\n",
       "      <td>NaN</td>\n",
       "      <td>NaN</td>\n",
       "      <td>1.0</td>\n",
       "      <td>2.0</td>\n",
       "    </tr>\n",
       "    <tr>\n",
       "      <th>...</th>\n",
       "      <td>...</td>\n",
       "      <td>...</td>\n",
       "      <td>...</td>\n",
       "      <td>...</td>\n",
       "      <td>...</td>\n",
       "      <td>...</td>\n",
       "      <td>...</td>\n",
       "      <td>...</td>\n",
       "      <td>...</td>\n",
       "      <td>...</td>\n",
       "      <td>...</td>\n",
       "      <td>...</td>\n",
       "      <td>...</td>\n",
       "      <td>...</td>\n",
       "      <td>...</td>\n",
       "    </tr>\n",
       "    <tr>\n",
       "      <th>102952</th>\n",
       "      <td>1.0</td>\n",
       "      <td>14.0</td>\n",
       "      <td>15.0</td>\n",
       "      <td>NaN</td>\n",
       "      <td>NaN</td>\n",
       "      <td>NaN</td>\n",
       "      <td>NaN</td>\n",
       "      <td>NaN</td>\n",
       "      <td>NaN</td>\n",
       "      <td>NaN</td>\n",
       "      <td>NaN</td>\n",
       "      <td>NaN</td>\n",
       "      <td>1.0</td>\n",
       "      <td>1.0</td>\n",
       "      <td>2.0</td>\n",
       "    </tr>\n",
       "    <tr>\n",
       "      <th>102953</th>\n",
       "      <td>1.0</td>\n",
       "      <td>14.0</td>\n",
       "      <td>NaN</td>\n",
       "      <td>NaN</td>\n",
       "      <td>NaN</td>\n",
       "      <td>NaN</td>\n",
       "      <td>NaN</td>\n",
       "      <td>NaN</td>\n",
       "      <td>NaN</td>\n",
       "      <td>NaN</td>\n",
       "      <td>NaN</td>\n",
       "      <td>NaN</td>\n",
       "      <td>NaN</td>\n",
       "      <td>1.0</td>\n",
       "      <td>1.0</td>\n",
       "    </tr>\n",
       "    <tr>\n",
       "      <th>102954</th>\n",
       "      <td>1.0</td>\n",
       "      <td>NaN</td>\n",
       "      <td>NaN</td>\n",
       "      <td>NaN</td>\n",
       "      <td>17.0</td>\n",
       "      <td>NaN</td>\n",
       "      <td>NaN</td>\n",
       "      <td>NaN</td>\n",
       "      <td>NaN</td>\n",
       "      <td>NaN</td>\n",
       "      <td>NaN</td>\n",
       "      <td>NaN</td>\n",
       "      <td>NaN</td>\n",
       "      <td>1.0</td>\n",
       "      <td>2.0</td>\n",
       "    </tr>\n",
       "    <tr>\n",
       "      <th>102955</th>\n",
       "      <td>1.0</td>\n",
       "      <td>14.0</td>\n",
       "      <td>NaN</td>\n",
       "      <td>NaN</td>\n",
       "      <td>NaN</td>\n",
       "      <td>NaN</td>\n",
       "      <td>NaN</td>\n",
       "      <td>NaN</td>\n",
       "      <td>NaN</td>\n",
       "      <td>NaN</td>\n",
       "      <td>NaN</td>\n",
       "      <td>NaN</td>\n",
       "      <td>NaN</td>\n",
       "      <td>1.0</td>\n",
       "      <td>1.0</td>\n",
       "    </tr>\n",
       "    <tr>\n",
       "      <th>102956</th>\n",
       "      <td>1.0</td>\n",
       "      <td>NaN</td>\n",
       "      <td>NaN</td>\n",
       "      <td>NaN</td>\n",
       "      <td>NaN</td>\n",
       "      <td>NaN</td>\n",
       "      <td>NaN</td>\n",
       "      <td>21.0</td>\n",
       "      <td>NaN</td>\n",
       "      <td>NaN</td>\n",
       "      <td>NaN</td>\n",
       "      <td>NaN</td>\n",
       "      <td>NaN</td>\n",
       "      <td>1.0</td>\n",
       "      <td>2.0</td>\n",
       "    </tr>\n",
       "  </tbody>\n",
       "</table>\n",
       "<p>9254 rows × 15 columns</p>\n",
       "</div>"
      ],
      "text/plain": [
       "        HIQ011  HIQ031A  HIQ031B  HIQ031C  ...  HIQ260  HIQ105  HIQ270  HIQ210\n",
       "SEQN                                       ...                                \n",
       "93703      1.0     14.0      NaN      NaN  ...     NaN     NaN     1.0     2.0\n",
       "93704      1.0     14.0      NaN      NaN  ...     NaN     NaN     1.0     2.0\n",
       "93705      1.0      NaN     15.0      NaN  ...     NaN     1.0     1.0     2.0\n",
       "93706      1.0     14.0      NaN      NaN  ...     NaN     NaN     1.0     2.0\n",
       "93707      1.0      NaN      NaN      NaN  ...     NaN     NaN     1.0     2.0\n",
       "...        ...      ...      ...      ...  ...     ...     ...     ...     ...\n",
       "102952     1.0     14.0     15.0      NaN  ...     NaN     1.0     1.0     2.0\n",
       "102953     1.0     14.0      NaN      NaN  ...     NaN     NaN     1.0     1.0\n",
       "102954     1.0      NaN      NaN      NaN  ...     NaN     NaN     1.0     2.0\n",
       "102955     1.0     14.0      NaN      NaN  ...     NaN     NaN     1.0     1.0\n",
       "102956     1.0      NaN      NaN      NaN  ...     NaN     NaN     1.0     2.0\n",
       "\n",
       "[9254 rows x 15 columns]"
      ]
     },
     "execution_count": 112,
     "metadata": {},
     "output_type": "execute_result"
    }
   ],
   "source": [
    "insurance"
   ]
  },
  {
   "cell_type": "code",
   "execution_count": 113,
   "metadata": {},
   "outputs": [
    {
     "data": {
      "text/plain": [
       "Index(['HIQ011', 'HIQ031A', 'HIQ031B', 'HIQ031C', 'HIQ031D', 'HIQ031E',\n",
       "       'HIQ031F', 'HIQ031H', 'HIQ031I', 'HIQ031J', 'HIQ031AA', 'HIQ260',\n",
       "       'HIQ105', 'HIQ270', 'HIQ210'],\n",
       "      dtype='object')"
      ]
     },
     "execution_count": 113,
     "metadata": {},
     "output_type": "execute_result"
    }
   ],
   "source": [
    "insurance.columns"
   ]
  },
  {
   "cell_type": "code",
   "execution_count": 114,
   "metadata": {},
   "outputs": [],
   "source": [
    "keepcols_insurance = ['HIQ011', 'HIQ031A', 'HIQ031B', 'HIQ031C', 'HIQ031D', 'HIQ031E',\n",
    "       'HIQ031F', 'HIQ031H', 'HIQ031I', 'HIQ031J', 'HIQ031AA', 'HIQ270', 'HIQ210']\n",
    "\n",
    "mapper_insurance = {'HIQ011': 'coverage_status',\n",
    "          'HIQ031A': 'covered_private',\n",
    "          'HIQ031B': 'covered_medicare',\n",
    "          'HIQ031C': 'covered_medigap',\n",
    "          'HIQ031D': 'covered_medicaid',\n",
    "          'HIQ031E': 'covered_chip',\n",
    "          'HIQ031F': 'covered_military',\n",
    "          'HIQ031H': 'covered_state',\n",
    "          'HIQ031I': 'covered_other_gov',\n",
    "          'HIQ031J': 'covered_single_service',\n",
    "          'HIQ031AA': 'not_covered',\n",
    "          'HIQ270': 'prescription_coverage',\n",
    "          'HIQ210': 'uninsured_in_last_year'}"
   ]
  },
  {
   "cell_type": "code",
   "execution_count": 116,
   "metadata": {
    "scrolled": false
   },
   "outputs": [
    {
     "data": {
      "text/html": [
       "<div>\n",
       "<style scoped>\n",
       "    .dataframe tbody tr th:only-of-type {\n",
       "        vertical-align: middle;\n",
       "    }\n",
       "\n",
       "    .dataframe tbody tr th {\n",
       "        vertical-align: top;\n",
       "    }\n",
       "\n",
       "    .dataframe thead th {\n",
       "        text-align: right;\n",
       "    }\n",
       "</style>\n",
       "<table border=\"1\" class=\"dataframe\">\n",
       "  <thead>\n",
       "    <tr style=\"text-align: right;\">\n",
       "      <th></th>\n",
       "      <th>coverage_status</th>\n",
       "      <th>covered_private</th>\n",
       "      <th>covered_medicare</th>\n",
       "      <th>covered_medigap</th>\n",
       "      <th>covered_medicaid</th>\n",
       "      <th>covered_chip</th>\n",
       "      <th>covered_military</th>\n",
       "      <th>covered_state</th>\n",
       "      <th>covered_other_gov</th>\n",
       "      <th>covered_single_service</th>\n",
       "      <th>not_covered</th>\n",
       "      <th>prescription_coverage</th>\n",
       "      <th>uninsured_in_last_year</th>\n",
       "    </tr>\n",
       "    <tr>\n",
       "      <th>SEQN</th>\n",
       "      <th></th>\n",
       "      <th></th>\n",
       "      <th></th>\n",
       "      <th></th>\n",
       "      <th></th>\n",
       "      <th></th>\n",
       "      <th></th>\n",
       "      <th></th>\n",
       "      <th></th>\n",
       "      <th></th>\n",
       "      <th></th>\n",
       "      <th></th>\n",
       "      <th></th>\n",
       "    </tr>\n",
       "  </thead>\n",
       "  <tbody>\n",
       "    <tr>\n",
       "      <th>93703</th>\n",
       "      <td>1.0</td>\n",
       "      <td>14.0</td>\n",
       "      <td>NaN</td>\n",
       "      <td>NaN</td>\n",
       "      <td>NaN</td>\n",
       "      <td>NaN</td>\n",
       "      <td>NaN</td>\n",
       "      <td>NaN</td>\n",
       "      <td>NaN</td>\n",
       "      <td>NaN</td>\n",
       "      <td>NaN</td>\n",
       "      <td>1.0</td>\n",
       "      <td>2.0</td>\n",
       "    </tr>\n",
       "    <tr>\n",
       "      <th>93704</th>\n",
       "      <td>1.0</td>\n",
       "      <td>14.0</td>\n",
       "      <td>NaN</td>\n",
       "      <td>NaN</td>\n",
       "      <td>NaN</td>\n",
       "      <td>NaN</td>\n",
       "      <td>NaN</td>\n",
       "      <td>NaN</td>\n",
       "      <td>NaN</td>\n",
       "      <td>NaN</td>\n",
       "      <td>NaN</td>\n",
       "      <td>1.0</td>\n",
       "      <td>2.0</td>\n",
       "    </tr>\n",
       "    <tr>\n",
       "      <th>93705</th>\n",
       "      <td>1.0</td>\n",
       "      <td>NaN</td>\n",
       "      <td>15.0</td>\n",
       "      <td>NaN</td>\n",
       "      <td>17.0</td>\n",
       "      <td>NaN</td>\n",
       "      <td>NaN</td>\n",
       "      <td>NaN</td>\n",
       "      <td>NaN</td>\n",
       "      <td>NaN</td>\n",
       "      <td>NaN</td>\n",
       "      <td>1.0</td>\n",
       "      <td>2.0</td>\n",
       "    </tr>\n",
       "    <tr>\n",
       "      <th>93706</th>\n",
       "      <td>1.0</td>\n",
       "      <td>14.0</td>\n",
       "      <td>NaN</td>\n",
       "      <td>NaN</td>\n",
       "      <td>NaN</td>\n",
       "      <td>NaN</td>\n",
       "      <td>NaN</td>\n",
       "      <td>NaN</td>\n",
       "      <td>NaN</td>\n",
       "      <td>NaN</td>\n",
       "      <td>NaN</td>\n",
       "      <td>1.0</td>\n",
       "      <td>2.0</td>\n",
       "    </tr>\n",
       "    <tr>\n",
       "      <th>93707</th>\n",
       "      <td>1.0</td>\n",
       "      <td>NaN</td>\n",
       "      <td>NaN</td>\n",
       "      <td>NaN</td>\n",
       "      <td>17.0</td>\n",
       "      <td>NaN</td>\n",
       "      <td>NaN</td>\n",
       "      <td>NaN</td>\n",
       "      <td>NaN</td>\n",
       "      <td>NaN</td>\n",
       "      <td>NaN</td>\n",
       "      <td>1.0</td>\n",
       "      <td>2.0</td>\n",
       "    </tr>\n",
       "    <tr>\n",
       "      <th>...</th>\n",
       "      <td>...</td>\n",
       "      <td>...</td>\n",
       "      <td>...</td>\n",
       "      <td>...</td>\n",
       "      <td>...</td>\n",
       "      <td>...</td>\n",
       "      <td>...</td>\n",
       "      <td>...</td>\n",
       "      <td>...</td>\n",
       "      <td>...</td>\n",
       "      <td>...</td>\n",
       "      <td>...</td>\n",
       "      <td>...</td>\n",
       "    </tr>\n",
       "    <tr>\n",
       "      <th>102952</th>\n",
       "      <td>1.0</td>\n",
       "      <td>14.0</td>\n",
       "      <td>15.0</td>\n",
       "      <td>NaN</td>\n",
       "      <td>NaN</td>\n",
       "      <td>NaN</td>\n",
       "      <td>NaN</td>\n",
       "      <td>NaN</td>\n",
       "      <td>NaN</td>\n",
       "      <td>NaN</td>\n",
       "      <td>NaN</td>\n",
       "      <td>1.0</td>\n",
       "      <td>2.0</td>\n",
       "    </tr>\n",
       "    <tr>\n",
       "      <th>102953</th>\n",
       "      <td>1.0</td>\n",
       "      <td>14.0</td>\n",
       "      <td>NaN</td>\n",
       "      <td>NaN</td>\n",
       "      <td>NaN</td>\n",
       "      <td>NaN</td>\n",
       "      <td>NaN</td>\n",
       "      <td>NaN</td>\n",
       "      <td>NaN</td>\n",
       "      <td>NaN</td>\n",
       "      <td>NaN</td>\n",
       "      <td>1.0</td>\n",
       "      <td>1.0</td>\n",
       "    </tr>\n",
       "    <tr>\n",
       "      <th>102954</th>\n",
       "      <td>1.0</td>\n",
       "      <td>NaN</td>\n",
       "      <td>NaN</td>\n",
       "      <td>NaN</td>\n",
       "      <td>17.0</td>\n",
       "      <td>NaN</td>\n",
       "      <td>NaN</td>\n",
       "      <td>NaN</td>\n",
       "      <td>NaN</td>\n",
       "      <td>NaN</td>\n",
       "      <td>NaN</td>\n",
       "      <td>1.0</td>\n",
       "      <td>2.0</td>\n",
       "    </tr>\n",
       "    <tr>\n",
       "      <th>102955</th>\n",
       "      <td>1.0</td>\n",
       "      <td>14.0</td>\n",
       "      <td>NaN</td>\n",
       "      <td>NaN</td>\n",
       "      <td>NaN</td>\n",
       "      <td>NaN</td>\n",
       "      <td>NaN</td>\n",
       "      <td>NaN</td>\n",
       "      <td>NaN</td>\n",
       "      <td>NaN</td>\n",
       "      <td>NaN</td>\n",
       "      <td>1.0</td>\n",
       "      <td>1.0</td>\n",
       "    </tr>\n",
       "    <tr>\n",
       "      <th>102956</th>\n",
       "      <td>1.0</td>\n",
       "      <td>NaN</td>\n",
       "      <td>NaN</td>\n",
       "      <td>NaN</td>\n",
       "      <td>NaN</td>\n",
       "      <td>NaN</td>\n",
       "      <td>NaN</td>\n",
       "      <td>21.0</td>\n",
       "      <td>NaN</td>\n",
       "      <td>NaN</td>\n",
       "      <td>NaN</td>\n",
       "      <td>1.0</td>\n",
       "      <td>2.0</td>\n",
       "    </tr>\n",
       "  </tbody>\n",
       "</table>\n",
       "<p>9254 rows × 13 columns</p>\n",
       "</div>"
      ],
      "text/plain": [
       "        coverage_status  ...  uninsured_in_last_year\n",
       "SEQN                     ...                        \n",
       "93703               1.0  ...                     2.0\n",
       "93704               1.0  ...                     2.0\n",
       "93705               1.0  ...                     2.0\n",
       "93706               1.0  ...                     2.0\n",
       "93707               1.0  ...                     2.0\n",
       "...                 ...  ...                     ...\n",
       "102952              1.0  ...                     2.0\n",
       "102953              1.0  ...                     1.0\n",
       "102954              1.0  ...                     2.0\n",
       "102955              1.0  ...                     1.0\n",
       "102956              1.0  ...                     2.0\n",
       "\n",
       "[9254 rows x 13 columns]"
      ]
     },
     "execution_count": 116,
     "metadata": {},
     "output_type": "execute_result"
    }
   ],
   "source": [
    "keep_insurance = insurance.copy()[keepcols_insurance]\n",
    "keep_insurance.rename(mapper=mapper_insurance, axis=1, inplace=True)\n",
    "keep_insurance"
   ]
  },
  {
   "cell_type": "code",
   "execution_count": 119,
   "metadata": {},
   "outputs": [
    {
     "data": {
      "text/plain": [
       "1.0    8157\n",
       "2.0    1072\n",
       "9.0      18\n",
       "7.0       7\n",
       "Name: coverage_status, dtype: int64"
      ]
     },
     "execution_count": 119,
     "metadata": {},
     "output_type": "execute_result"
    }
   ],
   "source": [
    "keep_insurance['coverage_status'].value_counts(dropna=False)"
   ]
  },
  {
   "cell_type": "code",
   "execution_count": 120,
   "metadata": {},
   "outputs": [],
   "source": [
    "# kept a \"no_answer\" class as this may be meaningful\n",
    "keep_insurance['coverage_status'].replace({1.0: 'insured',\n",
    "                                   2.0: 'uninsured',\n",
    "                                   7.0: 'no_answer',\n",
    "                                   9.0: 'no_answer'}, inplace=True)"
   ]
  },
  {
   "cell_type": "code",
   "execution_count": 121,
   "metadata": {},
   "outputs": [
    {
     "data": {
      "text/plain": [
       "insured      8157\n",
       "uninsured    1072\n",
       "no_answer      25\n",
       "Name: coverage_status, dtype: int64"
      ]
     },
     "execution_count": 121,
     "metadata": {},
     "output_type": "execute_result"
    }
   ],
   "source": [
    "keep_insurance['coverage_status'].value_counts(dropna=False)"
   ]
  },
  {
   "cell_type": "code",
   "execution_count": 122,
   "metadata": {},
   "outputs": [
    {
     "data": {
      "text/plain": [
       "NaN     5000\n",
       "14.0    4188\n",
       "99.0      63\n",
       "77.0       3\n",
       "Name: covered_private, dtype: int64"
      ]
     },
     "execution_count": 122,
     "metadata": {},
     "output_type": "execute_result"
    }
   ],
   "source": [
    "keep_insurance['covered_private'].value_counts(dropna=False)"
   ]
  },
  {
   "cell_type": "code",
   "execution_count": 123,
   "metadata": {},
   "outputs": [],
   "source": [
    "keep_insurance['covered_private'].replace({14.0: 'yes',\n",
    "                                   99.0: 'no',\n",
    "                                   77.0: 'no',\n",
    "                                   np.nan: 'no'}, inplace=True)"
   ]
  },
  {
   "cell_type": "code",
   "execution_count": 124,
   "metadata": {},
   "outputs": [
    {
     "data": {
      "text/plain": [
       "NaN     7672\n",
       "15.0    1582\n",
       "Name: covered_medicare, dtype: int64"
      ]
     },
     "execution_count": 124,
     "metadata": {},
     "output_type": "execute_result"
    }
   ],
   "source": [
    "keep_insurance['covered_medicare'].value_counts(dropna=False)"
   ]
  },
  {
   "cell_type": "code",
   "execution_count": 125,
   "metadata": {},
   "outputs": [],
   "source": [
    "keep_insurance['covered_medicare'].replace({15.0: 'yes', np.nan: 'no'}, inplace=True)"
   ]
  },
  {
   "cell_type": "code",
   "execution_count": 126,
   "metadata": {},
   "outputs": [
    {
     "data": {
      "text/plain": [
       "NaN     9196\n",
       "16.0      58\n",
       "Name: covered_medigap, dtype: int64"
      ]
     },
     "execution_count": 126,
     "metadata": {},
     "output_type": "execute_result"
    }
   ],
   "source": [
    "keep_insurance['covered_medigap'].value_counts(dropna=False)"
   ]
  },
  {
   "cell_type": "code",
   "execution_count": 127,
   "metadata": {},
   "outputs": [],
   "source": [
    "keep_insurance['covered_medigap'].replace({16.0: 'yes', np.nan: 'no'}, inplace=True)"
   ]
  },
  {
   "cell_type": "code",
   "execution_count": 128,
   "metadata": {},
   "outputs": [
    {
     "data": {
      "text/plain": [
       "NaN     6727\n",
       "17.0    2527\n",
       "Name: covered_medicaid, dtype: int64"
      ]
     },
     "execution_count": 128,
     "metadata": {},
     "output_type": "execute_result"
    }
   ],
   "source": [
    "keep_insurance['covered_medicaid'].value_counts(dropna=False)"
   ]
  },
  {
   "cell_type": "code",
   "execution_count": 129,
   "metadata": {},
   "outputs": [],
   "source": [
    "keep_insurance['covered_medicaid'].replace({17.0: 'yes', np.nan: 'no'}, inplace=True)"
   ]
  },
  {
   "cell_type": "code",
   "execution_count": 130,
   "metadata": {},
   "outputs": [
    {
     "data": {
      "text/plain": [
       "NaN     9161\n",
       "18.0      93\n",
       "Name: covered_chip, dtype: int64"
      ]
     },
     "execution_count": 130,
     "metadata": {},
     "output_type": "execute_result"
    }
   ],
   "source": [
    "keep_insurance['covered_chip'].value_counts(dropna=False)"
   ]
  },
  {
   "cell_type": "code",
   "execution_count": 131,
   "metadata": {},
   "outputs": [],
   "source": [
    "keep_insurance['covered_chip'].replace({18.0: 'yes', np.nan: 'no'}, inplace=True)"
   ]
  },
  {
   "cell_type": "code",
   "execution_count": 132,
   "metadata": {},
   "outputs": [
    {
     "data": {
      "text/plain": [
       "NaN     8959\n",
       "19.0     295\n",
       "Name: covered_military, dtype: int64"
      ]
     },
     "execution_count": 132,
     "metadata": {},
     "output_type": "execute_result"
    }
   ],
   "source": [
    "keep_insurance['covered_military'].value_counts(dropna=False)"
   ]
  },
  {
   "cell_type": "code",
   "execution_count": 133,
   "metadata": {},
   "outputs": [],
   "source": [
    "keep_insurance['covered_military'].replace({19.0: 'yes', np.nan: 'no'}, inplace=True)"
   ]
  },
  {
   "cell_type": "code",
   "execution_count": 134,
   "metadata": {},
   "outputs": [
    {
     "data": {
      "text/plain": [
       "NaN     8721\n",
       "21.0     533\n",
       "Name: covered_state, dtype: int64"
      ]
     },
     "execution_count": 134,
     "metadata": {},
     "output_type": "execute_result"
    }
   ],
   "source": [
    "keep_insurance['covered_state'].value_counts(dropna=False)"
   ]
  },
  {
   "cell_type": "code",
   "execution_count": 135,
   "metadata": {},
   "outputs": [],
   "source": [
    "keep_insurance['covered_state'].replace({21.0: 'yes', np.nan: 'no'}, inplace=True)"
   ]
  },
  {
   "cell_type": "code",
   "execution_count": 136,
   "metadata": {},
   "outputs": [
    {
     "data": {
      "text/plain": [
       "NaN     8953\n",
       "22.0     301\n",
       "Name: covered_other_gov, dtype: int64"
      ]
     },
     "execution_count": 136,
     "metadata": {},
     "output_type": "execute_result"
    }
   ],
   "source": [
    "keep_insurance['covered_other_gov'].value_counts(dropna=False)"
   ]
  },
  {
   "cell_type": "code",
   "execution_count": 137,
   "metadata": {},
   "outputs": [],
   "source": [
    "keep_insurance['covered_other_gov'].replace({22.0: 'yes', np.nan: 'no'}, inplace=True)"
   ]
  },
  {
   "cell_type": "code",
   "execution_count": 138,
   "metadata": {},
   "outputs": [
    {
     "data": {
      "text/plain": [
       "NaN     8546\n",
       "23.0     708\n",
       "Name: covered_single_service, dtype: int64"
      ]
     },
     "execution_count": 138,
     "metadata": {},
     "output_type": "execute_result"
    }
   ],
   "source": [
    "keep_insurance['covered_single_service'].value_counts(dropna=False)"
   ]
  },
  {
   "cell_type": "code",
   "execution_count": 139,
   "metadata": {},
   "outputs": [],
   "source": [
    "keep_insurance['covered_single_service'].replace({23.0: 'yes', np.nan: 'no'}, inplace=True)"
   ]
  },
  {
   "cell_type": "code",
   "execution_count": 140,
   "metadata": {},
   "outputs": [
    {
     "data": {
      "text/plain": [
       "NaN     9253\n",
       "40.0       1\n",
       "Name: not_covered, dtype: int64"
      ]
     },
     "execution_count": 140,
     "metadata": {},
     "output_type": "execute_result"
    }
   ],
   "source": [
    "keep_insurance['not_covered'].value_counts(dropna=False)"
   ]
  },
  {
   "cell_type": "code",
   "execution_count": 141,
   "metadata": {},
   "outputs": [],
   "source": [
    "#seems to be an anomoly, so I drop this row\n",
    "keep_insurance[keep_insurance['not_covered']==40.0]\n",
    "keep_insurance = keep_insurance[keep_insurance['not_covered']!=40.0]"
   ]
  },
  {
   "cell_type": "code",
   "execution_count": 142,
   "metadata": {},
   "outputs": [
    {
     "name": "stderr",
     "output_type": "stream",
     "text": [
      "/Users/kristincooper/opt/anaconda3/envs/learn-env/lib/python3.8/site-packages/pandas/core/frame.py:4163: SettingWithCopyWarning: \n",
      "A value is trying to be set on a copy of a slice from a DataFrame\n",
      "\n",
      "See the caveats in the documentation: https://pandas.pydata.org/pandas-docs/stable/user_guide/indexing.html#returning-a-view-versus-a-copy\n",
      "  return super().drop(\n"
     ]
    }
   ],
   "source": [
    "keep_insurance.drop(columns='not_covered', inplace=True)"
   ]
  },
  {
   "cell_type": "code",
   "execution_count": 144,
   "metadata": {
    "scrolled": true
   },
   "outputs": [
    {
     "data": {
      "text/html": [
       "<div>\n",
       "<style scoped>\n",
       "    .dataframe tbody tr th:only-of-type {\n",
       "        vertical-align: middle;\n",
       "    }\n",
       "\n",
       "    .dataframe tbody tr th {\n",
       "        vertical-align: top;\n",
       "    }\n",
       "\n",
       "    .dataframe thead th {\n",
       "        text-align: right;\n",
       "    }\n",
       "</style>\n",
       "<table border=\"1\" class=\"dataframe\">\n",
       "  <thead>\n",
       "    <tr style=\"text-align: right;\">\n",
       "      <th></th>\n",
       "      <th>coverage_status</th>\n",
       "      <th>covered_private</th>\n",
       "      <th>covered_medicare</th>\n",
       "      <th>covered_medigap</th>\n",
       "      <th>covered_medicaid</th>\n",
       "      <th>covered_chip</th>\n",
       "      <th>covered_military</th>\n",
       "      <th>covered_state</th>\n",
       "      <th>covered_other_gov</th>\n",
       "      <th>covered_single_service</th>\n",
       "      <th>prescription_coverage</th>\n",
       "      <th>uninsured_in_last_year</th>\n",
       "    </tr>\n",
       "    <tr>\n",
       "      <th>SEQN</th>\n",
       "      <th></th>\n",
       "      <th></th>\n",
       "      <th></th>\n",
       "      <th></th>\n",
       "      <th></th>\n",
       "      <th></th>\n",
       "      <th></th>\n",
       "      <th></th>\n",
       "      <th></th>\n",
       "      <th></th>\n",
       "      <th></th>\n",
       "      <th></th>\n",
       "    </tr>\n",
       "  </thead>\n",
       "  <tbody>\n",
       "    <tr>\n",
       "      <th>93703</th>\n",
       "      <td>insured</td>\n",
       "      <td>yes</td>\n",
       "      <td>no</td>\n",
       "      <td>no</td>\n",
       "      <td>no</td>\n",
       "      <td>no</td>\n",
       "      <td>no</td>\n",
       "      <td>no</td>\n",
       "      <td>no</td>\n",
       "      <td>no</td>\n",
       "      <td>1.0</td>\n",
       "      <td>2.0</td>\n",
       "    </tr>\n",
       "    <tr>\n",
       "      <th>93704</th>\n",
       "      <td>insured</td>\n",
       "      <td>yes</td>\n",
       "      <td>no</td>\n",
       "      <td>no</td>\n",
       "      <td>no</td>\n",
       "      <td>no</td>\n",
       "      <td>no</td>\n",
       "      <td>no</td>\n",
       "      <td>no</td>\n",
       "      <td>no</td>\n",
       "      <td>1.0</td>\n",
       "      <td>2.0</td>\n",
       "    </tr>\n",
       "    <tr>\n",
       "      <th>93705</th>\n",
       "      <td>insured</td>\n",
       "      <td>no</td>\n",
       "      <td>yes</td>\n",
       "      <td>no</td>\n",
       "      <td>yes</td>\n",
       "      <td>no</td>\n",
       "      <td>no</td>\n",
       "      <td>no</td>\n",
       "      <td>no</td>\n",
       "      <td>no</td>\n",
       "      <td>1.0</td>\n",
       "      <td>2.0</td>\n",
       "    </tr>\n",
       "    <tr>\n",
       "      <th>93706</th>\n",
       "      <td>insured</td>\n",
       "      <td>yes</td>\n",
       "      <td>no</td>\n",
       "      <td>no</td>\n",
       "      <td>no</td>\n",
       "      <td>no</td>\n",
       "      <td>no</td>\n",
       "      <td>no</td>\n",
       "      <td>no</td>\n",
       "      <td>no</td>\n",
       "      <td>1.0</td>\n",
       "      <td>2.0</td>\n",
       "    </tr>\n",
       "    <tr>\n",
       "      <th>93707</th>\n",
       "      <td>insured</td>\n",
       "      <td>no</td>\n",
       "      <td>no</td>\n",
       "      <td>no</td>\n",
       "      <td>yes</td>\n",
       "      <td>no</td>\n",
       "      <td>no</td>\n",
       "      <td>no</td>\n",
       "      <td>no</td>\n",
       "      <td>no</td>\n",
       "      <td>1.0</td>\n",
       "      <td>2.0</td>\n",
       "    </tr>\n",
       "  </tbody>\n",
       "</table>\n",
       "</div>"
      ],
      "text/plain": [
       "      coverage_status  ... uninsured_in_last_year\n",
       "SEQN                   ...                       \n",
       "93703         insured  ...                    2.0\n",
       "93704         insured  ...                    2.0\n",
       "93705         insured  ...                    2.0\n",
       "93706         insured  ...                    2.0\n",
       "93707         insured  ...                    2.0\n",
       "\n",
       "[5 rows x 12 columns]"
      ]
     },
     "execution_count": 144,
     "metadata": {},
     "output_type": "execute_result"
    }
   ],
   "source": [
    "keep_insurance.head()"
   ]
  },
  {
   "cell_type": "code",
   "execution_count": 145,
   "metadata": {},
   "outputs": [
    {
     "data": {
      "text/plain": [
       "1.0    7678\n",
       "NaN    1082\n",
       "2.0     379\n",
       "9.0     110\n",
       "7.0       4\n",
       "Name: prescription_coverage, dtype: int64"
      ]
     },
     "execution_count": 145,
     "metadata": {},
     "output_type": "execute_result"
    }
   ],
   "source": [
    "keep_insurance['prescription_coverage'].value_counts(dropna=False)"
   ]
  },
  {
   "cell_type": "code",
   "execution_count": 146,
   "metadata": {},
   "outputs": [
    {
     "name": "stderr",
     "output_type": "stream",
     "text": [
      "/Users/kristincooper/opt/anaconda3/envs/learn-env/lib/python3.8/site-packages/pandas/core/series.py:4563: SettingWithCopyWarning: \n",
      "A value is trying to be set on a copy of a slice from a DataFrame\n",
      "\n",
      "See the caveats in the documentation: https://pandas.pydata.org/pandas-docs/stable/user_guide/indexing.html#returning-a-view-versus-a-copy\n",
      "  return super().replace(\n"
     ]
    }
   ],
   "source": [
    "keep_insurance['prescription_coverage'].replace({1.0: 'yes',\n",
    "                                         2.0: 'no',\n",
    "                                         7.0: 'no_answer',\n",
    "                                         9.0: 'no_answer',\n",
    "                                         np.nan: 'no_answer'}, inplace=True)"
   ]
  },
  {
   "cell_type": "code",
   "execution_count": 147,
   "metadata": {},
   "outputs": [
    {
     "data": {
      "text/plain": [
       "yes          7678\n",
       "no_answer    1196\n",
       "no            379\n",
       "Name: prescription_coverage, dtype: int64"
      ]
     },
     "execution_count": 147,
     "metadata": {},
     "output_type": "execute_result"
    }
   ],
   "source": [
    "keep_insurance['prescription_coverage'].value_counts(dropna=False)"
   ]
  },
  {
   "cell_type": "code",
   "execution_count": 148,
   "metadata": {},
   "outputs": [
    {
     "data": {
      "text/plain": [
       "2.0    7591\n",
       "NaN    1082\n",
       "1.0     561\n",
       "9.0      18\n",
       "7.0       1\n",
       "Name: uninsured_in_last_year, dtype: int64"
      ]
     },
     "execution_count": 148,
     "metadata": {},
     "output_type": "execute_result"
    }
   ],
   "source": [
    "keep_insurance['uninsured_in_last_year'].value_counts(dropna=False)"
   ]
  },
  {
   "cell_type": "code",
   "execution_count": 149,
   "metadata": {},
   "outputs": [
    {
     "name": "stderr",
     "output_type": "stream",
     "text": [
      "/Users/kristincooper/opt/anaconda3/envs/learn-env/lib/python3.8/site-packages/pandas/core/series.py:4563: SettingWithCopyWarning: \n",
      "A value is trying to be set on a copy of a slice from a DataFrame\n",
      "\n",
      "See the caveats in the documentation: https://pandas.pydata.org/pandas-docs/stable/user_guide/indexing.html#returning-a-view-versus-a-copy\n",
      "  return super().replace(\n"
     ]
    }
   ],
   "source": [
    "keep_insurance['uninsured_in_last_year'].replace({1.0: 'yes',\n",
    "                                          2.0: 'no',\n",
    "                                          7.0: 'no_answer',\n",
    "                                          9.0: 'no_answer'}, inplace=True)"
   ]
  },
  {
   "cell_type": "code",
   "execution_count": 150,
   "metadata": {
    "scrolled": true
   },
   "outputs": [
    {
     "data": {
      "text/html": [
       "<div>\n",
       "<style scoped>\n",
       "    .dataframe tbody tr th:only-of-type {\n",
       "        vertical-align: middle;\n",
       "    }\n",
       "\n",
       "    .dataframe tbody tr th {\n",
       "        vertical-align: top;\n",
       "    }\n",
       "\n",
       "    .dataframe thead th {\n",
       "        text-align: right;\n",
       "    }\n",
       "</style>\n",
       "<table border=\"1\" class=\"dataframe\">\n",
       "  <thead>\n",
       "    <tr style=\"text-align: right;\">\n",
       "      <th></th>\n",
       "      <th>coverage_status</th>\n",
       "      <th>covered_private</th>\n",
       "      <th>covered_medicare</th>\n",
       "      <th>covered_medigap</th>\n",
       "      <th>covered_medicaid</th>\n",
       "      <th>covered_chip</th>\n",
       "      <th>covered_military</th>\n",
       "      <th>covered_state</th>\n",
       "      <th>covered_other_gov</th>\n",
       "      <th>covered_single_service</th>\n",
       "      <th>prescription_coverage</th>\n",
       "      <th>uninsured_in_last_year</th>\n",
       "    </tr>\n",
       "    <tr>\n",
       "      <th>SEQN</th>\n",
       "      <th></th>\n",
       "      <th></th>\n",
       "      <th></th>\n",
       "      <th></th>\n",
       "      <th></th>\n",
       "      <th></th>\n",
       "      <th></th>\n",
       "      <th></th>\n",
       "      <th></th>\n",
       "      <th></th>\n",
       "      <th></th>\n",
       "      <th></th>\n",
       "    </tr>\n",
       "  </thead>\n",
       "  <tbody>\n",
       "    <tr>\n",
       "      <th>93712</th>\n",
       "      <td>uninsured</td>\n",
       "      <td>no</td>\n",
       "      <td>no</td>\n",
       "      <td>no</td>\n",
       "      <td>no</td>\n",
       "      <td>no</td>\n",
       "      <td>no</td>\n",
       "      <td>no</td>\n",
       "      <td>no</td>\n",
       "      <td>no</td>\n",
       "      <td>no_answer</td>\n",
       "      <td>NaN</td>\n",
       "    </tr>\n",
       "    <tr>\n",
       "      <th>93717</th>\n",
       "      <td>uninsured</td>\n",
       "      <td>no</td>\n",
       "      <td>no</td>\n",
       "      <td>no</td>\n",
       "      <td>no</td>\n",
       "      <td>no</td>\n",
       "      <td>no</td>\n",
       "      <td>no</td>\n",
       "      <td>no</td>\n",
       "      <td>no</td>\n",
       "      <td>no_answer</td>\n",
       "      <td>NaN</td>\n",
       "    </tr>\n",
       "    <tr>\n",
       "      <th>93729</th>\n",
       "      <td>no_answer</td>\n",
       "      <td>no</td>\n",
       "      <td>no</td>\n",
       "      <td>no</td>\n",
       "      <td>no</td>\n",
       "      <td>no</td>\n",
       "      <td>no</td>\n",
       "      <td>no</td>\n",
       "      <td>no</td>\n",
       "      <td>no</td>\n",
       "      <td>no_answer</td>\n",
       "      <td>NaN</td>\n",
       "    </tr>\n",
       "    <tr>\n",
       "      <th>93730</th>\n",
       "      <td>uninsured</td>\n",
       "      <td>no</td>\n",
       "      <td>no</td>\n",
       "      <td>no</td>\n",
       "      <td>no</td>\n",
       "      <td>no</td>\n",
       "      <td>no</td>\n",
       "      <td>no</td>\n",
       "      <td>no</td>\n",
       "      <td>no</td>\n",
       "      <td>no_answer</td>\n",
       "      <td>NaN</td>\n",
       "    </tr>\n",
       "    <tr>\n",
       "      <th>93743</th>\n",
       "      <td>uninsured</td>\n",
       "      <td>no</td>\n",
       "      <td>no</td>\n",
       "      <td>no</td>\n",
       "      <td>no</td>\n",
       "      <td>no</td>\n",
       "      <td>no</td>\n",
       "      <td>no</td>\n",
       "      <td>no</td>\n",
       "      <td>no</td>\n",
       "      <td>no_answer</td>\n",
       "      <td>NaN</td>\n",
       "    </tr>\n",
       "    <tr>\n",
       "      <th>...</th>\n",
       "      <td>...</td>\n",
       "      <td>...</td>\n",
       "      <td>...</td>\n",
       "      <td>...</td>\n",
       "      <td>...</td>\n",
       "      <td>...</td>\n",
       "      <td>...</td>\n",
       "      <td>...</td>\n",
       "      <td>...</td>\n",
       "      <td>...</td>\n",
       "      <td>...</td>\n",
       "      <td>...</td>\n",
       "    </tr>\n",
       "    <tr>\n",
       "      <th>102884</th>\n",
       "      <td>uninsured</td>\n",
       "      <td>no</td>\n",
       "      <td>no</td>\n",
       "      <td>no</td>\n",
       "      <td>no</td>\n",
       "      <td>no</td>\n",
       "      <td>no</td>\n",
       "      <td>no</td>\n",
       "      <td>no</td>\n",
       "      <td>no</td>\n",
       "      <td>no_answer</td>\n",
       "      <td>NaN</td>\n",
       "    </tr>\n",
       "    <tr>\n",
       "      <th>102898</th>\n",
       "      <td>uninsured</td>\n",
       "      <td>no</td>\n",
       "      <td>no</td>\n",
       "      <td>no</td>\n",
       "      <td>no</td>\n",
       "      <td>no</td>\n",
       "      <td>no</td>\n",
       "      <td>no</td>\n",
       "      <td>no</td>\n",
       "      <td>no</td>\n",
       "      <td>no_answer</td>\n",
       "      <td>NaN</td>\n",
       "    </tr>\n",
       "    <tr>\n",
       "      <th>102918</th>\n",
       "      <td>uninsured</td>\n",
       "      <td>no</td>\n",
       "      <td>no</td>\n",
       "      <td>no</td>\n",
       "      <td>no</td>\n",
       "      <td>no</td>\n",
       "      <td>no</td>\n",
       "      <td>no</td>\n",
       "      <td>no</td>\n",
       "      <td>no</td>\n",
       "      <td>no_answer</td>\n",
       "      <td>NaN</td>\n",
       "    </tr>\n",
       "    <tr>\n",
       "      <th>102921</th>\n",
       "      <td>uninsured</td>\n",
       "      <td>no</td>\n",
       "      <td>no</td>\n",
       "      <td>no</td>\n",
       "      <td>no</td>\n",
       "      <td>no</td>\n",
       "      <td>no</td>\n",
       "      <td>no</td>\n",
       "      <td>no</td>\n",
       "      <td>no</td>\n",
       "      <td>no_answer</td>\n",
       "      <td>NaN</td>\n",
       "    </tr>\n",
       "    <tr>\n",
       "      <th>102922</th>\n",
       "      <td>uninsured</td>\n",
       "      <td>no</td>\n",
       "      <td>no</td>\n",
       "      <td>no</td>\n",
       "      <td>no</td>\n",
       "      <td>no</td>\n",
       "      <td>no</td>\n",
       "      <td>no</td>\n",
       "      <td>no</td>\n",
       "      <td>no</td>\n",
       "      <td>no_answer</td>\n",
       "      <td>NaN</td>\n",
       "    </tr>\n",
       "  </tbody>\n",
       "</table>\n",
       "<p>1082 rows × 12 columns</p>\n",
       "</div>"
      ],
      "text/plain": [
       "       coverage_status  ... uninsured_in_last_year\n",
       "SEQN                    ...                       \n",
       "93712        uninsured  ...                    NaN\n",
       "93717        uninsured  ...                    NaN\n",
       "93729        no_answer  ...                    NaN\n",
       "93730        uninsured  ...                    NaN\n",
       "93743        uninsured  ...                    NaN\n",
       "...                ...  ...                    ...\n",
       "102884       uninsured  ...                    NaN\n",
       "102898       uninsured  ...                    NaN\n",
       "102918       uninsured  ...                    NaN\n",
       "102921       uninsured  ...                    NaN\n",
       "102922       uninsured  ...                    NaN\n",
       "\n",
       "[1082 rows x 12 columns]"
      ]
     },
     "execution_count": 150,
     "metadata": {},
     "output_type": "execute_result"
    }
   ],
   "source": [
    "keep_insurance[keep_insurance['uninsured_in_last_year'].isna()]"
   ]
  },
  {
   "cell_type": "code",
   "execution_count": 151,
   "metadata": {},
   "outputs": [
    {
     "name": "stderr",
     "output_type": "stream",
     "text": [
      "/Users/kristincooper/opt/anaconda3/envs/learn-env/lib/python3.8/site-packages/IPython/core/interactiveshell.py:3417: SettingWithCopyWarning: \n",
      "A value is trying to be set on a copy of a slice from a DataFrame\n",
      "\n",
      "See the caveats in the documentation: https://pandas.pydata.org/pandas-docs/stable/user_guide/indexing.html#returning-a-view-versus-a-copy\n",
      "  exec(code_obj, self.user_global_ns, self.user_ns)\n"
     ]
    }
   ],
   "source": [
    "for ind, row in keep_insurance.iterrows():\n",
    "    if keep_insurance['coverage_status'][ind] == 'uninsured':\n",
    "        keep_insurance['uninsured_in_last_year'][ind] = 'yes'"
   ]
  },
  {
   "cell_type": "code",
   "execution_count": 152,
   "metadata": {
    "scrolled": true
   },
   "outputs": [
    {
     "data": {
      "text/html": [
       "<div>\n",
       "<style scoped>\n",
       "    .dataframe tbody tr th:only-of-type {\n",
       "        vertical-align: middle;\n",
       "    }\n",
       "\n",
       "    .dataframe tbody tr th {\n",
       "        vertical-align: top;\n",
       "    }\n",
       "\n",
       "    .dataframe thead th {\n",
       "        text-align: right;\n",
       "    }\n",
       "</style>\n",
       "<table border=\"1\" class=\"dataframe\">\n",
       "  <thead>\n",
       "    <tr style=\"text-align: right;\">\n",
       "      <th></th>\n",
       "      <th>coverage_status</th>\n",
       "      <th>covered_private</th>\n",
       "      <th>covered_medicare</th>\n",
       "      <th>covered_medigap</th>\n",
       "      <th>covered_medicaid</th>\n",
       "      <th>covered_chip</th>\n",
       "      <th>covered_military</th>\n",
       "      <th>covered_state</th>\n",
       "      <th>covered_other_gov</th>\n",
       "      <th>covered_single_service</th>\n",
       "      <th>prescription_coverage</th>\n",
       "      <th>uninsured_in_last_year</th>\n",
       "    </tr>\n",
       "    <tr>\n",
       "      <th>SEQN</th>\n",
       "      <th></th>\n",
       "      <th></th>\n",
       "      <th></th>\n",
       "      <th></th>\n",
       "      <th></th>\n",
       "      <th></th>\n",
       "      <th></th>\n",
       "      <th></th>\n",
       "      <th></th>\n",
       "      <th></th>\n",
       "      <th></th>\n",
       "      <th></th>\n",
       "    </tr>\n",
       "  </thead>\n",
       "  <tbody>\n",
       "    <tr>\n",
       "      <th>93729</th>\n",
       "      <td>no_answer</td>\n",
       "      <td>no</td>\n",
       "      <td>no</td>\n",
       "      <td>no</td>\n",
       "      <td>no</td>\n",
       "      <td>no</td>\n",
       "      <td>no</td>\n",
       "      <td>no</td>\n",
       "      <td>no</td>\n",
       "      <td>no</td>\n",
       "      <td>no_answer</td>\n",
       "      <td>NaN</td>\n",
       "    </tr>\n",
       "    <tr>\n",
       "      <th>93902</th>\n",
       "      <td>no_answer</td>\n",
       "      <td>no</td>\n",
       "      <td>no</td>\n",
       "      <td>no</td>\n",
       "      <td>no</td>\n",
       "      <td>no</td>\n",
       "      <td>no</td>\n",
       "      <td>no</td>\n",
       "      <td>no</td>\n",
       "      <td>no</td>\n",
       "      <td>no_answer</td>\n",
       "      <td>NaN</td>\n",
       "    </tr>\n",
       "    <tr>\n",
       "      <th>93981</th>\n",
       "      <td>no_answer</td>\n",
       "      <td>no</td>\n",
       "      <td>no</td>\n",
       "      <td>no</td>\n",
       "      <td>no</td>\n",
       "      <td>no</td>\n",
       "      <td>no</td>\n",
       "      <td>no</td>\n",
       "      <td>no</td>\n",
       "      <td>no</td>\n",
       "      <td>no_answer</td>\n",
       "      <td>NaN</td>\n",
       "    </tr>\n",
       "    <tr>\n",
       "      <th>95301</th>\n",
       "      <td>no_answer</td>\n",
       "      <td>no</td>\n",
       "      <td>no</td>\n",
       "      <td>no</td>\n",
       "      <td>no</td>\n",
       "      <td>no</td>\n",
       "      <td>no</td>\n",
       "      <td>no</td>\n",
       "      <td>no</td>\n",
       "      <td>no</td>\n",
       "      <td>no_answer</td>\n",
       "      <td>NaN</td>\n",
       "    </tr>\n",
       "    <tr>\n",
       "      <th>95515</th>\n",
       "      <td>no_answer</td>\n",
       "      <td>no</td>\n",
       "      <td>no</td>\n",
       "      <td>no</td>\n",
       "      <td>no</td>\n",
       "      <td>no</td>\n",
       "      <td>no</td>\n",
       "      <td>no</td>\n",
       "      <td>no</td>\n",
       "      <td>no</td>\n",
       "      <td>no_answer</td>\n",
       "      <td>NaN</td>\n",
       "    </tr>\n",
       "    <tr>\n",
       "      <th>95567</th>\n",
       "      <td>no_answer</td>\n",
       "      <td>no</td>\n",
       "      <td>no</td>\n",
       "      <td>no</td>\n",
       "      <td>no</td>\n",
       "      <td>no</td>\n",
       "      <td>no</td>\n",
       "      <td>no</td>\n",
       "      <td>no</td>\n",
       "      <td>no</td>\n",
       "      <td>no_answer</td>\n",
       "      <td>NaN</td>\n",
       "    </tr>\n",
       "    <tr>\n",
       "      <th>95659</th>\n",
       "      <td>no_answer</td>\n",
       "      <td>no</td>\n",
       "      <td>no</td>\n",
       "      <td>no</td>\n",
       "      <td>no</td>\n",
       "      <td>no</td>\n",
       "      <td>no</td>\n",
       "      <td>no</td>\n",
       "      <td>no</td>\n",
       "      <td>no</td>\n",
       "      <td>no_answer</td>\n",
       "      <td>NaN</td>\n",
       "    </tr>\n",
       "    <tr>\n",
       "      <th>96934</th>\n",
       "      <td>no_answer</td>\n",
       "      <td>no</td>\n",
       "      <td>no</td>\n",
       "      <td>no</td>\n",
       "      <td>no</td>\n",
       "      <td>no</td>\n",
       "      <td>no</td>\n",
       "      <td>no</td>\n",
       "      <td>no</td>\n",
       "      <td>no</td>\n",
       "      <td>no_answer</td>\n",
       "      <td>NaN</td>\n",
       "    </tr>\n",
       "    <tr>\n",
       "      <th>97033</th>\n",
       "      <td>no_answer</td>\n",
       "      <td>no</td>\n",
       "      <td>no</td>\n",
       "      <td>no</td>\n",
       "      <td>no</td>\n",
       "      <td>no</td>\n",
       "      <td>no</td>\n",
       "      <td>no</td>\n",
       "      <td>no</td>\n",
       "      <td>no</td>\n",
       "      <td>no_answer</td>\n",
       "      <td>NaN</td>\n",
       "    </tr>\n",
       "    <tr>\n",
       "      <th>97306</th>\n",
       "      <td>no_answer</td>\n",
       "      <td>no</td>\n",
       "      <td>no</td>\n",
       "      <td>no</td>\n",
       "      <td>no</td>\n",
       "      <td>no</td>\n",
       "      <td>no</td>\n",
       "      <td>no</td>\n",
       "      <td>no</td>\n",
       "      <td>no</td>\n",
       "      <td>no_answer</td>\n",
       "      <td>NaN</td>\n",
       "    </tr>\n",
       "    <tr>\n",
       "      <th>97486</th>\n",
       "      <td>no_answer</td>\n",
       "      <td>no</td>\n",
       "      <td>no</td>\n",
       "      <td>no</td>\n",
       "      <td>no</td>\n",
       "      <td>no</td>\n",
       "      <td>no</td>\n",
       "      <td>no</td>\n",
       "      <td>no</td>\n",
       "      <td>no</td>\n",
       "      <td>no_answer</td>\n",
       "      <td>NaN</td>\n",
       "    </tr>\n",
       "    <tr>\n",
       "      <th>97531</th>\n",
       "      <td>no_answer</td>\n",
       "      <td>no</td>\n",
       "      <td>no</td>\n",
       "      <td>no</td>\n",
       "      <td>no</td>\n",
       "      <td>no</td>\n",
       "      <td>no</td>\n",
       "      <td>no</td>\n",
       "      <td>no</td>\n",
       "      <td>no</td>\n",
       "      <td>no_answer</td>\n",
       "      <td>NaN</td>\n",
       "    </tr>\n",
       "    <tr>\n",
       "      <th>97774</th>\n",
       "      <td>no_answer</td>\n",
       "      <td>no</td>\n",
       "      <td>no</td>\n",
       "      <td>no</td>\n",
       "      <td>no</td>\n",
       "      <td>no</td>\n",
       "      <td>no</td>\n",
       "      <td>no</td>\n",
       "      <td>no</td>\n",
       "      <td>no</td>\n",
       "      <td>no_answer</td>\n",
       "      <td>NaN</td>\n",
       "    </tr>\n",
       "    <tr>\n",
       "      <th>98146</th>\n",
       "      <td>no_answer</td>\n",
       "      <td>no</td>\n",
       "      <td>no</td>\n",
       "      <td>no</td>\n",
       "      <td>no</td>\n",
       "      <td>no</td>\n",
       "      <td>no</td>\n",
       "      <td>no</td>\n",
       "      <td>no</td>\n",
       "      <td>no</td>\n",
       "      <td>no_answer</td>\n",
       "      <td>NaN</td>\n",
       "    </tr>\n",
       "    <tr>\n",
       "      <th>98618</th>\n",
       "      <td>no_answer</td>\n",
       "      <td>no</td>\n",
       "      <td>no</td>\n",
       "      <td>no</td>\n",
       "      <td>no</td>\n",
       "      <td>no</td>\n",
       "      <td>no</td>\n",
       "      <td>no</td>\n",
       "      <td>no</td>\n",
       "      <td>no</td>\n",
       "      <td>no_answer</td>\n",
       "      <td>NaN</td>\n",
       "    </tr>\n",
       "    <tr>\n",
       "      <th>98628</th>\n",
       "      <td>no_answer</td>\n",
       "      <td>no</td>\n",
       "      <td>no</td>\n",
       "      <td>no</td>\n",
       "      <td>no</td>\n",
       "      <td>no</td>\n",
       "      <td>no</td>\n",
       "      <td>no</td>\n",
       "      <td>no</td>\n",
       "      <td>no</td>\n",
       "      <td>no_answer</td>\n",
       "      <td>NaN</td>\n",
       "    </tr>\n",
       "    <tr>\n",
       "      <th>98926</th>\n",
       "      <td>no_answer</td>\n",
       "      <td>no</td>\n",
       "      <td>no</td>\n",
       "      <td>no</td>\n",
       "      <td>no</td>\n",
       "      <td>no</td>\n",
       "      <td>no</td>\n",
       "      <td>no</td>\n",
       "      <td>no</td>\n",
       "      <td>no</td>\n",
       "      <td>no_answer</td>\n",
       "      <td>NaN</td>\n",
       "    </tr>\n",
       "    <tr>\n",
       "      <th>98962</th>\n",
       "      <td>no_answer</td>\n",
       "      <td>no</td>\n",
       "      <td>no</td>\n",
       "      <td>no</td>\n",
       "      <td>no</td>\n",
       "      <td>no</td>\n",
       "      <td>no</td>\n",
       "      <td>no</td>\n",
       "      <td>no</td>\n",
       "      <td>no</td>\n",
       "      <td>no_answer</td>\n",
       "      <td>NaN</td>\n",
       "    </tr>\n",
       "    <tr>\n",
       "      <th>99065</th>\n",
       "      <td>no_answer</td>\n",
       "      <td>no</td>\n",
       "      <td>no</td>\n",
       "      <td>no</td>\n",
       "      <td>no</td>\n",
       "      <td>no</td>\n",
       "      <td>no</td>\n",
       "      <td>no</td>\n",
       "      <td>no</td>\n",
       "      <td>no</td>\n",
       "      <td>no_answer</td>\n",
       "      <td>NaN</td>\n",
       "    </tr>\n",
       "    <tr>\n",
       "      <th>99576</th>\n",
       "      <td>no_answer</td>\n",
       "      <td>no</td>\n",
       "      <td>no</td>\n",
       "      <td>no</td>\n",
       "      <td>no</td>\n",
       "      <td>no</td>\n",
       "      <td>no</td>\n",
       "      <td>no</td>\n",
       "      <td>no</td>\n",
       "      <td>no</td>\n",
       "      <td>no_answer</td>\n",
       "      <td>NaN</td>\n",
       "    </tr>\n",
       "    <tr>\n",
       "      <th>100464</th>\n",
       "      <td>no_answer</td>\n",
       "      <td>no</td>\n",
       "      <td>no</td>\n",
       "      <td>no</td>\n",
       "      <td>no</td>\n",
       "      <td>no</td>\n",
       "      <td>no</td>\n",
       "      <td>no</td>\n",
       "      <td>no</td>\n",
       "      <td>no</td>\n",
       "      <td>no_answer</td>\n",
       "      <td>NaN</td>\n",
       "    </tr>\n",
       "    <tr>\n",
       "      <th>100601</th>\n",
       "      <td>no_answer</td>\n",
       "      <td>no</td>\n",
       "      <td>no</td>\n",
       "      <td>no</td>\n",
       "      <td>no</td>\n",
       "      <td>no</td>\n",
       "      <td>no</td>\n",
       "      <td>no</td>\n",
       "      <td>no</td>\n",
       "      <td>no</td>\n",
       "      <td>no_answer</td>\n",
       "      <td>NaN</td>\n",
       "    </tr>\n",
       "    <tr>\n",
       "      <th>100950</th>\n",
       "      <td>no_answer</td>\n",
       "      <td>no</td>\n",
       "      <td>no</td>\n",
       "      <td>no</td>\n",
       "      <td>no</td>\n",
       "      <td>no</td>\n",
       "      <td>no</td>\n",
       "      <td>no</td>\n",
       "      <td>no</td>\n",
       "      <td>no</td>\n",
       "      <td>no_answer</td>\n",
       "      <td>NaN</td>\n",
       "    </tr>\n",
       "    <tr>\n",
       "      <th>100981</th>\n",
       "      <td>no_answer</td>\n",
       "      <td>no</td>\n",
       "      <td>no</td>\n",
       "      <td>no</td>\n",
       "      <td>no</td>\n",
       "      <td>no</td>\n",
       "      <td>no</td>\n",
       "      <td>no</td>\n",
       "      <td>no</td>\n",
       "      <td>no</td>\n",
       "      <td>no_answer</td>\n",
       "      <td>NaN</td>\n",
       "    </tr>\n",
       "    <tr>\n",
       "      <th>101975</th>\n",
       "      <td>no_answer</td>\n",
       "      <td>no</td>\n",
       "      <td>no</td>\n",
       "      <td>no</td>\n",
       "      <td>no</td>\n",
       "      <td>no</td>\n",
       "      <td>no</td>\n",
       "      <td>no</td>\n",
       "      <td>no</td>\n",
       "      <td>no</td>\n",
       "      <td>no_answer</td>\n",
       "      <td>NaN</td>\n",
       "    </tr>\n",
       "  </tbody>\n",
       "</table>\n",
       "</div>"
      ],
      "text/plain": [
       "       coverage_status  ... uninsured_in_last_year\n",
       "SEQN                    ...                       \n",
       "93729        no_answer  ...                    NaN\n",
       "93902        no_answer  ...                    NaN\n",
       "93981        no_answer  ...                    NaN\n",
       "95301        no_answer  ...                    NaN\n",
       "95515        no_answer  ...                    NaN\n",
       "95567        no_answer  ...                    NaN\n",
       "95659        no_answer  ...                    NaN\n",
       "96934        no_answer  ...                    NaN\n",
       "97033        no_answer  ...                    NaN\n",
       "97306        no_answer  ...                    NaN\n",
       "97486        no_answer  ...                    NaN\n",
       "97531        no_answer  ...                    NaN\n",
       "97774        no_answer  ...                    NaN\n",
       "98146        no_answer  ...                    NaN\n",
       "98618        no_answer  ...                    NaN\n",
       "98628        no_answer  ...                    NaN\n",
       "98926        no_answer  ...                    NaN\n",
       "98962        no_answer  ...                    NaN\n",
       "99065        no_answer  ...                    NaN\n",
       "99576        no_answer  ...                    NaN\n",
       "100464       no_answer  ...                    NaN\n",
       "100601       no_answer  ...                    NaN\n",
       "100950       no_answer  ...                    NaN\n",
       "100981       no_answer  ...                    NaN\n",
       "101975       no_answer  ...                    NaN\n",
       "\n",
       "[25 rows x 12 columns]"
      ]
     },
     "execution_count": 152,
     "metadata": {},
     "output_type": "execute_result"
    }
   ],
   "source": [
    "keep_insurance[keep_insurance['uninsured_in_last_year'].isna()]"
   ]
  },
  {
   "cell_type": "code",
   "execution_count": 153,
   "metadata": {
    "scrolled": true
   },
   "outputs": [
    {
     "name": "stderr",
     "output_type": "stream",
     "text": [
      "/Users/kristincooper/opt/anaconda3/envs/learn-env/lib/python3.8/site-packages/pandas/core/series.py:4517: SettingWithCopyWarning: \n",
      "A value is trying to be set on a copy of a slice from a DataFrame\n",
      "\n",
      "See the caveats in the documentation: https://pandas.pydata.org/pandas-docs/stable/user_guide/indexing.html#returning-a-view-versus-a-copy\n",
      "  return super().fillna(\n"
     ]
    }
   ],
   "source": [
    "keep_insurance['uninsured_in_last_year'].fillna('no_answer', inplace=True)"
   ]
  },
  {
   "cell_type": "code",
   "execution_count": 154,
   "metadata": {},
   "outputs": [
    {
     "data": {
      "text/plain": [
       "no           7578\n",
       "yes          1631\n",
       "no_answer      44\n",
       "Name: uninsured_in_last_year, dtype: int64"
      ]
     },
     "execution_count": 154,
     "metadata": {},
     "output_type": "execute_result"
    }
   ],
   "source": [
    "keep_insurance['uninsured_in_last_year'].value_counts(dropna=False)"
   ]
  },
  {
   "cell_type": "code",
   "execution_count": 155,
   "metadata": {},
   "outputs": [
    {
     "name": "stdout",
     "output_type": "stream",
     "text": [
      "<class 'pandas.core.frame.DataFrame'>\n",
      "Int64Index: 9253 entries, 93703 to 102956\n",
      "Data columns (total 12 columns):\n",
      " #   Column                  Non-Null Count  Dtype \n",
      "---  ------                  --------------  ----- \n",
      " 0   coverage_status         9253 non-null   object\n",
      " 1   covered_private         9253 non-null   object\n",
      " 2   covered_medicare        9253 non-null   object\n",
      " 3   covered_medigap         9253 non-null   object\n",
      " 4   covered_medicaid        9253 non-null   object\n",
      " 5   covered_chip            9253 non-null   object\n",
      " 6   covered_military        9253 non-null   object\n",
      " 7   covered_state           9253 non-null   object\n",
      " 8   covered_other_gov       9253 non-null   object\n",
      " 9   covered_single_service  9253 non-null   object\n",
      " 10  prescription_coverage   9253 non-null   object\n",
      " 11  uninsured_in_last_year  9253 non-null   object\n",
      "dtypes: object(12)\n",
      "memory usage: 1.2+ MB\n"
     ]
    }
   ],
   "source": [
    "keep_insurance.info()"
   ]
  },
  {
   "cell_type": "markdown",
   "metadata": {},
   "source": [
    "### Body Measures\n",
    "\n",
    "[View source for additional description and details](https://wwwn.cdc.gov/Nchs/Nhanes/2017-2018/BMX_J.htm)\n",
    "\n",
    "NHANES body measures data are used to monitor trends in infant and child growth, to estimate the prevalence of overweight and obesity in U.S. children, adolescents, and adults, and to examine the associations between body weight and the health and nutritional status of the U.S. population.\n",
    "\n",
    "All survey participants were eligible for the body measures component. There were no medical, safety, or other exclusions for the body measurements protocol. The health technicians used their discretion to obtain as many measures as practical for persons who used a wheelchair."
   ]
  },
  {
   "cell_type": "code",
   "execution_count": 156,
   "metadata": {
    "scrolled": true
   },
   "outputs": [
    {
     "data": {
      "text/html": [
       "<div>\n",
       "<style scoped>\n",
       "    .dataframe tbody tr th:only-of-type {\n",
       "        vertical-align: middle;\n",
       "    }\n",
       "\n",
       "    .dataframe tbody tr th {\n",
       "        vertical-align: top;\n",
       "    }\n",
       "\n",
       "    .dataframe thead th {\n",
       "        text-align: right;\n",
       "    }\n",
       "</style>\n",
       "<table border=\"1\" class=\"dataframe\">\n",
       "  <thead>\n",
       "    <tr style=\"text-align: right;\">\n",
       "      <th></th>\n",
       "      <th>BMDSTATS</th>\n",
       "      <th>BMXWT</th>\n",
       "      <th>BMIWT</th>\n",
       "      <th>BMXRECUM</th>\n",
       "      <th>BMIRECUM</th>\n",
       "      <th>BMXHEAD</th>\n",
       "      <th>BMIHEAD</th>\n",
       "      <th>BMXHT</th>\n",
       "      <th>BMIHT</th>\n",
       "      <th>BMXBMI</th>\n",
       "      <th>BMXLEG</th>\n",
       "      <th>BMILEG</th>\n",
       "      <th>BMXARML</th>\n",
       "      <th>BMIARML</th>\n",
       "      <th>BMXARMC</th>\n",
       "      <th>BMIARMC</th>\n",
       "      <th>BMXWAIST</th>\n",
       "      <th>BMIWAIST</th>\n",
       "      <th>BMXHIP</th>\n",
       "      <th>BMIHIP</th>\n",
       "    </tr>\n",
       "    <tr>\n",
       "      <th>SEQN</th>\n",
       "      <th></th>\n",
       "      <th></th>\n",
       "      <th></th>\n",
       "      <th></th>\n",
       "      <th></th>\n",
       "      <th></th>\n",
       "      <th></th>\n",
       "      <th></th>\n",
       "      <th></th>\n",
       "      <th></th>\n",
       "      <th></th>\n",
       "      <th></th>\n",
       "      <th></th>\n",
       "      <th></th>\n",
       "      <th></th>\n",
       "      <th></th>\n",
       "      <th></th>\n",
       "      <th></th>\n",
       "      <th></th>\n",
       "      <th></th>\n",
       "    </tr>\n",
       "  </thead>\n",
       "  <tbody>\n",
       "    <tr>\n",
       "      <th>93703</th>\n",
       "      <td>1.0</td>\n",
       "      <td>13.7</td>\n",
       "      <td>3.0</td>\n",
       "      <td>89.6</td>\n",
       "      <td>NaN</td>\n",
       "      <td>NaN</td>\n",
       "      <td>NaN</td>\n",
       "      <td>88.6</td>\n",
       "      <td>NaN</td>\n",
       "      <td>17.5</td>\n",
       "      <td>NaN</td>\n",
       "      <td>NaN</td>\n",
       "      <td>18.0</td>\n",
       "      <td>NaN</td>\n",
       "      <td>16.2</td>\n",
       "      <td>NaN</td>\n",
       "      <td>48.2</td>\n",
       "      <td>NaN</td>\n",
       "      <td>NaN</td>\n",
       "      <td>NaN</td>\n",
       "    </tr>\n",
       "    <tr>\n",
       "      <th>93704</th>\n",
       "      <td>1.0</td>\n",
       "      <td>13.9</td>\n",
       "      <td>NaN</td>\n",
       "      <td>95.0</td>\n",
       "      <td>NaN</td>\n",
       "      <td>NaN</td>\n",
       "      <td>NaN</td>\n",
       "      <td>94.2</td>\n",
       "      <td>NaN</td>\n",
       "      <td>15.7</td>\n",
       "      <td>NaN</td>\n",
       "      <td>NaN</td>\n",
       "      <td>18.6</td>\n",
       "      <td>NaN</td>\n",
       "      <td>15.2</td>\n",
       "      <td>NaN</td>\n",
       "      <td>50.0</td>\n",
       "      <td>NaN</td>\n",
       "      <td>NaN</td>\n",
       "      <td>NaN</td>\n",
       "    </tr>\n",
       "    <tr>\n",
       "      <th>93705</th>\n",
       "      <td>1.0</td>\n",
       "      <td>79.5</td>\n",
       "      <td>NaN</td>\n",
       "      <td>NaN</td>\n",
       "      <td>NaN</td>\n",
       "      <td>NaN</td>\n",
       "      <td>NaN</td>\n",
       "      <td>158.3</td>\n",
       "      <td>NaN</td>\n",
       "      <td>31.7</td>\n",
       "      <td>37.0</td>\n",
       "      <td>NaN</td>\n",
       "      <td>36.0</td>\n",
       "      <td>NaN</td>\n",
       "      <td>32.0</td>\n",
       "      <td>NaN</td>\n",
       "      <td>101.8</td>\n",
       "      <td>NaN</td>\n",
       "      <td>110.0</td>\n",
       "      <td>NaN</td>\n",
       "    </tr>\n",
       "    <tr>\n",
       "      <th>93706</th>\n",
       "      <td>1.0</td>\n",
       "      <td>66.3</td>\n",
       "      <td>NaN</td>\n",
       "      <td>NaN</td>\n",
       "      <td>NaN</td>\n",
       "      <td>NaN</td>\n",
       "      <td>NaN</td>\n",
       "      <td>175.7</td>\n",
       "      <td>NaN</td>\n",
       "      <td>21.5</td>\n",
       "      <td>46.6</td>\n",
       "      <td>NaN</td>\n",
       "      <td>38.8</td>\n",
       "      <td>NaN</td>\n",
       "      <td>27.0</td>\n",
       "      <td>NaN</td>\n",
       "      <td>79.3</td>\n",
       "      <td>NaN</td>\n",
       "      <td>94.4</td>\n",
       "      <td>NaN</td>\n",
       "    </tr>\n",
       "    <tr>\n",
       "      <th>93707</th>\n",
       "      <td>1.0</td>\n",
       "      <td>45.4</td>\n",
       "      <td>NaN</td>\n",
       "      <td>NaN</td>\n",
       "      <td>NaN</td>\n",
       "      <td>NaN</td>\n",
       "      <td>NaN</td>\n",
       "      <td>158.4</td>\n",
       "      <td>NaN</td>\n",
       "      <td>18.1</td>\n",
       "      <td>38.1</td>\n",
       "      <td>NaN</td>\n",
       "      <td>33.8</td>\n",
       "      <td>NaN</td>\n",
       "      <td>21.5</td>\n",
       "      <td>NaN</td>\n",
       "      <td>64.1</td>\n",
       "      <td>NaN</td>\n",
       "      <td>83.0</td>\n",
       "      <td>NaN</td>\n",
       "    </tr>\n",
       "    <tr>\n",
       "      <th>...</th>\n",
       "      <td>...</td>\n",
       "      <td>...</td>\n",
       "      <td>...</td>\n",
       "      <td>...</td>\n",
       "      <td>...</td>\n",
       "      <td>...</td>\n",
       "      <td>...</td>\n",
       "      <td>...</td>\n",
       "      <td>...</td>\n",
       "      <td>...</td>\n",
       "      <td>...</td>\n",
       "      <td>...</td>\n",
       "      <td>...</td>\n",
       "      <td>...</td>\n",
       "      <td>...</td>\n",
       "      <td>...</td>\n",
       "      <td>...</td>\n",
       "      <td>...</td>\n",
       "      <td>...</td>\n",
       "      <td>...</td>\n",
       "    </tr>\n",
       "    <tr>\n",
       "      <th>102952</th>\n",
       "      <td>1.0</td>\n",
       "      <td>49.0</td>\n",
       "      <td>NaN</td>\n",
       "      <td>NaN</td>\n",
       "      <td>NaN</td>\n",
       "      <td>NaN</td>\n",
       "      <td>NaN</td>\n",
       "      <td>156.5</td>\n",
       "      <td>NaN</td>\n",
       "      <td>20.0</td>\n",
       "      <td>34.4</td>\n",
       "      <td>NaN</td>\n",
       "      <td>32.6</td>\n",
       "      <td>NaN</td>\n",
       "      <td>25.1</td>\n",
       "      <td>NaN</td>\n",
       "      <td>82.2</td>\n",
       "      <td>NaN</td>\n",
       "      <td>87.3</td>\n",
       "      <td>NaN</td>\n",
       "    </tr>\n",
       "    <tr>\n",
       "      <th>102953</th>\n",
       "      <td>1.0</td>\n",
       "      <td>97.4</td>\n",
       "      <td>NaN</td>\n",
       "      <td>NaN</td>\n",
       "      <td>NaN</td>\n",
       "      <td>NaN</td>\n",
       "      <td>NaN</td>\n",
       "      <td>164.9</td>\n",
       "      <td>NaN</td>\n",
       "      <td>35.8</td>\n",
       "      <td>38.2</td>\n",
       "      <td>NaN</td>\n",
       "      <td>36.6</td>\n",
       "      <td>NaN</td>\n",
       "      <td>40.6</td>\n",
       "      <td>NaN</td>\n",
       "      <td>114.8</td>\n",
       "      <td>NaN</td>\n",
       "      <td>112.8</td>\n",
       "      <td>NaN</td>\n",
       "    </tr>\n",
       "    <tr>\n",
       "      <th>102954</th>\n",
       "      <td>1.0</td>\n",
       "      <td>69.1</td>\n",
       "      <td>NaN</td>\n",
       "      <td>NaN</td>\n",
       "      <td>NaN</td>\n",
       "      <td>NaN</td>\n",
       "      <td>NaN</td>\n",
       "      <td>162.6</td>\n",
       "      <td>NaN</td>\n",
       "      <td>26.1</td>\n",
       "      <td>39.2</td>\n",
       "      <td>NaN</td>\n",
       "      <td>35.2</td>\n",
       "      <td>NaN</td>\n",
       "      <td>26.8</td>\n",
       "      <td>NaN</td>\n",
       "      <td>86.4</td>\n",
       "      <td>NaN</td>\n",
       "      <td>102.7</td>\n",
       "      <td>NaN</td>\n",
       "    </tr>\n",
       "    <tr>\n",
       "      <th>102955</th>\n",
       "      <td>1.0</td>\n",
       "      <td>111.9</td>\n",
       "      <td>NaN</td>\n",
       "      <td>NaN</td>\n",
       "      <td>NaN</td>\n",
       "      <td>NaN</td>\n",
       "      <td>NaN</td>\n",
       "      <td>156.6</td>\n",
       "      <td>NaN</td>\n",
       "      <td>45.6</td>\n",
       "      <td>39.2</td>\n",
       "      <td>NaN</td>\n",
       "      <td>35.0</td>\n",
       "      <td>NaN</td>\n",
       "      <td>44.5</td>\n",
       "      <td>NaN</td>\n",
       "      <td>113.5</td>\n",
       "      <td>NaN</td>\n",
       "      <td>128.3</td>\n",
       "      <td>NaN</td>\n",
       "    </tr>\n",
       "    <tr>\n",
       "      <th>102956</th>\n",
       "      <td>1.0</td>\n",
       "      <td>111.5</td>\n",
       "      <td>NaN</td>\n",
       "      <td>NaN</td>\n",
       "      <td>NaN</td>\n",
       "      <td>NaN</td>\n",
       "      <td>NaN</td>\n",
       "      <td>175.8</td>\n",
       "      <td>NaN</td>\n",
       "      <td>36.1</td>\n",
       "      <td>42.5</td>\n",
       "      <td>NaN</td>\n",
       "      <td>38.0</td>\n",
       "      <td>NaN</td>\n",
       "      <td>40.0</td>\n",
       "      <td>NaN</td>\n",
       "      <td>122.0</td>\n",
       "      <td>NaN</td>\n",
       "      <td>110.0</td>\n",
       "      <td>NaN</td>\n",
       "    </tr>\n",
       "  </tbody>\n",
       "</table>\n",
       "<p>8704 rows × 20 columns</p>\n",
       "</div>"
      ],
      "text/plain": [
       "        BMDSTATS  BMXWT  BMIWT  BMXRECUM  ...  BMXWAIST  BMIWAIST  BMXHIP  BMIHIP\n",
       "SEQN                                      ...                                    \n",
       "93703        1.0   13.7    3.0      89.6  ...      48.2       NaN     NaN     NaN\n",
       "93704        1.0   13.9    NaN      95.0  ...      50.0       NaN     NaN     NaN\n",
       "93705        1.0   79.5    NaN       NaN  ...     101.8       NaN   110.0     NaN\n",
       "93706        1.0   66.3    NaN       NaN  ...      79.3       NaN    94.4     NaN\n",
       "93707        1.0   45.4    NaN       NaN  ...      64.1       NaN    83.0     NaN\n",
       "...          ...    ...    ...       ...  ...       ...       ...     ...     ...\n",
       "102952       1.0   49.0    NaN       NaN  ...      82.2       NaN    87.3     NaN\n",
       "102953       1.0   97.4    NaN       NaN  ...     114.8       NaN   112.8     NaN\n",
       "102954       1.0   69.1    NaN       NaN  ...      86.4       NaN   102.7     NaN\n",
       "102955       1.0  111.9    NaN       NaN  ...     113.5       NaN   128.3     NaN\n",
       "102956       1.0  111.5    NaN       NaN  ...     122.0       NaN   110.0     NaN\n",
       "\n",
       "[8704 rows x 20 columns]"
      ]
     },
     "execution_count": 156,
     "metadata": {},
     "output_type": "execute_result"
    }
   ],
   "source": [
    "measures"
   ]
  },
  {
   "cell_type": "code",
   "execution_count": 157,
   "metadata": {
    "scrolled": true
   },
   "outputs": [
    {
     "data": {
      "text/plain": [
       "Index(['BMDSTATS', 'BMXWT', 'BMIWT', 'BMXRECUM', 'BMIRECUM', 'BMXHEAD',\n",
       "       'BMIHEAD', 'BMXHT', 'BMIHT', 'BMXBMI', 'BMXLEG', 'BMILEG', 'BMXARML',\n",
       "       'BMIARML', 'BMXARMC', 'BMIARMC', 'BMXWAIST', 'BMIWAIST', 'BMXHIP',\n",
       "       'BMIHIP'],\n",
       "      dtype='object')"
      ]
     },
     "execution_count": 157,
     "metadata": {},
     "output_type": "execute_result"
    }
   ],
   "source": [
    "measures.columns"
   ]
  },
  {
   "cell_type": "code",
   "execution_count": 158,
   "metadata": {},
   "outputs": [],
   "source": [
    "keepcols_measures = ['BMXWT', 'BMXHT', 'BMXBMI', 'BMXWAIST', 'BMXHIP']"
   ]
  },
  {
   "cell_type": "code",
   "execution_count": 160,
   "metadata": {},
   "outputs": [
    {
     "data": {
      "text/html": [
       "<div>\n",
       "<style scoped>\n",
       "    .dataframe tbody tr th:only-of-type {\n",
       "        vertical-align: middle;\n",
       "    }\n",
       "\n",
       "    .dataframe tbody tr th {\n",
       "        vertical-align: top;\n",
       "    }\n",
       "\n",
       "    .dataframe thead th {\n",
       "        text-align: right;\n",
       "    }\n",
       "</style>\n",
       "<table border=\"1\" class=\"dataframe\">\n",
       "  <thead>\n",
       "    <tr style=\"text-align: right;\">\n",
       "      <th></th>\n",
       "      <th>weight_kg</th>\n",
       "      <th>height_cm</th>\n",
       "      <th>BMI</th>\n",
       "      <th>waist_circumference_cm</th>\n",
       "      <th>hip_circumference_cm</th>\n",
       "    </tr>\n",
       "    <tr>\n",
       "      <th>SEQN</th>\n",
       "      <th></th>\n",
       "      <th></th>\n",
       "      <th></th>\n",
       "      <th></th>\n",
       "      <th></th>\n",
       "    </tr>\n",
       "  </thead>\n",
       "  <tbody>\n",
       "    <tr>\n",
       "      <th>93703</th>\n",
       "      <td>13.7</td>\n",
       "      <td>88.6</td>\n",
       "      <td>17.5</td>\n",
       "      <td>48.2</td>\n",
       "      <td>NaN</td>\n",
       "    </tr>\n",
       "    <tr>\n",
       "      <th>93704</th>\n",
       "      <td>13.9</td>\n",
       "      <td>94.2</td>\n",
       "      <td>15.7</td>\n",
       "      <td>50.0</td>\n",
       "      <td>NaN</td>\n",
       "    </tr>\n",
       "    <tr>\n",
       "      <th>93705</th>\n",
       "      <td>79.5</td>\n",
       "      <td>158.3</td>\n",
       "      <td>31.7</td>\n",
       "      <td>101.8</td>\n",
       "      <td>110.0</td>\n",
       "    </tr>\n",
       "    <tr>\n",
       "      <th>93706</th>\n",
       "      <td>66.3</td>\n",
       "      <td>175.7</td>\n",
       "      <td>21.5</td>\n",
       "      <td>79.3</td>\n",
       "      <td>94.4</td>\n",
       "    </tr>\n",
       "    <tr>\n",
       "      <th>93707</th>\n",
       "      <td>45.4</td>\n",
       "      <td>158.4</td>\n",
       "      <td>18.1</td>\n",
       "      <td>64.1</td>\n",
       "      <td>83.0</td>\n",
       "    </tr>\n",
       "    <tr>\n",
       "      <th>...</th>\n",
       "      <td>...</td>\n",
       "      <td>...</td>\n",
       "      <td>...</td>\n",
       "      <td>...</td>\n",
       "      <td>...</td>\n",
       "    </tr>\n",
       "    <tr>\n",
       "      <th>102952</th>\n",
       "      <td>49.0</td>\n",
       "      <td>156.5</td>\n",
       "      <td>20.0</td>\n",
       "      <td>82.2</td>\n",
       "      <td>87.3</td>\n",
       "    </tr>\n",
       "    <tr>\n",
       "      <th>102953</th>\n",
       "      <td>97.4</td>\n",
       "      <td>164.9</td>\n",
       "      <td>35.8</td>\n",
       "      <td>114.8</td>\n",
       "      <td>112.8</td>\n",
       "    </tr>\n",
       "    <tr>\n",
       "      <th>102954</th>\n",
       "      <td>69.1</td>\n",
       "      <td>162.6</td>\n",
       "      <td>26.1</td>\n",
       "      <td>86.4</td>\n",
       "      <td>102.7</td>\n",
       "    </tr>\n",
       "    <tr>\n",
       "      <th>102955</th>\n",
       "      <td>111.9</td>\n",
       "      <td>156.6</td>\n",
       "      <td>45.6</td>\n",
       "      <td>113.5</td>\n",
       "      <td>128.3</td>\n",
       "    </tr>\n",
       "    <tr>\n",
       "      <th>102956</th>\n",
       "      <td>111.5</td>\n",
       "      <td>175.8</td>\n",
       "      <td>36.1</td>\n",
       "      <td>122.0</td>\n",
       "      <td>110.0</td>\n",
       "    </tr>\n",
       "  </tbody>\n",
       "</table>\n",
       "<p>8704 rows × 5 columns</p>\n",
       "</div>"
      ],
      "text/plain": [
       "        weight_kg  height_cm  ...  waist_circumference_cm  hip_circumference_cm\n",
       "SEQN                          ...                                              \n",
       "93703        13.7       88.6  ...                    48.2                   NaN\n",
       "93704        13.9       94.2  ...                    50.0                   NaN\n",
       "93705        79.5      158.3  ...                   101.8                 110.0\n",
       "93706        66.3      175.7  ...                    79.3                  94.4\n",
       "93707        45.4      158.4  ...                    64.1                  83.0\n",
       "...           ...        ...  ...                     ...                   ...\n",
       "102952       49.0      156.5  ...                    82.2                  87.3\n",
       "102953       97.4      164.9  ...                   114.8                 112.8\n",
       "102954       69.1      162.6  ...                    86.4                 102.7\n",
       "102955      111.9      156.6  ...                   113.5                 128.3\n",
       "102956      111.5      175.8  ...                   122.0                 110.0\n",
       "\n",
       "[8704 rows x 5 columns]"
      ]
     },
     "execution_count": 160,
     "metadata": {},
     "output_type": "execute_result"
    }
   ],
   "source": [
    "keep_measures = measures.copy()[keepcols_measures]\n",
    "keep_measures.rename(mapper={'BMXWT': 'weight_kg', \n",
    "                             'BMXHT': 'height_cm',\n",
    "                             'BMXBMI': 'BMI',\n",
    "                             'BMXWAIST': 'waist_circumference_cm',\n",
    "                             'BMXHIP': 'hip_circumference_cm'},\n",
    "                    axis=1, inplace=True)\n",
    "keep_measures"
   ]
  },
  {
   "cell_type": "code",
   "execution_count": 161,
   "metadata": {},
   "outputs": [
    {
     "data": {
      "text/plain": [
       "count    8580.0\n",
       "mean       65.1\n",
       "std        32.9\n",
       "min         3.2\n",
       "25%        43.1\n",
       "50%        67.8\n",
       "75%        85.6\n",
       "max       242.6\n",
       "Name: weight_kg, dtype: float64"
      ]
     },
     "execution_count": 161,
     "metadata": {},
     "output_type": "execute_result"
    }
   ],
   "source": [
    "keep_measures['weight_kg'].describe().round(1)"
   ]
  },
  {
   "cell_type": "code",
   "execution_count": 162,
   "metadata": {},
   "outputs": [
    {
     "data": {
      "text/plain": [
       "124"
      ]
     },
     "execution_count": 162,
     "metadata": {},
     "output_type": "execute_result"
    }
   ],
   "source": [
    "keep_measures['weight_kg'].isna().sum()"
   ]
  },
  {
   "cell_type": "code",
   "execution_count": 163,
   "metadata": {
    "scrolled": true
   },
   "outputs": [
    {
     "data": {
      "text/html": [
       "<div>\n",
       "<style scoped>\n",
       "    .dataframe tbody tr th:only-of-type {\n",
       "        vertical-align: middle;\n",
       "    }\n",
       "\n",
       "    .dataframe tbody tr th {\n",
       "        vertical-align: top;\n",
       "    }\n",
       "\n",
       "    .dataframe thead th {\n",
       "        text-align: right;\n",
       "    }\n",
       "</style>\n",
       "<table border=\"1\" class=\"dataframe\">\n",
       "  <thead>\n",
       "    <tr style=\"text-align: right;\">\n",
       "      <th></th>\n",
       "      <th>weight_kg</th>\n",
       "      <th>height_cm</th>\n",
       "      <th>BMI</th>\n",
       "      <th>waist_circumference_cm</th>\n",
       "      <th>hip_circumference_cm</th>\n",
       "    </tr>\n",
       "    <tr>\n",
       "      <th>SEQN</th>\n",
       "      <th></th>\n",
       "      <th></th>\n",
       "      <th></th>\n",
       "      <th></th>\n",
       "      <th></th>\n",
       "    </tr>\n",
       "  </thead>\n",
       "  <tbody>\n",
       "    <tr>\n",
       "      <th>93777</th>\n",
       "      <td>NaN</td>\n",
       "      <td>NaN</td>\n",
       "      <td>NaN</td>\n",
       "      <td>NaN</td>\n",
       "      <td>NaN</td>\n",
       "    </tr>\n",
       "    <tr>\n",
       "      <th>93816</th>\n",
       "      <td>NaN</td>\n",
       "      <td>NaN</td>\n",
       "      <td>NaN</td>\n",
       "      <td>NaN</td>\n",
       "      <td>NaN</td>\n",
       "    </tr>\n",
       "    <tr>\n",
       "      <th>93935</th>\n",
       "      <td>NaN</td>\n",
       "      <td>NaN</td>\n",
       "      <td>NaN</td>\n",
       "      <td>NaN</td>\n",
       "      <td>NaN</td>\n",
       "    </tr>\n",
       "    <tr>\n",
       "      <th>93955</th>\n",
       "      <td>NaN</td>\n",
       "      <td>NaN</td>\n",
       "      <td>NaN</td>\n",
       "      <td>NaN</td>\n",
       "      <td>NaN</td>\n",
       "    </tr>\n",
       "    <tr>\n",
       "      <th>94310</th>\n",
       "      <td>NaN</td>\n",
       "      <td>NaN</td>\n",
       "      <td>NaN</td>\n",
       "      <td>NaN</td>\n",
       "      <td>NaN</td>\n",
       "    </tr>\n",
       "    <tr>\n",
       "      <th>...</th>\n",
       "      <td>...</td>\n",
       "      <td>...</td>\n",
       "      <td>...</td>\n",
       "      <td>...</td>\n",
       "      <td>...</td>\n",
       "    </tr>\n",
       "    <tr>\n",
       "      <th>102590</th>\n",
       "      <td>NaN</td>\n",
       "      <td>NaN</td>\n",
       "      <td>NaN</td>\n",
       "      <td>NaN</td>\n",
       "      <td>NaN</td>\n",
       "    </tr>\n",
       "    <tr>\n",
       "      <th>102610</th>\n",
       "      <td>NaN</td>\n",
       "      <td>96.2</td>\n",
       "      <td>NaN</td>\n",
       "      <td>NaN</td>\n",
       "      <td>NaN</td>\n",
       "    </tr>\n",
       "    <tr>\n",
       "      <th>102671</th>\n",
       "      <td>NaN</td>\n",
       "      <td>NaN</td>\n",
       "      <td>NaN</td>\n",
       "      <td>NaN</td>\n",
       "      <td>NaN</td>\n",
       "    </tr>\n",
       "    <tr>\n",
       "      <th>102684</th>\n",
       "      <td>NaN</td>\n",
       "      <td>NaN</td>\n",
       "      <td>NaN</td>\n",
       "      <td>NaN</td>\n",
       "      <td>NaN</td>\n",
       "    </tr>\n",
       "    <tr>\n",
       "      <th>102864</th>\n",
       "      <td>NaN</td>\n",
       "      <td>NaN</td>\n",
       "      <td>NaN</td>\n",
       "      <td>NaN</td>\n",
       "      <td>NaN</td>\n",
       "    </tr>\n",
       "  </tbody>\n",
       "</table>\n",
       "<p>124 rows × 5 columns</p>\n",
       "</div>"
      ],
      "text/plain": [
       "        weight_kg  height_cm  BMI  waist_circumference_cm  hip_circumference_cm\n",
       "SEQN                                                                           \n",
       "93777         NaN        NaN  NaN                     NaN                   NaN\n",
       "93816         NaN        NaN  NaN                     NaN                   NaN\n",
       "93935         NaN        NaN  NaN                     NaN                   NaN\n",
       "93955         NaN        NaN  NaN                     NaN                   NaN\n",
       "94310         NaN        NaN  NaN                     NaN                   NaN\n",
       "...           ...        ...  ...                     ...                   ...\n",
       "102590        NaN        NaN  NaN                     NaN                   NaN\n",
       "102610        NaN       96.2  NaN                     NaN                   NaN\n",
       "102671        NaN        NaN  NaN                     NaN                   NaN\n",
       "102684        NaN        NaN  NaN                     NaN                   NaN\n",
       "102864        NaN        NaN  NaN                     NaN                   NaN\n",
       "\n",
       "[124 rows x 5 columns]"
      ]
     },
     "execution_count": 163,
     "metadata": {},
     "output_type": "execute_result"
    }
   ],
   "source": [
    "keep_measures[keep_measures['weight_kg'].isna()]"
   ]
  },
  {
   "cell_type": "markdown",
   "metadata": {},
   "source": [
    "Because many of the 77 rows with missing weights are also missing heights and BMIs, I removed them from the dataset"
   ]
  },
  {
   "cell_type": "code",
   "execution_count": 164,
   "metadata": {},
   "outputs": [
    {
     "data": {
      "text/html": [
       "<div>\n",
       "<style scoped>\n",
       "    .dataframe tbody tr th:only-of-type {\n",
       "        vertical-align: middle;\n",
       "    }\n",
       "\n",
       "    .dataframe tbody tr th {\n",
       "        vertical-align: top;\n",
       "    }\n",
       "\n",
       "    .dataframe thead th {\n",
       "        text-align: right;\n",
       "    }\n",
       "</style>\n",
       "<table border=\"1\" class=\"dataframe\">\n",
       "  <thead>\n",
       "    <tr style=\"text-align: right;\">\n",
       "      <th></th>\n",
       "      <th>weight_kg</th>\n",
       "      <th>height_cm</th>\n",
       "      <th>BMI</th>\n",
       "      <th>waist_circumference_cm</th>\n",
       "      <th>hip_circumference_cm</th>\n",
       "    </tr>\n",
       "    <tr>\n",
       "      <th>SEQN</th>\n",
       "      <th></th>\n",
       "      <th></th>\n",
       "      <th></th>\n",
       "      <th></th>\n",
       "      <th></th>\n",
       "    </tr>\n",
       "  </thead>\n",
       "  <tbody>\n",
       "    <tr>\n",
       "      <th>93703</th>\n",
       "      <td>13.7</td>\n",
       "      <td>88.6</td>\n",
       "      <td>17.5</td>\n",
       "      <td>48.2</td>\n",
       "      <td>NaN</td>\n",
       "    </tr>\n",
       "    <tr>\n",
       "      <th>93704</th>\n",
       "      <td>13.9</td>\n",
       "      <td>94.2</td>\n",
       "      <td>15.7</td>\n",
       "      <td>50.0</td>\n",
       "      <td>NaN</td>\n",
       "    </tr>\n",
       "    <tr>\n",
       "      <th>93705</th>\n",
       "      <td>79.5</td>\n",
       "      <td>158.3</td>\n",
       "      <td>31.7</td>\n",
       "      <td>101.8</td>\n",
       "      <td>110.0</td>\n",
       "    </tr>\n",
       "    <tr>\n",
       "      <th>93706</th>\n",
       "      <td>66.3</td>\n",
       "      <td>175.7</td>\n",
       "      <td>21.5</td>\n",
       "      <td>79.3</td>\n",
       "      <td>94.4</td>\n",
       "    </tr>\n",
       "    <tr>\n",
       "      <th>93707</th>\n",
       "      <td>45.4</td>\n",
       "      <td>158.4</td>\n",
       "      <td>18.1</td>\n",
       "      <td>64.1</td>\n",
       "      <td>83.0</td>\n",
       "    </tr>\n",
       "    <tr>\n",
       "      <th>...</th>\n",
       "      <td>...</td>\n",
       "      <td>...</td>\n",
       "      <td>...</td>\n",
       "      <td>...</td>\n",
       "      <td>...</td>\n",
       "    </tr>\n",
       "    <tr>\n",
       "      <th>102952</th>\n",
       "      <td>49.0</td>\n",
       "      <td>156.5</td>\n",
       "      <td>20.0</td>\n",
       "      <td>82.2</td>\n",
       "      <td>87.3</td>\n",
       "    </tr>\n",
       "    <tr>\n",
       "      <th>102953</th>\n",
       "      <td>97.4</td>\n",
       "      <td>164.9</td>\n",
       "      <td>35.8</td>\n",
       "      <td>114.8</td>\n",
       "      <td>112.8</td>\n",
       "    </tr>\n",
       "    <tr>\n",
       "      <th>102954</th>\n",
       "      <td>69.1</td>\n",
       "      <td>162.6</td>\n",
       "      <td>26.1</td>\n",
       "      <td>86.4</td>\n",
       "      <td>102.7</td>\n",
       "    </tr>\n",
       "    <tr>\n",
       "      <th>102955</th>\n",
       "      <td>111.9</td>\n",
       "      <td>156.6</td>\n",
       "      <td>45.6</td>\n",
       "      <td>113.5</td>\n",
       "      <td>128.3</td>\n",
       "    </tr>\n",
       "    <tr>\n",
       "      <th>102956</th>\n",
       "      <td>111.5</td>\n",
       "      <td>175.8</td>\n",
       "      <td>36.1</td>\n",
       "      <td>122.0</td>\n",
       "      <td>110.0</td>\n",
       "    </tr>\n",
       "  </tbody>\n",
       "</table>\n",
       "<p>8580 rows × 5 columns</p>\n",
       "</div>"
      ],
      "text/plain": [
       "        weight_kg  height_cm  ...  waist_circumference_cm  hip_circumference_cm\n",
       "SEQN                          ...                                              \n",
       "93703        13.7       88.6  ...                    48.2                   NaN\n",
       "93704        13.9       94.2  ...                    50.0                   NaN\n",
       "93705        79.5      158.3  ...                   101.8                 110.0\n",
       "93706        66.3      175.7  ...                    79.3                  94.4\n",
       "93707        45.4      158.4  ...                    64.1                  83.0\n",
       "...           ...        ...  ...                     ...                   ...\n",
       "102952       49.0      156.5  ...                    82.2                  87.3\n",
       "102953       97.4      164.9  ...                   114.8                 112.8\n",
       "102954       69.1      162.6  ...                    86.4                 102.7\n",
       "102955      111.9      156.6  ...                   113.5                 128.3\n",
       "102956      111.5      175.8  ...                   122.0                 110.0\n",
       "\n",
       "[8580 rows x 5 columns]"
      ]
     },
     "execution_count": 164,
     "metadata": {},
     "output_type": "execute_result"
    }
   ],
   "source": [
    "keep_measures = keep_measures[~keep_measures['weight_kg'].isna()]\n",
    "keep_measures"
   ]
  },
  {
   "cell_type": "code",
   "execution_count": 165,
   "metadata": {},
   "outputs": [
    {
     "data": {
      "text/plain": [
       "0"
      ]
     },
     "execution_count": 165,
     "metadata": {},
     "output_type": "execute_result"
    }
   ],
   "source": [
    "keep_measures['weight_kg'].isna().sum()"
   ]
  },
  {
   "cell_type": "code",
   "execution_count": 166,
   "metadata": {},
   "outputs": [
    {
     "data": {
      "text/plain": [
       "575"
      ]
     },
     "execution_count": 166,
     "metadata": {},
     "output_type": "execute_result"
    }
   ],
   "source": [
    "keep_measures['height_cm'].isna().sum()"
   ]
  },
  {
   "cell_type": "code",
   "execution_count": 167,
   "metadata": {
    "scrolled": true
   },
   "outputs": [
    {
     "data": {
      "text/html": [
       "<div>\n",
       "<style scoped>\n",
       "    .dataframe tbody tr th:only-of-type {\n",
       "        vertical-align: middle;\n",
       "    }\n",
       "\n",
       "    .dataframe tbody tr th {\n",
       "        vertical-align: top;\n",
       "    }\n",
       "\n",
       "    .dataframe thead th {\n",
       "        text-align: right;\n",
       "    }\n",
       "</style>\n",
       "<table border=\"1\" class=\"dataframe\">\n",
       "  <thead>\n",
       "    <tr style=\"text-align: right;\">\n",
       "      <th></th>\n",
       "      <th>weight_kg</th>\n",
       "      <th>height_cm</th>\n",
       "      <th>BMI</th>\n",
       "      <th>waist_circumference_cm</th>\n",
       "      <th>hip_circumference_cm</th>\n",
       "    </tr>\n",
       "    <tr>\n",
       "      <th>SEQN</th>\n",
       "      <th></th>\n",
       "      <th></th>\n",
       "      <th></th>\n",
       "      <th></th>\n",
       "      <th></th>\n",
       "    </tr>\n",
       "  </thead>\n",
       "  <tbody>\n",
       "    <tr>\n",
       "      <th>93710</th>\n",
       "      <td>10.2</td>\n",
       "      <td>NaN</td>\n",
       "      <td>NaN</td>\n",
       "      <td>NaN</td>\n",
       "      <td>NaN</td>\n",
       "    </tr>\n",
       "    <tr>\n",
       "      <th>93720</th>\n",
       "      <td>10.6</td>\n",
       "      <td>NaN</td>\n",
       "      <td>NaN</td>\n",
       "      <td>NaN</td>\n",
       "      <td>NaN</td>\n",
       "    </tr>\n",
       "    <tr>\n",
       "      <th>93748</th>\n",
       "      <td>9.3</td>\n",
       "      <td>NaN</td>\n",
       "      <td>NaN</td>\n",
       "      <td>NaN</td>\n",
       "      <td>NaN</td>\n",
       "    </tr>\n",
       "    <tr>\n",
       "      <th>93749</th>\n",
       "      <td>8.3</td>\n",
       "      <td>NaN</td>\n",
       "      <td>NaN</td>\n",
       "      <td>NaN</td>\n",
       "      <td>NaN</td>\n",
       "    </tr>\n",
       "    <tr>\n",
       "      <th>93764</th>\n",
       "      <td>9.2</td>\n",
       "      <td>NaN</td>\n",
       "      <td>NaN</td>\n",
       "      <td>NaN</td>\n",
       "      <td>NaN</td>\n",
       "    </tr>\n",
       "    <tr>\n",
       "      <th>...</th>\n",
       "      <td>...</td>\n",
       "      <td>...</td>\n",
       "      <td>...</td>\n",
       "      <td>...</td>\n",
       "      <td>...</td>\n",
       "    </tr>\n",
       "    <tr>\n",
       "      <th>102897</th>\n",
       "      <td>12.6</td>\n",
       "      <td>NaN</td>\n",
       "      <td>NaN</td>\n",
       "      <td>NaN</td>\n",
       "      <td>NaN</td>\n",
       "    </tr>\n",
       "    <tr>\n",
       "      <th>102919</th>\n",
       "      <td>7.2</td>\n",
       "      <td>NaN</td>\n",
       "      <td>NaN</td>\n",
       "      <td>NaN</td>\n",
       "      <td>NaN</td>\n",
       "    </tr>\n",
       "    <tr>\n",
       "      <th>102927</th>\n",
       "      <td>9.1</td>\n",
       "      <td>NaN</td>\n",
       "      <td>NaN</td>\n",
       "      <td>NaN</td>\n",
       "      <td>NaN</td>\n",
       "    </tr>\n",
       "    <tr>\n",
       "      <th>102936</th>\n",
       "      <td>10.2</td>\n",
       "      <td>NaN</td>\n",
       "      <td>NaN</td>\n",
       "      <td>NaN</td>\n",
       "      <td>NaN</td>\n",
       "    </tr>\n",
       "    <tr>\n",
       "      <th>102942</th>\n",
       "      <td>8.9</td>\n",
       "      <td>NaN</td>\n",
       "      <td>NaN</td>\n",
       "      <td>NaN</td>\n",
       "      <td>NaN</td>\n",
       "    </tr>\n",
       "  </tbody>\n",
       "</table>\n",
       "<p>575 rows × 5 columns</p>\n",
       "</div>"
      ],
      "text/plain": [
       "        weight_kg  height_cm  BMI  waist_circumference_cm  hip_circumference_cm\n",
       "SEQN                                                                           \n",
       "93710        10.2        NaN  NaN                     NaN                   NaN\n",
       "93720        10.6        NaN  NaN                     NaN                   NaN\n",
       "93748         9.3        NaN  NaN                     NaN                   NaN\n",
       "93749         8.3        NaN  NaN                     NaN                   NaN\n",
       "93764         9.2        NaN  NaN                     NaN                   NaN\n",
       "...           ...        ...  ...                     ...                   ...\n",
       "102897       12.6        NaN  NaN                     NaN                   NaN\n",
       "102919        7.2        NaN  NaN                     NaN                   NaN\n",
       "102927        9.1        NaN  NaN                     NaN                   NaN\n",
       "102936       10.2        NaN  NaN                     NaN                   NaN\n",
       "102942        8.9        NaN  NaN                     NaN                   NaN\n",
       "\n",
       "[575 rows x 5 columns]"
      ]
     },
     "execution_count": 167,
     "metadata": {},
     "output_type": "execute_result"
    }
   ],
   "source": [
    "keep_measures[keep_measures['height_cm'].isna()]"
   ]
  },
  {
   "cell_type": "markdown",
   "metadata": {},
   "source": [
    "Because a these rows seem to be missing a lot of data, I will remove them from the dataset."
   ]
  },
  {
   "cell_type": "code",
   "execution_count": 168,
   "metadata": {},
   "outputs": [
    {
     "data": {
      "text/plain": [
       "0"
      ]
     },
     "execution_count": 168,
     "metadata": {},
     "output_type": "execute_result"
    }
   ],
   "source": [
    "keep_measures = keep_measures[~keep_measures['height_cm'].isna()]\n",
    "keep_measures['height_cm'].isna().sum()"
   ]
  },
  {
   "cell_type": "code",
   "execution_count": 169,
   "metadata": {
    "scrolled": true
   },
   "outputs": [
    {
     "data": {
      "text/plain": [
       "0"
      ]
     },
     "execution_count": 169,
     "metadata": {},
     "output_type": "execute_result"
    }
   ],
   "source": [
    "keep_measures['BMI'].isna().sum()"
   ]
  },
  {
   "cell_type": "code",
   "execution_count": 170,
   "metadata": {},
   "outputs": [
    {
     "data": {
      "text/plain": [
       "419"
      ]
     },
     "execution_count": 170,
     "metadata": {},
     "output_type": "execute_result"
    }
   ],
   "source": [
    "keep_measures['waist_circumference_cm'].isna().sum()"
   ]
  },
  {
   "cell_type": "code",
   "execution_count": 171,
   "metadata": {},
   "outputs": [
    {
     "data": {
      "text/plain": [
       "1975"
      ]
     },
     "execution_count": 171,
     "metadata": {},
     "output_type": "execute_result"
    }
   ],
   "source": [
    "keep_measures['hip_circumference_cm'].isna().sum()"
   ]
  },
  {
   "cell_type": "markdown",
   "metadata": {},
   "source": [
    "Waist and hip circumference will be filled during the imputing step to come."
   ]
  },
  {
   "cell_type": "markdown",
   "metadata": {},
   "source": [
    "### Physical Activity\n",
    "\n",
    "[View source for additional description and details](https://wwwn.cdc.gov/Nchs/Nhanes/2017-2018/PAQ_J.htm)\n",
    "\n",
    "Data obtained from the respondent-level interview and questionnaire on physical activity."
   ]
  },
  {
   "cell_type": "code",
   "execution_count": 172,
   "metadata": {
    "scrolled": true
   },
   "outputs": [
    {
     "data": {
      "text/html": [
       "<div>\n",
       "<style scoped>\n",
       "    .dataframe tbody tr th:only-of-type {\n",
       "        vertical-align: middle;\n",
       "    }\n",
       "\n",
       "    .dataframe tbody tr th {\n",
       "        vertical-align: top;\n",
       "    }\n",
       "\n",
       "    .dataframe thead th {\n",
       "        text-align: right;\n",
       "    }\n",
       "</style>\n",
       "<table border=\"1\" class=\"dataframe\">\n",
       "  <thead>\n",
       "    <tr style=\"text-align: right;\">\n",
       "      <th></th>\n",
       "      <th>PAQ605</th>\n",
       "      <th>PAQ610</th>\n",
       "      <th>PAD615</th>\n",
       "      <th>PAQ620</th>\n",
       "      <th>PAQ625</th>\n",
       "      <th>PAD630</th>\n",
       "      <th>PAQ635</th>\n",
       "      <th>PAQ640</th>\n",
       "      <th>PAD645</th>\n",
       "      <th>PAQ650</th>\n",
       "      <th>PAQ655</th>\n",
       "      <th>PAD660</th>\n",
       "      <th>PAQ665</th>\n",
       "      <th>PAQ670</th>\n",
       "      <th>PAD675</th>\n",
       "      <th>PAD680</th>\n",
       "    </tr>\n",
       "    <tr>\n",
       "      <th>SEQN</th>\n",
       "      <th></th>\n",
       "      <th></th>\n",
       "      <th></th>\n",
       "      <th></th>\n",
       "      <th></th>\n",
       "      <th></th>\n",
       "      <th></th>\n",
       "      <th></th>\n",
       "      <th></th>\n",
       "      <th></th>\n",
       "      <th></th>\n",
       "      <th></th>\n",
       "      <th></th>\n",
       "      <th></th>\n",
       "      <th></th>\n",
       "      <th></th>\n",
       "    </tr>\n",
       "  </thead>\n",
       "  <tbody>\n",
       "    <tr>\n",
       "      <th>93705</th>\n",
       "      <td>2.0</td>\n",
       "      <td>NaN</td>\n",
       "      <td>NaN</td>\n",
       "      <td>2.0</td>\n",
       "      <td>NaN</td>\n",
       "      <td>NaN</td>\n",
       "      <td>2.0</td>\n",
       "      <td>NaN</td>\n",
       "      <td>NaN</td>\n",
       "      <td>2.0</td>\n",
       "      <td>NaN</td>\n",
       "      <td>NaN</td>\n",
       "      <td>1.0</td>\n",
       "      <td>2.0</td>\n",
       "      <td>60.0</td>\n",
       "      <td>300.0</td>\n",
       "    </tr>\n",
       "    <tr>\n",
       "      <th>93706</th>\n",
       "      <td>2.0</td>\n",
       "      <td>NaN</td>\n",
       "      <td>NaN</td>\n",
       "      <td>2.0</td>\n",
       "      <td>NaN</td>\n",
       "      <td>NaN</td>\n",
       "      <td>1.0</td>\n",
       "      <td>5.0</td>\n",
       "      <td>45.0</td>\n",
       "      <td>2.0</td>\n",
       "      <td>NaN</td>\n",
       "      <td>NaN</td>\n",
       "      <td>1.0</td>\n",
       "      <td>2.0</td>\n",
       "      <td>30.0</td>\n",
       "      <td>240.0</td>\n",
       "    </tr>\n",
       "    <tr>\n",
       "      <th>93708</th>\n",
       "      <td>2.0</td>\n",
       "      <td>NaN</td>\n",
       "      <td>NaN</td>\n",
       "      <td>2.0</td>\n",
       "      <td>NaN</td>\n",
       "      <td>NaN</td>\n",
       "      <td>2.0</td>\n",
       "      <td>NaN</td>\n",
       "      <td>NaN</td>\n",
       "      <td>2.0</td>\n",
       "      <td>NaN</td>\n",
       "      <td>NaN</td>\n",
       "      <td>1.0</td>\n",
       "      <td>5.0</td>\n",
       "      <td>30.0</td>\n",
       "      <td>120.0</td>\n",
       "    </tr>\n",
       "    <tr>\n",
       "      <th>93709</th>\n",
       "      <td>2.0</td>\n",
       "      <td>NaN</td>\n",
       "      <td>NaN</td>\n",
       "      <td>1.0</td>\n",
       "      <td>2.0</td>\n",
       "      <td>180.0</td>\n",
       "      <td>2.0</td>\n",
       "      <td>NaN</td>\n",
       "      <td>NaN</td>\n",
       "      <td>2.0</td>\n",
       "      <td>NaN</td>\n",
       "      <td>NaN</td>\n",
       "      <td>2.0</td>\n",
       "      <td>NaN</td>\n",
       "      <td>NaN</td>\n",
       "      <td>600.0</td>\n",
       "    </tr>\n",
       "    <tr>\n",
       "      <th>93711</th>\n",
       "      <td>2.0</td>\n",
       "      <td>NaN</td>\n",
       "      <td>NaN</td>\n",
       "      <td>2.0</td>\n",
       "      <td>NaN</td>\n",
       "      <td>NaN</td>\n",
       "      <td>1.0</td>\n",
       "      <td>5.0</td>\n",
       "      <td>60.0</td>\n",
       "      <td>1.0</td>\n",
       "      <td>4.0</td>\n",
       "      <td>60.0</td>\n",
       "      <td>1.0</td>\n",
       "      <td>2.0</td>\n",
       "      <td>30.0</td>\n",
       "      <td>420.0</td>\n",
       "    </tr>\n",
       "    <tr>\n",
       "      <th>...</th>\n",
       "      <td>...</td>\n",
       "      <td>...</td>\n",
       "      <td>...</td>\n",
       "      <td>...</td>\n",
       "      <td>...</td>\n",
       "      <td>...</td>\n",
       "      <td>...</td>\n",
       "      <td>...</td>\n",
       "      <td>...</td>\n",
       "      <td>...</td>\n",
       "      <td>...</td>\n",
       "      <td>...</td>\n",
       "      <td>...</td>\n",
       "      <td>...</td>\n",
       "      <td>...</td>\n",
       "      <td>...</td>\n",
       "    </tr>\n",
       "    <tr>\n",
       "      <th>102950</th>\n",
       "      <td>2.0</td>\n",
       "      <td>NaN</td>\n",
       "      <td>NaN</td>\n",
       "      <td>2.0</td>\n",
       "      <td>NaN</td>\n",
       "      <td>NaN</td>\n",
       "      <td>2.0</td>\n",
       "      <td>NaN</td>\n",
       "      <td>NaN</td>\n",
       "      <td>2.0</td>\n",
       "      <td>NaN</td>\n",
       "      <td>NaN</td>\n",
       "      <td>2.0</td>\n",
       "      <td>NaN</td>\n",
       "      <td>NaN</td>\n",
       "      <td>60.0</td>\n",
       "    </tr>\n",
       "    <tr>\n",
       "      <th>102952</th>\n",
       "      <td>2.0</td>\n",
       "      <td>NaN</td>\n",
       "      <td>NaN</td>\n",
       "      <td>2.0</td>\n",
       "      <td>NaN</td>\n",
       "      <td>NaN</td>\n",
       "      <td>2.0</td>\n",
       "      <td>NaN</td>\n",
       "      <td>NaN</td>\n",
       "      <td>2.0</td>\n",
       "      <td>NaN</td>\n",
       "      <td>NaN</td>\n",
       "      <td>1.0</td>\n",
       "      <td>6.0</td>\n",
       "      <td>60.0</td>\n",
       "      <td>120.0</td>\n",
       "    </tr>\n",
       "    <tr>\n",
       "      <th>102953</th>\n",
       "      <td>1.0</td>\n",
       "      <td>3.0</td>\n",
       "      <td>240.0</td>\n",
       "      <td>1.0</td>\n",
       "      <td>3.0</td>\n",
       "      <td>240.0</td>\n",
       "      <td>2.0</td>\n",
       "      <td>NaN</td>\n",
       "      <td>NaN</td>\n",
       "      <td>2.0</td>\n",
       "      <td>NaN</td>\n",
       "      <td>NaN</td>\n",
       "      <td>2.0</td>\n",
       "      <td>NaN</td>\n",
       "      <td>NaN</td>\n",
       "      <td>360.0</td>\n",
       "    </tr>\n",
       "    <tr>\n",
       "      <th>102954</th>\n",
       "      <td>2.0</td>\n",
       "      <td>NaN</td>\n",
       "      <td>NaN</td>\n",
       "      <td>2.0</td>\n",
       "      <td>NaN</td>\n",
       "      <td>NaN</td>\n",
       "      <td>2.0</td>\n",
       "      <td>NaN</td>\n",
       "      <td>NaN</td>\n",
       "      <td>2.0</td>\n",
       "      <td>NaN</td>\n",
       "      <td>NaN</td>\n",
       "      <td>1.0</td>\n",
       "      <td>2.0</td>\n",
       "      <td>30.0</td>\n",
       "      <td>600.0</td>\n",
       "    </tr>\n",
       "    <tr>\n",
       "      <th>102956</th>\n",
       "      <td>2.0</td>\n",
       "      <td>NaN</td>\n",
       "      <td>NaN</td>\n",
       "      <td>2.0</td>\n",
       "      <td>NaN</td>\n",
       "      <td>NaN</td>\n",
       "      <td>2.0</td>\n",
       "      <td>NaN</td>\n",
       "      <td>NaN</td>\n",
       "      <td>2.0</td>\n",
       "      <td>NaN</td>\n",
       "      <td>NaN</td>\n",
       "      <td>2.0</td>\n",
       "      <td>NaN</td>\n",
       "      <td>NaN</td>\n",
       "      <td>720.0</td>\n",
       "    </tr>\n",
       "  </tbody>\n",
       "</table>\n",
       "<p>5856 rows × 16 columns</p>\n",
       "</div>"
      ],
      "text/plain": [
       "        PAQ605  PAQ610  PAD615  PAQ620  ...  PAQ665  PAQ670  PAD675  PAD680\n",
       "SEQN                                    ...                                \n",
       "93705      2.0     NaN     NaN     2.0  ...     1.0     2.0    60.0   300.0\n",
       "93706      2.0     NaN     NaN     2.0  ...     1.0     2.0    30.0   240.0\n",
       "93708      2.0     NaN     NaN     2.0  ...     1.0     5.0    30.0   120.0\n",
       "93709      2.0     NaN     NaN     1.0  ...     2.0     NaN     NaN   600.0\n",
       "93711      2.0     NaN     NaN     2.0  ...     1.0     2.0    30.0   420.0\n",
       "...        ...     ...     ...     ...  ...     ...     ...     ...     ...\n",
       "102950     2.0     NaN     NaN     2.0  ...     2.0     NaN     NaN    60.0\n",
       "102952     2.0     NaN     NaN     2.0  ...     1.0     6.0    60.0   120.0\n",
       "102953     1.0     3.0   240.0     1.0  ...     2.0     NaN     NaN   360.0\n",
       "102954     2.0     NaN     NaN     2.0  ...     1.0     2.0    30.0   600.0\n",
       "102956     2.0     NaN     NaN     2.0  ...     2.0     NaN     NaN   720.0\n",
       "\n",
       "[5856 rows x 16 columns]"
      ]
     },
     "execution_count": 172,
     "metadata": {},
     "output_type": "execute_result"
    }
   ],
   "source": [
    "activity"
   ]
  },
  {
   "cell_type": "code",
   "execution_count": 173,
   "metadata": {},
   "outputs": [
    {
     "data": {
      "text/plain": [
       "Index(['PAQ605', 'PAQ610', 'PAD615', 'PAQ620', 'PAQ625', 'PAD630', 'PAQ635',\n",
       "       'PAQ640', 'PAD645', 'PAQ650', 'PAQ655', 'PAD660', 'PAQ665', 'PAQ670',\n",
       "       'PAD675', 'PAD680'],\n",
       "      dtype='object')"
      ]
     },
     "execution_count": 173,
     "metadata": {},
     "output_type": "execute_result"
    }
   ],
   "source": [
    "activity.columns"
   ]
  },
  {
   "cell_type": "code",
   "execution_count": 174,
   "metadata": {},
   "outputs": [],
   "source": [
    "keepcols_activity = ['PAD615', 'PAQ610', 'PAD630', 'PAQ625', 'PAQ640', 'PAD645', 'PAD660', \n",
    "                     'PAQ655', 'PAD675', 'PAQ670', 'PAD680']\n",
    "mapper_activity = {'PAD615':'work_vigorous_minperday', \n",
    "                   'PAQ610': 'work_vigorous_daysperweek',\n",
    "                   'PAD630': 'work_moderate_minperday', \n",
    "                   'PAQ625': 'work_moderate_daysperweek',\n",
    "                   'PAD645': 'transportation_minperday', \n",
    "                   'PAQ640': 'transportation_daysperweek',\n",
    "                   'PAD660': 'recreation_vigorous_minperday', \n",
    "                   'PAQ655': 'recreation_vigorous_daysperweek',\n",
    "                   'PAD675': 'recreation_moderate_minperday', \n",
    "                   'PAQ670': 'recreation_moderate_daysperweek',\n",
    "                   'PAD680': 'sedentary_minsperday'}"
   ]
  },
  {
   "cell_type": "code",
   "execution_count": 175,
   "metadata": {
    "scrolled": false
   },
   "outputs": [
    {
     "data": {
      "text/html": [
       "<div>\n",
       "<style scoped>\n",
       "    .dataframe tbody tr th:only-of-type {\n",
       "        vertical-align: middle;\n",
       "    }\n",
       "\n",
       "    .dataframe tbody tr th {\n",
       "        vertical-align: top;\n",
       "    }\n",
       "\n",
       "    .dataframe thead th {\n",
       "        text-align: right;\n",
       "    }\n",
       "</style>\n",
       "<table border=\"1\" class=\"dataframe\">\n",
       "  <thead>\n",
       "    <tr style=\"text-align: right;\">\n",
       "      <th></th>\n",
       "      <th>work_vigorous_minperday</th>\n",
       "      <th>work_vigorous_daysperweek</th>\n",
       "      <th>work_moderate_minperday</th>\n",
       "      <th>work_moderate_daysperweek</th>\n",
       "      <th>transportation_daysperweek</th>\n",
       "      <th>transportation_minperday</th>\n",
       "      <th>recreation_vigorous_minperday</th>\n",
       "      <th>recreation_vigorous_daysperweek</th>\n",
       "      <th>recreation_moderate_minperday</th>\n",
       "      <th>recreation_moderate_daysperweek</th>\n",
       "      <th>sedentary_minsperday</th>\n",
       "    </tr>\n",
       "    <tr>\n",
       "      <th>SEQN</th>\n",
       "      <th></th>\n",
       "      <th></th>\n",
       "      <th></th>\n",
       "      <th></th>\n",
       "      <th></th>\n",
       "      <th></th>\n",
       "      <th></th>\n",
       "      <th></th>\n",
       "      <th></th>\n",
       "      <th></th>\n",
       "      <th></th>\n",
       "    </tr>\n",
       "  </thead>\n",
       "  <tbody>\n",
       "    <tr>\n",
       "      <th>93705</th>\n",
       "      <td>0.0</td>\n",
       "      <td>0.0</td>\n",
       "      <td>0.0</td>\n",
       "      <td>0.0</td>\n",
       "      <td>0.0</td>\n",
       "      <td>0.0</td>\n",
       "      <td>0.0</td>\n",
       "      <td>0.0</td>\n",
       "      <td>60.0</td>\n",
       "      <td>2.0</td>\n",
       "      <td>300.0</td>\n",
       "    </tr>\n",
       "    <tr>\n",
       "      <th>93706</th>\n",
       "      <td>0.0</td>\n",
       "      <td>0.0</td>\n",
       "      <td>0.0</td>\n",
       "      <td>0.0</td>\n",
       "      <td>5.0</td>\n",
       "      <td>45.0</td>\n",
       "      <td>0.0</td>\n",
       "      <td>0.0</td>\n",
       "      <td>30.0</td>\n",
       "      <td>2.0</td>\n",
       "      <td>240.0</td>\n",
       "    </tr>\n",
       "    <tr>\n",
       "      <th>93708</th>\n",
       "      <td>0.0</td>\n",
       "      <td>0.0</td>\n",
       "      <td>0.0</td>\n",
       "      <td>0.0</td>\n",
       "      <td>0.0</td>\n",
       "      <td>0.0</td>\n",
       "      <td>0.0</td>\n",
       "      <td>0.0</td>\n",
       "      <td>30.0</td>\n",
       "      <td>5.0</td>\n",
       "      <td>120.0</td>\n",
       "    </tr>\n",
       "    <tr>\n",
       "      <th>93709</th>\n",
       "      <td>0.0</td>\n",
       "      <td>0.0</td>\n",
       "      <td>180.0</td>\n",
       "      <td>2.0</td>\n",
       "      <td>0.0</td>\n",
       "      <td>0.0</td>\n",
       "      <td>0.0</td>\n",
       "      <td>0.0</td>\n",
       "      <td>0.0</td>\n",
       "      <td>0.0</td>\n",
       "      <td>600.0</td>\n",
       "    </tr>\n",
       "    <tr>\n",
       "      <th>93711</th>\n",
       "      <td>0.0</td>\n",
       "      <td>0.0</td>\n",
       "      <td>0.0</td>\n",
       "      <td>0.0</td>\n",
       "      <td>5.0</td>\n",
       "      <td>60.0</td>\n",
       "      <td>60.0</td>\n",
       "      <td>4.0</td>\n",
       "      <td>30.0</td>\n",
       "      <td>2.0</td>\n",
       "      <td>420.0</td>\n",
       "    </tr>\n",
       "    <tr>\n",
       "      <th>...</th>\n",
       "      <td>...</td>\n",
       "      <td>...</td>\n",
       "      <td>...</td>\n",
       "      <td>...</td>\n",
       "      <td>...</td>\n",
       "      <td>...</td>\n",
       "      <td>...</td>\n",
       "      <td>...</td>\n",
       "      <td>...</td>\n",
       "      <td>...</td>\n",
       "      <td>...</td>\n",
       "    </tr>\n",
       "    <tr>\n",
       "      <th>102950</th>\n",
       "      <td>0.0</td>\n",
       "      <td>0.0</td>\n",
       "      <td>0.0</td>\n",
       "      <td>0.0</td>\n",
       "      <td>0.0</td>\n",
       "      <td>0.0</td>\n",
       "      <td>0.0</td>\n",
       "      <td>0.0</td>\n",
       "      <td>0.0</td>\n",
       "      <td>0.0</td>\n",
       "      <td>60.0</td>\n",
       "    </tr>\n",
       "    <tr>\n",
       "      <th>102952</th>\n",
       "      <td>0.0</td>\n",
       "      <td>0.0</td>\n",
       "      <td>0.0</td>\n",
       "      <td>0.0</td>\n",
       "      <td>0.0</td>\n",
       "      <td>0.0</td>\n",
       "      <td>0.0</td>\n",
       "      <td>0.0</td>\n",
       "      <td>60.0</td>\n",
       "      <td>6.0</td>\n",
       "      <td>120.0</td>\n",
       "    </tr>\n",
       "    <tr>\n",
       "      <th>102953</th>\n",
       "      <td>240.0</td>\n",
       "      <td>3.0</td>\n",
       "      <td>240.0</td>\n",
       "      <td>3.0</td>\n",
       "      <td>0.0</td>\n",
       "      <td>0.0</td>\n",
       "      <td>0.0</td>\n",
       "      <td>0.0</td>\n",
       "      <td>0.0</td>\n",
       "      <td>0.0</td>\n",
       "      <td>360.0</td>\n",
       "    </tr>\n",
       "    <tr>\n",
       "      <th>102954</th>\n",
       "      <td>0.0</td>\n",
       "      <td>0.0</td>\n",
       "      <td>0.0</td>\n",
       "      <td>0.0</td>\n",
       "      <td>0.0</td>\n",
       "      <td>0.0</td>\n",
       "      <td>0.0</td>\n",
       "      <td>0.0</td>\n",
       "      <td>30.0</td>\n",
       "      <td>2.0</td>\n",
       "      <td>600.0</td>\n",
       "    </tr>\n",
       "    <tr>\n",
       "      <th>102956</th>\n",
       "      <td>0.0</td>\n",
       "      <td>0.0</td>\n",
       "      <td>0.0</td>\n",
       "      <td>0.0</td>\n",
       "      <td>0.0</td>\n",
       "      <td>0.0</td>\n",
       "      <td>0.0</td>\n",
       "      <td>0.0</td>\n",
       "      <td>0.0</td>\n",
       "      <td>0.0</td>\n",
       "      <td>720.0</td>\n",
       "    </tr>\n",
       "  </tbody>\n",
       "</table>\n",
       "<p>5856 rows × 11 columns</p>\n",
       "</div>"
      ],
      "text/plain": [
       "        work_vigorous_minperday  ...  sedentary_minsperday\n",
       "SEQN                             ...                      \n",
       "93705                       0.0  ...                 300.0\n",
       "93706                       0.0  ...                 240.0\n",
       "93708                       0.0  ...                 120.0\n",
       "93709                       0.0  ...                 600.0\n",
       "93711                       0.0  ...                 420.0\n",
       "...                         ...  ...                   ...\n",
       "102950                      0.0  ...                  60.0\n",
       "102952                      0.0  ...                 120.0\n",
       "102953                    240.0  ...                 360.0\n",
       "102954                      0.0  ...                 600.0\n",
       "102956                      0.0  ...                 720.0\n",
       "\n",
       "[5856 rows x 11 columns]"
      ]
     },
     "execution_count": 175,
     "metadata": {},
     "output_type": "execute_result"
    }
   ],
   "source": [
    "keep_activity = activity.copy()[keepcols_activity].rename(mapper=mapper_activity, axis=1).fillna(0)\n",
    "keep_activity"
   ]
  },
  {
   "cell_type": "code",
   "execution_count": 176,
   "metadata": {},
   "outputs": [],
   "source": [
    "days_cols = ['work_vigorous_daysperweek', 'work_moderate_daysperweek', 'transportation_daysperweek',\n",
    "            'recreation_vigorous_daysperweek', 'recreation_moderate_daysperweek']\n",
    "mins_cols = ['work_vigorous_minperday', 'work_moderate_minperday', 'transportation_minperday',\n",
    "            'recreation_vigorous_minperday', 'recreation_moderate_minperday', ]"
   ]
  },
  {
   "cell_type": "code",
   "execution_count": 177,
   "metadata": {
    "scrolled": true
   },
   "outputs": [
    {
     "name": "stdout",
     "output_type": "stream",
     "text": [
      "work_vigorous_daysperweek\n"
     ]
    },
    {
     "data": {
      "text/plain": [
       "0.0     4467\n",
       "5.0      384\n",
       "3.0      232\n",
       "2.0      178\n",
       "6.0      160\n",
       "4.0      153\n",
       "7.0      151\n",
       "1.0      130\n",
       "99.0       1\n",
       "Name: work_vigorous_daysperweek, dtype: int64"
      ]
     },
     "metadata": {},
     "output_type": "display_data"
    },
    {
     "name": "stdout",
     "output_type": "stream",
     "text": [
      "____________________________________________________________________________________________________\n",
      "work_moderate_daysperweek\n"
     ]
    },
    {
     "data": {
      "text/plain": [
       "0.0     3417\n",
       "5.0      702\n",
       "3.0      401\n",
       "7.0      331\n",
       "2.0      308\n",
       "4.0      307\n",
       "6.0      210\n",
       "1.0      174\n",
       "99.0       6\n",
       "Name: work_moderate_daysperweek, dtype: int64"
      ]
     },
     "metadata": {},
     "output_type": "display_data"
    },
    {
     "name": "stdout",
     "output_type": "stream",
     "text": [
      "____________________________________________________________________________________________________\n",
      "transportation_daysperweek\n"
     ]
    },
    {
     "data": {
      "text/plain": [
       "0.0     4417\n",
       "7.0      410\n",
       "5.0      332\n",
       "3.0      230\n",
       "2.0      177\n",
       "4.0      135\n",
       "6.0       87\n",
       "1.0       64\n",
       "99.0       4\n",
       "Name: transportation_daysperweek, dtype: int64"
      ]
     },
     "metadata": {},
     "output_type": "display_data"
    },
    {
     "name": "stdout",
     "output_type": "stream",
     "text": [
      "____________________________________________________________________________________________________\n",
      "recreation_vigorous_daysperweek\n"
     ]
    },
    {
     "data": {
      "text/plain": [
       "0.0     4422\n",
       "3.0      385\n",
       "2.0      269\n",
       "4.0      264\n",
       "5.0      207\n",
       "1.0      163\n",
       "7.0       73\n",
       "6.0       72\n",
       "99.0       1\n",
       "Name: recreation_vigorous_daysperweek, dtype: int64"
      ]
     },
     "metadata": {},
     "output_type": "display_data"
    },
    {
     "name": "stdout",
     "output_type": "stream",
     "text": [
      "____________________________________________________________________________________________________\n",
      "recreation_moderate_daysperweek\n"
     ]
    },
    {
     "data": {
      "text/plain": [
       "0.0     3548\n",
       "3.0      606\n",
       "2.0      491\n",
       "5.0      321\n",
       "4.0      293\n",
       "1.0      253\n",
       "7.0      250\n",
       "6.0       91\n",
       "99.0       3\n",
       "Name: recreation_moderate_daysperweek, dtype: int64"
      ]
     },
     "metadata": {},
     "output_type": "display_data"
    },
    {
     "name": "stdout",
     "output_type": "stream",
     "text": [
      "____________________________________________________________________________________________________\n"
     ]
    }
   ],
   "source": [
    "for col in days_cols:\n",
    "    print(col)\n",
    "    display(keep_activity[col].value_counts())\n",
    "    print('_____'*20)"
   ]
  },
  {
   "cell_type": "code",
   "execution_count": 178,
   "metadata": {},
   "outputs": [
    {
     "name": "stdout",
     "output_type": "stream",
     "text": [
      "work_vigorous_minperday\n"
     ]
    },
    {
     "data": {
      "text/plain": [
       "0.0       4475\n",
       "120.0      234\n",
       "60.0       194\n",
       "240.0      177\n",
       "180.0      130\n",
       "480.0      107\n",
       "30.0       106\n",
       "300.0       93\n",
       "360.0       80\n",
       "420.0       41\n",
       "10.0        40\n",
       "600.0       38\n",
       "15.0        31\n",
       "20.0        31\n",
       "90.0        23\n",
       "540.0       15\n",
       "45.0        14\n",
       "9999.0       6\n",
       "150.0        4\n",
       "40.0         4\n",
       "720.0        4\n",
       "25.0         2\n",
       "80.0         1\n",
       "12.0         1\n",
       "840.0        1\n",
       "35.0         1\n",
       "780.0        1\n",
       "140.0        1\n",
       "660.0        1\n",
       "Name: work_vigorous_minperday, dtype: int64"
      ]
     },
     "metadata": {},
     "output_type": "display_data"
    },
    {
     "name": "stdout",
     "output_type": "stream",
     "text": [
      "____________________________________________________________________________________________________\n",
      "work_moderate_minperday\n"
     ]
    },
    {
     "data": {
      "text/plain": [
       "0.0       3430\n",
       "120.0      449\n",
       "60.0       362\n",
       "240.0      317\n",
       "180.0      277\n",
       "30.0       206\n",
       "300.0      150\n",
       "480.0      131\n",
       "360.0      125\n",
       "10.0        76\n",
       "20.0        75\n",
       "15.0        55\n",
       "90.0        39\n",
       "420.0       38\n",
       "600.0       34\n",
       "45.0        28\n",
       "540.0       14\n",
       "9999.0      13\n",
       "40.0        11\n",
       "720.0        6\n",
       "150.0        6\n",
       "25.0         4\n",
       "50.0         2\n",
       "660.0        1\n",
       "12.0         1\n",
       "230.0        1\n",
       "70.0         1\n",
       "35.0         1\n",
       "840.0        1\n",
       "140.0        1\n",
       "210.0        1\n",
       "Name: work_moderate_minperday, dtype: int64"
      ]
     },
     "metadata": {},
     "output_type": "display_data"
    },
    {
     "name": "stdout",
     "output_type": "stream",
     "text": [
      "____________________________________________________________________________________________________\n",
      "transportation_minperday\n"
     ]
    },
    {
     "data": {
      "text/plain": [
       "0.0       4426\n",
       "30.0       333\n",
       "60.0       270\n",
       "20.0       176\n",
       "10.0       154\n",
       "15.0       119\n",
       "120.0      118\n",
       "40.0        45\n",
       "180.0       38\n",
       "45.0        36\n",
       "240.0       30\n",
       "90.0        28\n",
       "25.0        21\n",
       "300.0        8\n",
       "480.0        8\n",
       "360.0        6\n",
       "420.0        6\n",
       "50.0         5\n",
       "80.0         4\n",
       "9999.0       4\n",
       "12.0         3\n",
       "35.0         3\n",
       "14.0         2\n",
       "540.0        2\n",
       "75.0         1\n",
       "16.0         1\n",
       "22.0         1\n",
       "660.0        1\n",
       "150.0        1\n",
       "42.0         1\n",
       "17.0         1\n",
       "209.0        1\n",
       "110.0        1\n",
       "600.0        1\n",
       "230.0        1\n",
       "Name: transportation_minperday, dtype: int64"
      ]
     },
     "metadata": {},
     "output_type": "display_data"
    },
    {
     "name": "stdout",
     "output_type": "stream",
     "text": [
      "____________________________________________________________________________________________________\n",
      "recreation_vigorous_minperday\n"
     ]
    },
    {
     "data": {
      "text/plain": [
       "0.0       4425\n",
       "60.0       464\n",
       "120.0      240\n",
       "30.0       210\n",
       "45.0       110\n",
       "90.0       110\n",
       "180.0       90\n",
       "20.0        62\n",
       "40.0        29\n",
       "240.0       23\n",
       "15.0        18\n",
       "10.0        13\n",
       "25.0        11\n",
       "35.0        10\n",
       "150.0       10\n",
       "50.0         5\n",
       "75.0         5\n",
       "80.0         4\n",
       "300.0        4\n",
       "18.0         2\n",
       "480.0        2\n",
       "360.0        2\n",
       "23.0         1\n",
       "12.0         1\n",
       "11.0         1\n",
       "209.0        1\n",
       "420.0        1\n",
       "55.0         1\n",
       "9999.0       1\n",
       "Name: recreation_vigorous_minperday, dtype: int64"
      ]
     },
     "metadata": {},
     "output_type": "display_data"
    },
    {
     "name": "stdout",
     "output_type": "stream",
     "text": [
      "____________________________________________________________________________________________________\n",
      "recreation_moderate_minperday\n"
     ]
    },
    {
     "data": {
      "text/plain": [
       "0.0       3555\n",
       "60.0       641\n",
       "30.0       557\n",
       "120.0      260\n",
       "20.0       194\n",
       "45.0       123\n",
       "15.0       102\n",
       "90.0        80\n",
       "180.0       77\n",
       "10.0        73\n",
       "40.0        59\n",
       "240.0       54\n",
       "300.0       16\n",
       "25.0        16\n",
       "35.0         8\n",
       "50.0         7\n",
       "360.0        6\n",
       "80.0         4\n",
       "75.0         4\n",
       "480.0        4\n",
       "12.0         3\n",
       "22.0         2\n",
       "420.0        2\n",
       "150.0        2\n",
       "540.0        1\n",
       "55.0         1\n",
       "16.0         1\n",
       "28.0         1\n",
       "100.0        1\n",
       "210.0        1\n",
       "9999.0       1\n",
       "Name: recreation_moderate_minperday, dtype: int64"
      ]
     },
     "metadata": {},
     "output_type": "display_data"
    },
    {
     "name": "stdout",
     "output_type": "stream",
     "text": [
      "____________________________________________________________________________________________________\n"
     ]
    }
   ],
   "source": [
    "for col in mins_cols:\n",
    "    print(col)\n",
    "    display(keep_activity[col].value_counts())\n",
    "    print('_____'*20)"
   ]
  },
  {
   "cell_type": "code",
   "execution_count": 179,
   "metadata": {
    "scrolled": true
   },
   "outputs": [],
   "source": [
    "for col in days_cols:\n",
    "    keep_activity[col].replace({77.0: 0, 99.0:0}, inplace=True)\n",
    "for col in mins_cols:\n",
    "    keep_activity[col].replace({7777.0: 0, 9999.0: 0}, inplace=True)"
   ]
  },
  {
   "cell_type": "code",
   "execution_count": 180,
   "metadata": {
    "scrolled": true
   },
   "outputs": [
    {
     "name": "stdout",
     "output_type": "stream",
     "text": [
      "work_vigorous_daysperweek\n"
     ]
    },
    {
     "data": {
      "text/plain": [
       "0.0    4468\n",
       "5.0     384\n",
       "3.0     232\n",
       "2.0     178\n",
       "6.0     160\n",
       "4.0     153\n",
       "7.0     151\n",
       "1.0     130\n",
       "Name: work_vigorous_daysperweek, dtype: int64"
      ]
     },
     "metadata": {},
     "output_type": "display_data"
    },
    {
     "name": "stdout",
     "output_type": "stream",
     "text": [
      "____________________________________________________________________________________________________\n",
      "work_moderate_daysperweek\n"
     ]
    },
    {
     "data": {
      "text/plain": [
       "0.0    3423\n",
       "5.0     702\n",
       "3.0     401\n",
       "7.0     331\n",
       "2.0     308\n",
       "4.0     307\n",
       "6.0     210\n",
       "1.0     174\n",
       "Name: work_moderate_daysperweek, dtype: int64"
      ]
     },
     "metadata": {},
     "output_type": "display_data"
    },
    {
     "name": "stdout",
     "output_type": "stream",
     "text": [
      "____________________________________________________________________________________________________\n",
      "transportation_daysperweek\n"
     ]
    },
    {
     "data": {
      "text/plain": [
       "0.0    4421\n",
       "7.0     410\n",
       "5.0     332\n",
       "3.0     230\n",
       "2.0     177\n",
       "4.0     135\n",
       "6.0      87\n",
       "1.0      64\n",
       "Name: transportation_daysperweek, dtype: int64"
      ]
     },
     "metadata": {},
     "output_type": "display_data"
    },
    {
     "name": "stdout",
     "output_type": "stream",
     "text": [
      "____________________________________________________________________________________________________\n",
      "recreation_vigorous_daysperweek\n"
     ]
    },
    {
     "data": {
      "text/plain": [
       "0.0    4423\n",
       "3.0     385\n",
       "2.0     269\n",
       "4.0     264\n",
       "5.0     207\n",
       "1.0     163\n",
       "7.0      73\n",
       "6.0      72\n",
       "Name: recreation_vigorous_daysperweek, dtype: int64"
      ]
     },
     "metadata": {},
     "output_type": "display_data"
    },
    {
     "name": "stdout",
     "output_type": "stream",
     "text": [
      "____________________________________________________________________________________________________\n",
      "recreation_moderate_daysperweek\n"
     ]
    },
    {
     "data": {
      "text/plain": [
       "0.0    3551\n",
       "3.0     606\n",
       "2.0     491\n",
       "5.0     321\n",
       "4.0     293\n",
       "1.0     253\n",
       "7.0     250\n",
       "6.0      91\n",
       "Name: recreation_moderate_daysperweek, dtype: int64"
      ]
     },
     "metadata": {},
     "output_type": "display_data"
    },
    {
     "name": "stdout",
     "output_type": "stream",
     "text": [
      "____________________________________________________________________________________________________\n"
     ]
    }
   ],
   "source": [
    "for col in days_cols:\n",
    "    print(col)\n",
    "    display(keep_activity[col].value_counts())\n",
    "    print('_____'*20)"
   ]
  },
  {
   "cell_type": "code",
   "execution_count": null,
   "metadata": {},
   "outputs": [],
   "source": [
    "for col in mins_cols:\n",
    "    print(col)\n",
    "    display(keep_activity[col].value_counts())\n",
    "    print('_____'*20)"
   ]
  },
  {
   "cell_type": "code",
   "execution_count": null,
   "metadata": {},
   "outputs": [],
   "source": [
    "keep_activity['vigorous_activity_minsperweek'] =\\\n",
    "            (keep_activity['work_vigorous_daysperweek']*keep_activity['work_vigorous_minperday']) +\\\n",
    "            (keep_activity['recreation_vigorous_daysperweek']*keep_activity['recreation_vigorous_daysperweek'])\n",
    "\n",
    "keep_activity['moderate_activity_minsperweek'] =\\\n",
    "            (keep_activity['work_moderate_daysperweek']*keep_activity['work_moderate_minperday']) +\\\n",
    "            (keep_activity['recreation_moderate_daysperweek']*keep_activity['recreation_moderate_minperday']) +\\\n",
    "            (keep_activity['transportation_daysperweek']*keep_activity['transportation_minperday'])\n",
    "\n",
    "keep_activity"
   ]
  },
  {
   "cell_type": "code",
   "execution_count": null,
   "metadata": {},
   "outputs": [],
   "source": [
    "keep_activity2 = keep_activity[['sedentary_minsperday',\n",
    "                                'vigorous_activity_minsperweek',\n",
    "                                'moderate_activity_minsperweek']]\n",
    "keep_activity2"
   ]
  },
  {
   "cell_type": "code",
   "execution_count": null,
   "metadata": {},
   "outputs": [],
   "source": [
    "keep_activity2.describe().round(2)"
   ]
  },
  {
   "cell_type": "markdown",
   "metadata": {},
   "source": [
    "### Nicotine Usage\n",
    "\n",
    "https://wwwn.cdc.gov/Nchs/Nhanes/2017-2018/SMQ_J.htm#Component_Description\n",
    "\n",
    "History of cigarette and tobacco/nicotine product use per respondent, self-reported during interviews."
   ]
  },
  {
   "cell_type": "code",
   "execution_count": null,
   "metadata": {},
   "outputs": [],
   "source": [
    "smoking.head()"
   ]
  },
  {
   "cell_type": "code",
   "execution_count": null,
   "metadata": {},
   "outputs": [],
   "source": [
    "keepcols_smoking = ['SMQ020', 'SMQ040', 'SMQ905', 'SMQ915']\n",
    "mapper_smoking = {'SMQ020': 'lifetime_cigarette_smoker', \n",
    "                 'SMQ040': 'current_cigarette_smoker',\n",
    "                 'SMQ905': 'ecig_smoker',\n",
    "                 'SMQ915': 'smokeless_tobacco_user'}"
   ]
  },
  {
   "cell_type": "code",
   "execution_count": null,
   "metadata": {},
   "outputs": [],
   "source": [
    "keep_smoking = smoking[keepcols_smoking].rename(mapper=mapper_smoking, axis=1)\n",
    "keep_smoking.round(1)"
   ]
  },
  {
   "cell_type": "markdown",
   "metadata": {},
   "source": [
    "### Lab - A1C"
   ]
  },
  {
   "cell_type": "code",
   "execution_count": null,
   "metadata": {},
   "outputs": [],
   "source": [
    "a1c"
   ]
  },
  {
   "cell_type": "code",
   "execution_count": null,
   "metadata": {},
   "outputs": [],
   "source": [
    "a1c.rename(mapper={'LBXGH': 'glycohemoglobin'}, axis=1, inplace=True)"
   ]
  },
  {
   "cell_type": "code",
   "execution_count": null,
   "metadata": {},
   "outputs": [],
   "source": [
    "a1c.isna().sum()"
   ]
  },
  {
   "cell_type": "code",
   "execution_count": null,
   "metadata": {},
   "outputs": [],
   "source": [
    "a1c.dropna(inplace=True)"
   ]
  },
  {
   "cell_type": "code",
   "execution_count": null,
   "metadata": {},
   "outputs": [],
   "source": [
    "def diagnose_multiclass(a1c_value):\n",
    "    diagnosis = None\n",
    "    if a1c_value >= 6.5:\n",
    "        diagnosis = 'Diabetic'\n",
    "    if (a1c_value >= 5.7) & (a1c_value < 6.5):\n",
    "        diagnosis = 'Prediabetic'\n",
    "    if a1c_value < 5.7:\n",
    "        diagnosis = 'Normal'\n",
    "    return diagnosis"
   ]
  },
  {
   "cell_type": "code",
   "execution_count": null,
   "metadata": {},
   "outputs": [],
   "source": [
    "def diagnose_binary(a1c_value):\n",
    "    diagnosis = None\n",
    "    if (a1c_value >= 5.7):\n",
    "        diagnosis = 'Diabetic/Prediabetic'\n",
    "    if a1c_value < 5.7:\n",
    "        diagnosis = 'Normal'\n",
    "    return diagnosis"
   ]
  },
  {
   "cell_type": "code",
   "execution_count": null,
   "metadata": {
    "scrolled": false
   },
   "outputs": [],
   "source": [
    "a1c['calculated_diagnosis'] = a1c.glycohemoglobin.map(lambda x: diagnose_binary(x))\n",
    "a1c"
   ]
  },
  {
   "cell_type": "code",
   "execution_count": null,
   "metadata": {},
   "outputs": [],
   "source": [
    "display(a1c.calculated_diagnosis.value_counts())\n",
    "display(a1c.calculated_diagnosis.value_counts(normalize=True).round(2))"
   ]
  },
  {
   "cell_type": "markdown",
   "metadata": {},
   "source": [
    "# Merging and Preprocessing Data\n"
   ]
  },
  {
   "cell_type": "markdown",
   "metadata": {},
   "source": [
    "## Merge"
   ]
  },
  {
   "cell_type": "code",
   "execution_count": null,
   "metadata": {
    "scrolled": false
   },
   "outputs": [],
   "source": [
    "dfs = [a1c, keep_demographic, keep_insurance, keep_measures, keep_bp2, cholesterol, \n",
    "       keep_insulin, keep_activity2, keep_smoking]"
   ]
  },
  {
   "cell_type": "code",
   "execution_count": null,
   "metadata": {},
   "outputs": [],
   "source": [
    "col_count = 0\n",
    "for df in dfs:\n",
    "    col_count += len(list(df.columns))\n",
    "col_count"
   ]
  },
  {
   "cell_type": "code",
   "execution_count": null,
   "metadata": {},
   "outputs": [],
   "source": [
    "dfs_preds = dfs[1:]"
   ]
  },
  {
   "cell_type": "code",
   "execution_count": null,
   "metadata": {
    "scrolled": true
   },
   "outputs": [],
   "source": [
    "# Concatenated all data besides my target\n",
    "\n",
    "df_preds = pd.concat(dfs_preds, join='outer', axis=1)\n",
    "df_preds"
   ]
  },
  {
   "cell_type": "code",
   "execution_count": null,
   "metadata": {
    "scrolled": true
   },
   "outputs": [],
   "source": [
    "# left merge the predictors into the target to ensure my mega_df is ready for a supervised learning task\n",
    "\n",
    "mega_df = pd.merge(a1c, df_preds, how='left', on='SEQN')\n",
    "mega_df"
   ]
  },
  {
   "cell_type": "code",
   "execution_count": null,
   "metadata": {
    "scrolled": true
   },
   "outputs": [],
   "source": [
    "mega_df.info()"
   ]
  },
  {
   "cell_type": "markdown",
   "metadata": {},
   "source": [
    "## Unencode Values, Deal with Nulls"
   ]
  },
  {
   "cell_type": "code",
   "execution_count": null,
   "metadata": {},
   "outputs": [],
   "source": [
    "preprocessing_vcnulls(mega_df, 'calculated_diagnosis')"
   ]
  },
  {
   "cell_type": "code",
   "execution_count": null,
   "metadata": {},
   "outputs": [],
   "source": [
    "mega_df['avg_pulse'].isna().sum()"
   ]
  },
  {
   "cell_type": "code",
   "execution_count": null,
   "metadata": {},
   "outputs": [],
   "source": [
    "mega_df['avg_pulse'].describe().round(2)"
   ]
  },
  {
   "cell_type": "markdown",
   "metadata": {},
   "source": [
    "Waist circumference, hip circumference, and pulse all seem like good options to impute using IterativeImputer."
   ]
  },
  {
   "cell_type": "code",
   "execution_count": null,
   "metadata": {
    "scrolled": true
   },
   "outputs": [],
   "source": [
    "mega_df['sedentary_minsperday'].describe().round(2)"
   ]
  },
  {
   "cell_type": "code",
   "execution_count": null,
   "metadata": {},
   "outputs": [],
   "source": [
    "mega_df['sedentary_minsperday'].replace({9999.0: mega_df['sedentary_minsperday'].mean()}, inplace=True)"
   ]
  },
  {
   "cell_type": "code",
   "execution_count": null,
   "metadata": {},
   "outputs": [],
   "source": [
    "mega_df['sedentary_minsperday'].describe().round(2)"
   ]
  },
  {
   "cell_type": "code",
   "execution_count": null,
   "metadata": {},
   "outputs": [],
   "source": [
    "mega_df['vigorous_activity_minsperweek'].describe().round(2)"
   ]
  },
  {
   "cell_type": "code",
   "execution_count": null,
   "metadata": {},
   "outputs": [],
   "source": [
    "mega_df['moderate_activity_minsperweek'].describe().round(2)"
   ]
  },
  {
   "cell_type": "markdown",
   "metadata": {},
   "source": [
    "Definitions of nicotine user features:\n",
    "- Lifetime cigarette smoker - respondent has smoked at least 100 cigarettes in their lifetime\n",
    "- Current cigarette smoker - respondent currently smokes every day or some days\n",
    "- E-cigarette smoker - respondent has smoked an ecigarette at least once in the last 30 days\n",
    "- Smokeless tobacco user - respondent has used smokeless tobacco at least once in the last 30 days"
   ]
  },
  {
   "cell_type": "code",
   "execution_count": null,
   "metadata": {},
   "outputs": [],
   "source": [
    "preprocessing_vcnulls(mega_df, 'lifetime_cigarette_smoker')"
   ]
  },
  {
   "cell_type": "code",
   "execution_count": null,
   "metadata": {
    "scrolled": true
   },
   "outputs": [],
   "source": [
    "mega_df['lifetime_cigarette_smoker'].replace({1.0: 'yes', 2.0: 'no'}, inplace=True)"
   ]
  },
  {
   "cell_type": "code",
   "execution_count": null,
   "metadata": {},
   "outputs": [],
   "source": [
    "mega_df.head()"
   ]
  },
  {
   "cell_type": "code",
   "execution_count": null,
   "metadata": {},
   "outputs": [],
   "source": [
    "preprocessing_vcnulls(mega_df, 'current_cigarette_smoker')"
   ]
  },
  {
   "cell_type": "code",
   "execution_count": null,
   "metadata": {
    "scrolled": true
   },
   "outputs": [],
   "source": [
    "mega_df['current_cigarette_smoker'].replace({1.0: 'yes',\n",
    "                                            2.0: 'yes',\n",
    "                                            3.0: 'no',\n",
    "                                            np.nan: 'no_answer'}, inplace=True)"
   ]
  },
  {
   "cell_type": "code",
   "execution_count": null,
   "metadata": {},
   "outputs": [],
   "source": [
    "preprocessing_vcnulls(mega_df, 'current_cigarette_smoker')"
   ]
  },
  {
   "cell_type": "code",
   "execution_count": null,
   "metadata": {},
   "outputs": [],
   "source": [
    "preprocessing_vcnulls(mega_df, 'ecig_smoker')"
   ]
  },
  {
   "cell_type": "code",
   "execution_count": null,
   "metadata": {},
   "outputs": [],
   "source": [
    "for ind, row in mega_df.iterrows():\n",
    "    if mega_df['ecig_smoker'][ind] > 0:\n",
    "        mega_df['ecig_smoker'][ind] = 'yes' "
   ]
  },
  {
   "cell_type": "code",
   "execution_count": null,
   "metadata": {},
   "outputs": [],
   "source": [
    "mega_df['ecig_smoker'].fillna('no', inplace=True)"
   ]
  },
  {
   "cell_type": "code",
   "execution_count": null,
   "metadata": {
    "scrolled": true
   },
   "outputs": [],
   "source": [
    "preprocessing_vcnulls(mega_df, 'ecig_smoker')"
   ]
  },
  {
   "cell_type": "code",
   "execution_count": null,
   "metadata": {},
   "outputs": [],
   "source": [
    "preprocessing_vcnulls(mega_df, 'smokeless_tobacco_user')"
   ]
  },
  {
   "cell_type": "code",
   "execution_count": null,
   "metadata": {},
   "outputs": [],
   "source": [
    "for ind, row in mega_df.iterrows():\n",
    "    if mega_df['smokeless_tobacco_user'][ind] > 0:\n",
    "        mega_df['smokeless_tobacco_user'][ind] = 'yes' \n",
    "        \n",
    "mega_df['smokeless_tobacco_user'].fillna('no', inplace=True)"
   ]
  },
  {
   "cell_type": "code",
   "execution_count": null,
   "metadata": {},
   "outputs": [],
   "source": [
    "preprocessing_vcnulls(mega_df, 'smokeless_tobacco_user')"
   ]
  },
  {
   "cell_type": "markdown",
   "metadata": {},
   "source": [
    "For the first model, I will seek to predict diabetes diagnosis using only easily-accessible features - i.e., questionnaire responses, height, weight, BMI, and blood pressure. "
   ]
  },
  {
   "cell_type": "code",
   "execution_count": null,
   "metadata": {
    "scrolled": true
   },
   "outputs": [],
   "source": [
    "qx_df = mega_df.drop(columns=['avg_systolic', 'avg_diastolic', 'triglyceride', 'cholesterol_ldl',\n",
    "                             'cholesterol_hdl', 'cholesterol_total', 'insulin'])\n",
    "qx_df"
   ]
  },
  {
   "cell_type": "code",
   "execution_count": null,
   "metadata": {},
   "outputs": [],
   "source": [
    "qx_df.isna().any(axis=1).sum()"
   ]
  },
  {
   "cell_type": "markdown",
   "metadata": {},
   "source": [
    "## IterativeImputer\n",
    "I decided to experiment with scikit-learn's experimental IterativeImputer class to fill my remaining null values, which models each feature with missing values as a function of other features, and uses that estimation for imputation. [Read more here](https://scikit-learn.org/stable/modules/impute.html#:~:text=3.-,Multivariate%20feature%20imputation,uses%20that%20estimate%20for%20imputation.&text=Then%2C%20the%20regressor%20is%20used,the%20missing%20values%20of%20y%20.).\n",
    "\n",
    "In order to use the IterativeImputer, I need to encode all my columns now."
   ]
  },
  {
   "cell_type": "code",
   "execution_count": null,
   "metadata": {},
   "outputs": [],
   "source": [
    "from sklearn.experimental import enable_iterative_imputer\n",
    "from sklearn.impute import IterativeImputer"
   ]
  },
  {
   "cell_type": "code",
   "execution_count": null,
   "metadata": {},
   "outputs": [],
   "source": [
    "qx_df_encoded = pd.get_dummies(qx_df, drop_first=True, dtype='float').reset_index()\n",
    "qx_df_encoded.head()"
   ]
  },
  {
   "cell_type": "code",
   "execution_count": null,
   "metadata": {},
   "outputs": [],
   "source": [
    "itimp = IterativeImputer(max_iter=5, random_state=123)\n",
    "itimp.fit(qx_df_encoded)\n",
    "\n",
    "qx_df_imputed = pd.DataFrame(itimp.transform(qx_df_encoded), columns=qx_df_encoded.columns)"
   ]
  },
  {
   "cell_type": "code",
   "execution_count": null,
   "metadata": {
    "scrolled": true
   },
   "outputs": [],
   "source": [
    "qx_df_imputed.isna().sum()"
   ]
  },
  {
   "cell_type": "code",
   "execution_count": null,
   "metadata": {},
   "outputs": [],
   "source": [
    "qx_df_imputed['SEQN'] = qx_df_imputed['SEQN'].astype(int)"
   ]
  },
  {
   "cell_type": "code",
   "execution_count": null,
   "metadata": {},
   "outputs": [],
   "source": [
    "qx_df_imputed.set_index('SEQN', inplace=True)"
   ]
  },
  {
   "cell_type": "code",
   "execution_count": null,
   "metadata": {},
   "outputs": [],
   "source": [
    "qx_df_imputed.head()"
   ]
  },
  {
   "cell_type": "markdown",
   "metadata": {},
   "source": [
    "## Train-Test Split & Address Class Imbalance"
   ]
  },
  {
   "cell_type": "code",
   "execution_count": null,
   "metadata": {},
   "outputs": [],
   "source": [
    "from sklearn.model_selection import train_test_split"
   ]
  },
  {
   "cell_type": "code",
   "execution_count": null,
   "metadata": {},
   "outputs": [],
   "source": [
    "y = qx_df_imputed['calculated_diagnosis_Normal']\n",
    "X = qx_df_imputed.drop(['glycohemoglobin', 'calculated_diagnosis_Normal'], axis=1)\n",
    "X_train , X_test, y_train, y_test = train_test_split(X, y, test_size=0.3, random_state=123)"
   ]
  },
  {
   "cell_type": "code",
   "execution_count": null,
   "metadata": {},
   "outputs": [],
   "source": [
    "display(X_train.head())\n",
    "display(y_train.head())"
   ]
  },
  {
   "cell_type": "markdown",
   "metadata": {},
   "source": [
    "## Class Balance"
   ]
  },
  {
   "cell_type": "code",
   "execution_count": null,
   "metadata": {},
   "outputs": [],
   "source": [
    "# checking for class imbalance in my target, using pre-encoded data for ease\n",
    "print(y.value_counts())\n",
    "print('___'*15)\n",
    "print(y.value_counts(normalize=True).round(3))"
   ]
  },
  {
   "cell_type": "code",
   "execution_count": null,
   "metadata": {},
   "outputs": [],
   "source": [
    "# from imblearn.over_sampling import SMOTE"
   ]
  },
  {
   "cell_type": "code",
   "execution_count": null,
   "metadata": {},
   "outputs": [],
   "source": [
    "# smote = SMOTE()\n",
    "# X_train_bal, y_train_bal = smote.fit_sample(X_train, y_train)\n",
    "# print('0.0 = Diabetic/Prediabetic')\n",
    "# print('1.0 = Normal\\n')\n",
    "\n",
    "# print(y_train_bal.value_counts())"
   ]
  },
  {
   "cell_type": "markdown",
   "metadata": {},
   "source": [
    "## Normalize Data"
   ]
  },
  {
   "cell_type": "code",
   "execution_count": null,
   "metadata": {},
   "outputs": [],
   "source": [
    "from sklearn.preprocessing import StandardScaler"
   ]
  },
  {
   "cell_type": "code",
   "execution_count": null,
   "metadata": {},
   "outputs": [],
   "source": [
    "scaler = StandardScaler()\n",
    "X_train_scaled = pd.DataFrame(scaler.fit_transform(X_train), columns=X_train.columns)\n",
    "X_test_scaled = pd.DataFrame(scaler.fit_transform(X_test), columns=X_test.columns)\n",
    "X_train_scaled"
   ]
  },
  {
   "cell_type": "markdown",
   "metadata": {},
   "source": [
    "# Classification Models"
   ]
  },
  {
   "cell_type": "code",
   "execution_count": null,
   "metadata": {},
   "outputs": [],
   "source": [
    "from sklearn.metrics import classification_report, plot_confusion_matrix, accuracy_score, roc_curve, auc, f1_score\n",
    "from sklearn.linear_model import LogisticRegression"
   ]
  },
  {
   "cell_type": "code",
   "execution_count": null,
   "metadata": {},
   "outputs": [],
   "source": [
    "model_stats = pd.DataFrame(columns=['Model', 'Train AUC', 'Test AUC', \n",
    "                                    'Train Accuracy', 'Test Accuracy',\n",
    "                                    'Train F1 Score', 'Test F1 Score'])"
   ]
  },
  {
   "cell_type": "code",
   "execution_count": null,
   "metadata": {},
   "outputs": [],
   "source": [
    "def check_fit(model, X_train, y_train, X_test, y_test):\n",
    "    stats = pd.DataFrame(index=['Training', 'Testing'], columns=['Accuracy', 'F1 Score'])\n",
    "    y_train_pred = model.predict(X_train)\n",
    "    stats['Accuracy']['Training'] = accuracy_score(y_train, y_train_pred)\n",
    "    stats['F1 Score']['Training'] = f1_score(y_train, y_train_pred)\n",
    "    y_test_pred = model.predict(X_test)\n",
    "    stats['Accuracy']['Testing'] = accuracy_score(y_test, y_test_pred)\n",
    "    stats['F1 Score']['Testing'] = f1_score(y_test, y_test_pred)\n",
    "    return stats\n",
    "\n",
    "def evaluate_classifier(model, X_train, y_train, X_test, y_test, cmap='Blues', track=True):\n",
    "    model.fit(X_train, y_train)\n",
    "    print('CHECK FOR OVERFITTING - seek for test data to perform almost as well as train data')\n",
    "    display(check_fit(model, X_train, y_train, X_test, y_test))\n",
    "    print('___'*20)\n",
    "    \n",
    "    y_test_pred = model.predict(X_test)\n",
    "    test_acc = accuracy_score(y_test, y_test_pred)\n",
    "    y_train_pred = model.predict(X_train)\n",
    "    train_acc = accuracy_score(y_train, y_train_pred)\n",
    "    print('\\nCHECK ACCURACY, PRECISION, RECALL, & F1 SCORE - seek to maximize accuracy and F1 score\\n')\n",
    "    print(classification_report(y_test, y_test_pred))\n",
    "    plot_confusion_matrix(model, X_test, y_test, normalize='all', cmap=cmap)\n",
    "    print('___'*20)\n",
    "    \n",
    "    print('\\nCHECK Test ROC CURVE - seek to maximize area under the curve\\n')\n",
    "    y_score_train = model.predict_proba(X_train)\n",
    "    fpr_train, tpr_train, thresholds_train = roc_curve(y_train, y_score_train[:,1])\n",
    "    train_auc = auc(fpr_train, tpr_train)\n",
    "    \n",
    "    y_score = model.predict_proba(X_test)\n",
    "    fpr, tpr, thresholds = roc_curve(y_test, y_score[:,1])\n",
    "    test_auc = auc(fpr, tpr)\n",
    "    print('AUC: {}'.format(test_auc))\n",
    "    plt.figure(figsize=(6,4))\n",
    "    plt.plot(fpr, tpr, color='darkorange', label='ROC curve')\n",
    "    plt.plot([0,1], [0,1], color='navy', linestyle='--')\n",
    "    plt.xlabel('False Positive Rate')\n",
    "    plt.ylabel('True Positive Rate')\n",
    "    plt.title('Receiver Operating Characteristic (ROC) Curve')\n",
    "    plt.legend(loc='lower right')\n",
    "    plt.show()\n",
    "    \n",
    "    if track:\n",
    "        model_stats['Model'] = str(model)\n",
    "        try:\n",
    "            model_stats['Train AUC'] = train_auc.round(4)\n",
    "        except Exception:\n",
    "            pass\n",
    "        try:\n",
    "            model_stats['Test AUC'] = test_auc.round(4)\n",
    "        except Exception:\n",
    "            pass\n",
    "        try:\n",
    "            model_stats['Train Accuracy'] = train_acc.round(4)\n",
    "        except Exception:\n",
    "            pass\n",
    "        try:\n",
    "            model_stats['Test Accuracy'] = test_acc.round(4)\n",
    "        except Exception:\n",
    "            pass\n",
    "        try:\n",
    "            model_stats['Train F1 Score'] = model.f1_score(y_train, y_train_pred).round(4)\n",
    "        except Exception:\n",
    "            pass\n",
    "        try:\n",
    "            model_stats['Test F1 Score'] = model.f1_score(y_test, y_test_pred).round(4)\n",
    "        except Exception:\n",
    "            pass\n",
    "\n",
    "        return model_stats\n"
   ]
  },
  {
   "cell_type": "markdown",
   "metadata": {},
   "source": [
    "## Dummy Model - for comparison only"
   ]
  },
  {
   "cell_type": "code",
   "execution_count": null,
   "metadata": {},
   "outputs": [],
   "source": [
    "from sklearn.dummy import DummyClassifier"
   ]
  },
  {
   "cell_type": "code",
   "execution_count": null,
   "metadata": {},
   "outputs": [],
   "source": [
    "dummy_clf = DummyClassifier(strategy='stratified')"
   ]
  },
  {
   "cell_type": "markdown",
   "metadata": {},
   "source": [
    "### Scaled data"
   ]
  },
  {
   "cell_type": "code",
   "execution_count": null,
   "metadata": {},
   "outputs": [],
   "source": [
    "evaluate_classifier(dummy_clf, X_train_scaled, y_train, X_test_scaled, y_test, cmap='Blues', track=False)"
   ]
  },
  {
   "cell_type": "markdown",
   "metadata": {},
   "source": [
    "### Unscaled data"
   ]
  },
  {
   "cell_type": "code",
   "execution_count": null,
   "metadata": {},
   "outputs": [],
   "source": [
    "evaluate_classifier(dummy_clf, X_train, y_train, X_test, y_test, track=False)"
   ]
  },
  {
   "cell_type": "markdown",
   "metadata": {},
   "source": [
    "## Logistic Regression"
   ]
  },
  {
   "cell_type": "code",
   "execution_count": null,
   "metadata": {
    "scrolled": true
   },
   "outputs": [],
   "source": [
    "log_clf = LogisticRegression()"
   ]
  },
  {
   "cell_type": "markdown",
   "metadata": {},
   "source": [
    "### Scaled data"
   ]
  },
  {
   "cell_type": "code",
   "execution_count": null,
   "metadata": {
    "scrolled": false
   },
   "outputs": [],
   "source": [
    "evaluate_classifier(log_clf, X_train_scaled, y_train, X_test_scaled, y_test, cmap='Blues')"
   ]
  },
  {
   "cell_type": "markdown",
   "metadata": {},
   "source": [
    "### Unscaled data"
   ]
  },
  {
   "cell_type": "code",
   "execution_count": null,
   "metadata": {},
   "outputs": [],
   "source": [
    "evaluate_classifier(log_clf, X_train, y_train, X_test, y_test)"
   ]
  },
  {
   "cell_type": "markdown",
   "metadata": {},
   "source": [
    "## K-Nearest Neighbors"
   ]
  },
  {
   "cell_type": "code",
   "execution_count": null,
   "metadata": {},
   "outputs": [],
   "source": [
    "from sklearn.neighbors import KNeighborsClassifier"
   ]
  },
  {
   "cell_type": "code",
   "execution_count": null,
   "metadata": {},
   "outputs": [],
   "source": [
    "knn_clf = KNeighborsClassifier()"
   ]
  },
  {
   "cell_type": "markdown",
   "metadata": {},
   "source": [
    "### Scaled data"
   ]
  },
  {
   "cell_type": "code",
   "execution_count": null,
   "metadata": {},
   "outputs": [],
   "source": [
    "evaluate_classifier(knn_clf, X_train_scaled, y_train, X_test_scaled, y_test)"
   ]
  },
  {
   "cell_type": "markdown",
   "metadata": {},
   "source": [
    "## Decision Tree"
   ]
  },
  {
   "cell_type": "markdown",
   "metadata": {},
   "source": [
    "### Single Tree Classifier"
   ]
  },
  {
   "cell_type": "code",
   "execution_count": null,
   "metadata": {},
   "outputs": [],
   "source": [
    "from sklearn.tree import DecisionTreeClassifier\n",
    "from sklearn import tree"
   ]
  },
  {
   "cell_type": "code",
   "execution_count": null,
   "metadata": {},
   "outputs": [],
   "source": [
    "dt_clf = DecisionTreeClassifier(criterion='entropy', max_depth=10)"
   ]
  },
  {
   "cell_type": "code",
   "execution_count": null,
   "metadata": {},
   "outputs": [],
   "source": [
    "evaluate_classifier(dt_clf, X_train, y_train, X_test, y_test)"
   ]
  },
  {
   "cell_type": "code",
   "execution_count": null,
   "metadata": {},
   "outputs": [],
   "source": [
    "feat_importance_zip = dict(zip(X_train.columns, dt_clf.fit(X_train, y_train).feature_importances_))\n",
    "feat_importance_zip = sorted(feat_importance_zip.items(), key=lambda item: item[1], reverse=True)\n",
    "feat_importance_df = pd.DataFrame(feat_importance_zip, columns=['feature', 'importance'])"
   ]
  },
  {
   "cell_type": "code",
   "execution_count": null,
   "metadata": {
    "scrolled": true
   },
   "outputs": [],
   "source": [
    "feat_importance_df"
   ]
  },
  {
   "cell_type": "code",
   "execution_count": null,
   "metadata": {},
   "outputs": [],
   "source": [
    "top_10_feats = feat_importance_df[0:10]\n",
    "top_10_feats = top_10_feats.sort_values('importance', ascending=True)"
   ]
  },
  {
   "cell_type": "code",
   "execution_count": null,
   "metadata": {
    "scrolled": false
   },
   "outputs": [],
   "source": [
    "plt.figure(figsize=(8,6))\n",
    "plt.barh(y=top_10_feats['feature'], width=top_10_feats['importance'], color='rebeccapurple')\n",
    "plt.title('Top 10 Features Used In Decision Tree');"
   ]
  },
  {
   "cell_type": "markdown",
   "metadata": {},
   "source": [
    "### Random Forest"
   ]
  },
  {
   "cell_type": "code",
   "execution_count": null,
   "metadata": {},
   "outputs": [],
   "source": [
    "from sklearn.ensemble import BaggingClassifier"
   ]
  },
  {
   "cell_type": "code",
   "execution_count": null,
   "metadata": {},
   "outputs": [],
   "source": [
    "rf_clf = BaggingClassifier(base_estimator=DecisionTreeClassifier(), n_estimators=20)"
   ]
  },
  {
   "cell_type": "code",
   "execution_count": null,
   "metadata": {},
   "outputs": [],
   "source": [
    "evaluate_classifier(rf_clf, X_train, y_train, X_test, y_test)"
   ]
  },
  {
   "cell_type": "code",
   "execution_count": null,
   "metadata": {},
   "outputs": [],
   "source": [
    "from sklearn.model_selection import GridSearchCV, cross_val_score"
   ]
  },
  {
   "cell_type": "code",
   "execution_count": null,
   "metadata": {},
   "outputs": [],
   "source": [
    "dt_clf = DecisionTreeClassifier()"
   ]
  },
  {
   "cell_type": "code",
   "execution_count": null,
   "metadata": {},
   "outputs": [],
   "source": [
    "dt_cv_score = cross_val_score(dt_clf, X_train, y_train, cv=5)\n",
    "mean_dt_score = np.mean(dt_cv_score)\n",
    "mean_dt_score"
   ]
  },
  {
   "cell_type": "code",
   "execution_count": null,
   "metadata": {},
   "outputs": [],
   "source": [
    "dt_param_grid = {'criterion': ['entropy', 'gini'],\n",
    "                'max_depth': [None, 3, 5, 7, 10, 15, 20],\n",
    "#                 'min_samples_split': [None, 3, 4, 5, 10],\n",
    "                'max_features': [None, 5, 7, 9, 11, 13, 15]}"
   ]
  },
  {
   "cell_type": "code",
   "execution_count": null,
   "metadata": {},
   "outputs": [],
   "source": [
    "dt_grid_search = GridSearchCV(dt_clf, dt_param_grid, cv=5, return_train_score=True).fit(X_train, y_train)"
   ]
  },
  {
   "cell_type": "code",
   "execution_count": null,
   "metadata": {
    "scrolled": true
   },
   "outputs": [],
   "source": [
    "evaluate_classifier(dt_grid_search, X_train, y_train, X_test, y_test)"
   ]
  },
  {
   "cell_type": "code",
   "execution_count": null,
   "metadata": {},
   "outputs": [],
   "source": [
    "dt_grid_search.best_params_"
   ]
  },
  {
   "cell_type": "markdown",
   "metadata": {},
   "source": [
    "## Boosting Ensemble Methods"
   ]
  },
  {
   "cell_type": "markdown",
   "metadata": {},
   "source": [
    "### AdaBoost"
   ]
  },
  {
   "cell_type": "code",
   "execution_count": null,
   "metadata": {},
   "outputs": [],
   "source": [
    "from sklearn.ensemble import AdaBoostClassifier"
   ]
  },
  {
   "cell_type": "code",
   "execution_count": null,
   "metadata": {},
   "outputs": [],
   "source": [
    "ab_clf = AdaBoostClassifier()"
   ]
  },
  {
   "cell_type": "code",
   "execution_count": null,
   "metadata": {},
   "outputs": [],
   "source": [
    "evaluate_classifier(ab_clf, X_train, y_train, X_test, y_test)"
   ]
  },
  {
   "cell_type": "markdown",
   "metadata": {},
   "source": [
    "### GradientBoosting"
   ]
  },
  {
   "cell_type": "code",
   "execution_count": null,
   "metadata": {},
   "outputs": [],
   "source": [
    "from sklearn.ensemble import GradientBoostingClassifier"
   ]
  },
  {
   "cell_type": "code",
   "execution_count": null,
   "metadata": {},
   "outputs": [],
   "source": [
    "gb_clf = GradientBoostingClassifier()"
   ]
  },
  {
   "cell_type": "code",
   "execution_count": null,
   "metadata": {},
   "outputs": [],
   "source": [
    "evaluate_classifier(gb_clf, X_train, y_train, X_test, y_test)"
   ]
  },
  {
   "cell_type": "markdown",
   "metadata": {},
   "source": [
    "### XGBoost - unscaled"
   ]
  },
  {
   "cell_type": "code",
   "execution_count": null,
   "metadata": {},
   "outputs": [],
   "source": [
    "from xgboost import XGBClassifier"
   ]
  },
  {
   "cell_type": "code",
   "execution_count": null,
   "metadata": {},
   "outputs": [],
   "source": [
    "xgb_clf = XGBClassifier()"
   ]
  },
  {
   "cell_type": "code",
   "execution_count": null,
   "metadata": {},
   "outputs": [],
   "source": [
    "evaluate_classifier(xgb_clf, X_train, y_train, X_test, y_test)"
   ]
  },
  {
   "cell_type": "markdown",
   "metadata": {},
   "source": [
    "### XGBoost - scaled"
   ]
  },
  {
   "cell_type": "code",
   "execution_count": null,
   "metadata": {},
   "outputs": [],
   "source": [
    "evaluate_classifier(xgb_clf, X_train_scaled, y_train, X_test_scaled, y_test)"
   ]
  },
  {
   "cell_type": "code",
   "execution_count": null,
   "metadata": {},
   "outputs": [],
   "source": []
  },
  {
   "cell_type": "markdown",
   "metadata": {},
   "source": [
    "# Caveats\n",
    "\n",
    "- This model is not intended to predict diabetes in children under 18 or pregnant women"
   ]
  },
  {
   "cell_type": "markdown",
   "metadata": {},
   "source": [
    "# Notes to self\n"
   ]
  },
  {
   "cell_type": "code",
   "execution_count": null,
   "metadata": {
    "scrolled": true
   },
   "outputs": [],
   "source": [
    "# contin_feats = []\n",
    "# cat_feats = []\n",
    "\n",
    "# for col in X.columns:\n",
    "#     if type(X[col].values[0]) == str:\n",
    "#         cat_feats.append(col)\n",
    "#     else:\n",
    "#         contin_feats.append(col)\n",
    "        \n",
    "# print(contin_feats)\n",
    "# print('_____'*10)\n",
    "# print(cat_feats)"
   ]
  },
  {
   "cell_type": "markdown",
   "metadata": {},
   "source": [
    "### Blood Pressure"
   ]
  },
  {
   "cell_type": "markdown",
   "metadata": {},
   "source": [
    "https://wwwn.cdc.gov/Nchs/Nhanes/2017-2018/BPXO_J.htm\n",
    "\n",
    "Blood pressure measures used in this analysis were taken using a digital upper-arm electronic blood pressure measurement device. 3 measurements were taken 60 seconds apart after the individual had been resting quietly in a seated position for 5 minutes. For the purposes of this analysis, I have calculated the average systolic and average diastolic measurements across the 3 readings."
   ]
  },
  {
   "cell_type": "code",
   "execution_count": null,
   "metadata": {
    "scrolled": true
   },
   "outputs": [],
   "source": [
    "# bp"
   ]
  },
  {
   "cell_type": "code",
   "execution_count": null,
   "metadata": {},
   "outputs": [],
   "source": [
    "# bp.columns"
   ]
  },
  {
   "cell_type": "code",
   "execution_count": null,
   "metadata": {},
   "outputs": [],
   "source": [
    "# keepcols_bp = ['BPXOSY1', 'BPXODI1', 'BPXOSY2', 'BPXODI2', 'BPXOSY3', \n",
    "#                'BPXODI3', 'BPXOPLS1', 'BPXOPLS2', 'BPXOPLS3']\n",
    "\n",
    "# mapper_bp = {'BPXOSY1': 'sys_1', \n",
    "#           'BPXODI1': 'dias_1',\n",
    "#           'BPXOSY2': 'sys_2',\n",
    "#           'BPXODI2': 'dias_2',\n",
    "#           'BPXOSY3': 'sys_3',\n",
    "#           'BPXODI3': 'dias_3',\n",
    "#           'BPXOPLS1': 'pulse_1',\n",
    "#           'BPXOPLS2': 'pulse_2',\n",
    "#           'BPXOPLS3': 'pulse_3'}"
   ]
  },
  {
   "cell_type": "code",
   "execution_count": null,
   "metadata": {},
   "outputs": [],
   "source": [
    "# keep_bp = bp[keepcols_bp]\n",
    "# keep_bp.rename(mapper=mapper_bp, axis=1, inplace=True)\n",
    "# keep_bp"
   ]
  },
  {
   "cell_type": "code",
   "execution_count": null,
   "metadata": {
    "scrolled": true
   },
   "outputs": [],
   "source": [
    "# keep_bp['avg_systolic'] = ((keep_bp['sys_1'] + keep_bp['sys_2'] + keep_bp['sys_3']) / 3).round(1)\n",
    "# keep_bp['avg_diastolic'] = ((keep_bp['dias_1'] + keep_bp['dias_2'] + keep_bp['dias_3']) / 3).round(1)\n",
    "# keep_bp['avg_pulse'] = ((keep_bp['pulse_1'] + keep_bp['pulse_2'] + keep_bp['pulse_3']) / 3).round(1)\n",
    "# keep_bp"
   ]
  },
  {
   "cell_type": "code",
   "execution_count": null,
   "metadata": {},
   "outputs": [],
   "source": [
    "# keep_bp2 = keep_bp[['avg_systolic', 'avg_diastolic', 'avg_pulse']]\n",
    "# keep_bp2"
   ]
  },
  {
   "cell_type": "markdown",
   "metadata": {},
   "source": [
    "### Lab - Cholesterol\n",
    "\n",
    "https://wwwn.cdc.gov/Nchs/Nhanes/2017-2018/TCHOL_J.htm\n",
    "\n",
    "https://wwwn.cdc.gov/Nchs/Nhanes/2017-2018/TRIGLY_J.htm\n",
    "\n",
    "https://wwwn.cdc.gov/Nchs/Nhanes/2017-2018/HDL_J.htm\n",
    "\n",
    "A complete cholesterol test — also called a lipid panel or lipid profile — is a blood test that can measure the amount of cholesterol and triglycerides in your blood. The blood lipids measurements in NHANES include total cholesterol, high-density lipoprotein cholesterol (HDL-C), low-density lipoproteins cholesterol (LDL-C), and triglycerides. \n",
    "\n",
    "* **Total cholesterol** - sum of your blood's cholesterol content\n",
    "    * Less than 200 mg/dL - desirable\n",
    "    * 200-239 mg/dL - borderline\n",
    "    * Greater than 240 mg/dL - high\n",
    "* **High-density lipoprotein (HDL) cholesterol** - the \"good\" cholesterol because it helps carry away LDL cholesterol, thus keeping arteries open and your blood flowing more freely.\n",
    "    * Greater than 60 mg/dL - best\n",
    "    * 40-59 mg/dL - good\n",
    "    * Less than 50 (women) or 40 (men) - poor\n",
    "* **Low-density lipoprotein (LDL) cholesterol** \"bad\" cholesterol; too much of it in your blood causes the buildup of fatty deposits (plaques) in your arteries (atherosclerosis), which reduces blood flow. These plaques sometimes rupture and can lead to a heart attack or stroke.\n",
    "    * Less than 100 mg/dL - optimal\n",
    "    * 100-129 mg/dL - high for those with coronary artery disease \n",
    "    * 130-159 mg/dL - borderline\n",
    "    * Greater than 160 mg/dL - high\n",
    "    * Greater than 190 mg/dL - very high\n",
    "* **Triglycerides** - a type of fat in the blood created from calories your body doesn't need. High triglyceride levels are associated with several factors, including being overweight, eating too many sweets or drinking too much alcohol, smoking, being sedentary, or having diabetes with elevated blood sugar levels.\n",
    "    * Less than 150 mg/dL - desirable\n",
    "    * 150-199 mg/dL - borderline\n",
    "    * 200-499 mg/dL - high\n",
    "    * Greater than 500 mg/dL - very high\n",
    "\n",
    "https://www.mayoclinic.org/tests-procedures/cholesterol-test/about/pac-20384601"
   ]
  },
  {
   "cell_type": "code",
   "execution_count": null,
   "metadata": {},
   "outputs": [],
   "source": [
    "# chol_total = chol_total.drop(columns='LBDTCSI').rename(mapper={'LBXTC': 'cholesterol_total'}, axis=1)\n",
    "# chol_total"
   ]
  },
  {
   "cell_type": "code",
   "execution_count": null,
   "metadata": {},
   "outputs": [],
   "source": [
    "# chol_hdl = chol_hdl.drop(columns='LBDHDDSI').rename(mapper={'LBDHDD': 'cholesterol_hdl'}, axis=1)\n",
    "# chol_hdl"
   ]
  },
  {
   "cell_type": "code",
   "execution_count": null,
   "metadata": {
    "scrolled": false
   },
   "outputs": [],
   "source": [
    "# chol_ldl"
   ]
  },
  {
   "cell_type": "code",
   "execution_count": null,
   "metadata": {},
   "outputs": [],
   "source": [
    "# chol_ldl.describe().round(1)"
   ]
  },
  {
   "cell_type": "code",
   "execution_count": null,
   "metadata": {
    "scrolled": true
   },
   "outputs": [],
   "source": [
    "# chol_ldl.columns"
   ]
  },
  {
   "cell_type": "code",
   "execution_count": null,
   "metadata": {},
   "outputs": [],
   "source": [
    "# keepcols_chol_ldl = ['LBXTR', 'LBDLDL']\n",
    "# mapper_chol_ldl = {'LBXTR': 'triglyceride', 'LBDLDL': 'cholesterol_ldl'}"
   ]
  },
  {
   "cell_type": "code",
   "execution_count": null,
   "metadata": {},
   "outputs": [],
   "source": [
    "# keep_chol_ldl = chol_ldl[keepcols_chol_ldl].rename(mapper=mapper_chol_ldl, axis=1)\n",
    "# keep_chol_ldl"
   ]
  },
  {
   "cell_type": "code",
   "execution_count": null,
   "metadata": {},
   "outputs": [],
   "source": [
    "# chol1 = pd.merge(keep_chol_ldl, chol_hdl, how='outer', on='SEQN')\n",
    "# chol1"
   ]
  },
  {
   "cell_type": "code",
   "execution_count": null,
   "metadata": {},
   "outputs": [],
   "source": [
    "# cholesterol = pd.merge(chol1, chol_total, how='outer', on='SEQN')\n",
    "# cholesterol"
   ]
  },
  {
   "cell_type": "markdown",
   "metadata": {},
   "source": [
    "### Lab - Insulin"
   ]
  },
  {
   "cell_type": "code",
   "execution_count": null,
   "metadata": {
    "scrolled": true
   },
   "outputs": [],
   "source": [
    "# insulin"
   ]
  },
  {
   "cell_type": "code",
   "execution_count": null,
   "metadata": {},
   "outputs": [],
   "source": [
    "# keep_insulin = pd.DataFrame(insulin['LBXIN'])\n",
    "# keep_insulin.rename(mapper={'LBXIN': 'insulin'}, axis=1, inplace=True)"
   ]
  },
  {
   "cell_type": "code",
   "execution_count": null,
   "metadata": {},
   "outputs": [],
   "source": [
    "# keep_insulin"
   ]
  },
  {
   "cell_type": "code",
   "execution_count": null,
   "metadata": {},
   "outputs": [],
   "source": []
  }
 ],
 "metadata": {
  "kernelspec": {
   "display_name": "learn-env",
   "language": "python",
   "name": "learn-env"
  },
  "language_info": {
   "codemirror_mode": {
    "name": "ipython",
    "version": 3
   },
   "file_extension": ".py",
   "mimetype": "text/x-python",
   "name": "python",
   "nbconvert_exporter": "python",
   "pygments_lexer": "ipython3",
   "version": "3.8.5"
  },
  "toc": {
   "base_numbering": 1,
   "nav_menu": {},
   "number_sections": true,
   "sideBar": true,
   "skip_h1_title": false,
   "title_cell": "Table of Contents",
   "title_sidebar": "Contents",
   "toc_cell": false,
   "toc_position": {
    "height": "calc(100% - 180px)",
    "left": "10px",
    "top": "150px",
    "width": "360px"
   },
   "toc_section_display": true,
   "toc_window_display": true
  },
  "varInspector": {
   "cols": {
    "lenName": 16,
    "lenType": 16,
    "lenVar": 40
   },
   "kernels_config": {
    "python": {
     "delete_cmd_postfix": "",
     "delete_cmd_prefix": "del ",
     "library": "var_list.py",
     "varRefreshCmd": "print(var_dic_list())"
    },
    "r": {
     "delete_cmd_postfix": ") ",
     "delete_cmd_prefix": "rm(",
     "library": "var_list.r",
     "varRefreshCmd": "cat(var_dic_list()) "
    }
   },
   "position": {
    "height": "654.492px",
    "left": "1309.49px",
    "right": "20px",
    "top": "109.996px",
    "width": "460px"
   },
   "types_to_exclude": [
    "module",
    "function",
    "builtin_function_or_method",
    "instance",
    "_Feature"
   ],
   "window_display": false
  }
 },
 "nbformat": 4,
 "nbformat_minor": 4
}
